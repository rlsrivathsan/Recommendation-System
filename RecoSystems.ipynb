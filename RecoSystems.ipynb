{
  "nbformat": 4,
  "nbformat_minor": 0,
  "metadata": {
    "colab": {
      "name": "RecoSystems.ipynb",
      "provenance": [],
      "collapsed_sections": []
    },
    "kernelspec": {
      "name": "python3",
      "display_name": "Python 3"
    },
    "accelerator": "TPU"
  },
  "cells": [
    {
      "cell_type": "code",
      "metadata": {
        "id": "SdZf8vuMz27r",
        "colab_type": "code",
        "colab": {}
      },
      "source": [
        "import pandas as pd \n",
        "import numpy as np\n",
        "import warnings\n",
        "warnings.filterwarnings('ignore')\n",
        "#importing ploting libraries\n",
        "import matplotlib.pyplot as plt\n",
        "#styling figures\n",
        "plt.rc('font',size=14)\n",
        "#importing seaborn for statistical plots\n",
        "import seaborn as sns\n",
        "from sklearn.model_selection import train_test_split\n",
        "#!pip install surprise\n",
        "from surprise import KNNWithMeans\n",
        "from surprise import SVD\n",
        "from surprise import SVDpp\n",
        "from surprise import SlopeOne\n",
        "from surprise import NMF\n",
        "from surprise import NormalPredictor\n",
        "from surprise import KNNBaseline\n",
        "from surprise import KNNBasic\n",
        "from surprise import KNNWithZScore\n",
        "from surprise import BaselineOnly\n",
        "from surprise import CoClustering\n",
        "from surprise import Dataset\n",
        "from surprise import Reader\n",
        "from surprise import accuracy\n",
        "from surprise.model_selection import train_test_split\n",
        "from surprise.model_selection.validation import cross_validate"
      ],
      "execution_count": 0,
      "outputs": []
    },
    {
      "cell_type": "code",
      "metadata": {
        "id": "bB9Keu1V0SPZ",
        "colab_type": "code",
        "colab": {
          "base_uri": "https://localhost:8080/",
          "height": 204
        },
        "outputId": "62227cff-0583-4cc4-dfd4-8227f37c13bc"
      },
      "source": [
        "ratings = pd.read_csv('ratings_Electronics.csv', header=None)\n",
        "ratings.head()"
      ],
      "execution_count": 3,
      "outputs": [
        {
          "output_type": "execute_result",
          "data": {
            "text/html": [
              "<div>\n",
              "<style scoped>\n",
              "    .dataframe tbody tr th:only-of-type {\n",
              "        vertical-align: middle;\n",
              "    }\n",
              "\n",
              "    .dataframe tbody tr th {\n",
              "        vertical-align: top;\n",
              "    }\n",
              "\n",
              "    .dataframe thead th {\n",
              "        text-align: right;\n",
              "    }\n",
              "</style>\n",
              "<table border=\"1\" class=\"dataframe\">\n",
              "  <thead>\n",
              "    <tr style=\"text-align: right;\">\n",
              "      <th></th>\n",
              "      <th>0</th>\n",
              "      <th>1</th>\n",
              "      <th>2</th>\n",
              "      <th>3</th>\n",
              "    </tr>\n",
              "  </thead>\n",
              "  <tbody>\n",
              "    <tr>\n",
              "      <th>0</th>\n",
              "      <td>AKM1MP6P0OYPR</td>\n",
              "      <td>0132793040</td>\n",
              "      <td>5.0</td>\n",
              "      <td>1.365811e+09</td>\n",
              "    </tr>\n",
              "    <tr>\n",
              "      <th>1</th>\n",
              "      <td>A2CX7LUOHB2NDG</td>\n",
              "      <td>0321732944</td>\n",
              "      <td>5.0</td>\n",
              "      <td>1.341101e+09</td>\n",
              "    </tr>\n",
              "    <tr>\n",
              "      <th>2</th>\n",
              "      <td>A2NWSAGRHCP8N5</td>\n",
              "      <td>0439886341</td>\n",
              "      <td>1.0</td>\n",
              "      <td>1.367194e+09</td>\n",
              "    </tr>\n",
              "    <tr>\n",
              "      <th>3</th>\n",
              "      <td>A2WNBOD3WNDNKT</td>\n",
              "      <td>0439886341</td>\n",
              "      <td>3.0</td>\n",
              "      <td>1.374451e+09</td>\n",
              "    </tr>\n",
              "    <tr>\n",
              "      <th>4</th>\n",
              "      <td>A1GI0U4ZRJA8WN</td>\n",
              "      <td>0439886341</td>\n",
              "      <td>1.0</td>\n",
              "      <td>1.334707e+09</td>\n",
              "    </tr>\n",
              "  </tbody>\n",
              "</table>\n",
              "</div>"
            ],
            "text/plain": [
              "                0           1    2             3\n",
              "0   AKM1MP6P0OYPR  0132793040  5.0  1.365811e+09\n",
              "1  A2CX7LUOHB2NDG  0321732944  5.0  1.341101e+09\n",
              "2  A2NWSAGRHCP8N5  0439886341  1.0  1.367194e+09\n",
              "3  A2WNBOD3WNDNKT  0439886341  3.0  1.374451e+09\n",
              "4  A1GI0U4ZRJA8WN  0439886341  1.0  1.334707e+09"
            ]
          },
          "metadata": {
            "tags": []
          },
          "execution_count": 3
        }
      ]
    },
    {
      "cell_type": "markdown",
      "metadata": {
        "id": "-nDk1Nkv8QEc",
        "colab_type": "text"
      },
      "source": [
        "We can see that there are 4 columns in the dataframe without any header. We will name the 4 columns as userId, productId, rating and timestamp"
      ]
    },
    {
      "cell_type": "code",
      "metadata": {
        "id": "41lOXl0p8MP6",
        "colab_type": "code",
        "colab": {
          "base_uri": "https://localhost:8080/",
          "height": 204
        },
        "outputId": "05c241a7-fdd2-40af-c37f-94dddfb910b8"
      },
      "source": [
        "ratings.columns=['userId','productId','rating','timestamp']\n",
        "ratings.head()"
      ],
      "execution_count": 4,
      "outputs": [
        {
          "output_type": "execute_result",
          "data": {
            "text/html": [
              "<div>\n",
              "<style scoped>\n",
              "    .dataframe tbody tr th:only-of-type {\n",
              "        vertical-align: middle;\n",
              "    }\n",
              "\n",
              "    .dataframe tbody tr th {\n",
              "        vertical-align: top;\n",
              "    }\n",
              "\n",
              "    .dataframe thead th {\n",
              "        text-align: right;\n",
              "    }\n",
              "</style>\n",
              "<table border=\"1\" class=\"dataframe\">\n",
              "  <thead>\n",
              "    <tr style=\"text-align: right;\">\n",
              "      <th></th>\n",
              "      <th>userId</th>\n",
              "      <th>productId</th>\n",
              "      <th>rating</th>\n",
              "      <th>timestamp</th>\n",
              "    </tr>\n",
              "  </thead>\n",
              "  <tbody>\n",
              "    <tr>\n",
              "      <th>0</th>\n",
              "      <td>AKM1MP6P0OYPR</td>\n",
              "      <td>0132793040</td>\n",
              "      <td>5.0</td>\n",
              "      <td>1.365811e+09</td>\n",
              "    </tr>\n",
              "    <tr>\n",
              "      <th>1</th>\n",
              "      <td>A2CX7LUOHB2NDG</td>\n",
              "      <td>0321732944</td>\n",
              "      <td>5.0</td>\n",
              "      <td>1.341101e+09</td>\n",
              "    </tr>\n",
              "    <tr>\n",
              "      <th>2</th>\n",
              "      <td>A2NWSAGRHCP8N5</td>\n",
              "      <td>0439886341</td>\n",
              "      <td>1.0</td>\n",
              "      <td>1.367194e+09</td>\n",
              "    </tr>\n",
              "    <tr>\n",
              "      <th>3</th>\n",
              "      <td>A2WNBOD3WNDNKT</td>\n",
              "      <td>0439886341</td>\n",
              "      <td>3.0</td>\n",
              "      <td>1.374451e+09</td>\n",
              "    </tr>\n",
              "    <tr>\n",
              "      <th>4</th>\n",
              "      <td>A1GI0U4ZRJA8WN</td>\n",
              "      <td>0439886341</td>\n",
              "      <td>1.0</td>\n",
              "      <td>1.334707e+09</td>\n",
              "    </tr>\n",
              "  </tbody>\n",
              "</table>\n",
              "</div>"
            ],
            "text/plain": [
              "           userId   productId  rating     timestamp\n",
              "0   AKM1MP6P0OYPR  0132793040     5.0  1.365811e+09\n",
              "1  A2CX7LUOHB2NDG  0321732944     5.0  1.341101e+09\n",
              "2  A2NWSAGRHCP8N5  0439886341     1.0  1.367194e+09\n",
              "3  A2WNBOD3WNDNKT  0439886341     3.0  1.374451e+09\n",
              "4  A1GI0U4ZRJA8WN  0439886341     1.0  1.334707e+09"
            ]
          },
          "metadata": {
            "tags": []
          },
          "execution_count": 4
        }
      ]
    },
    {
      "cell_type": "code",
      "metadata": {
        "id": "8kG7EeQNyJvz",
        "colab_type": "code",
        "colab": {
          "base_uri": "https://localhost:8080/",
          "height": 235
        },
        "outputId": "f87771fe-a92a-4545-fdc2-f3f29a5d8aa7"
      },
      "source": [
        "grouped_rating = ratings.groupby('productId')['rating'].agg(['count'])\n",
        "grouped_rating.head()"
      ],
      "execution_count": 5,
      "outputs": [
        {
          "output_type": "execute_result",
          "data": {
            "text/html": [
              "<div>\n",
              "<style scoped>\n",
              "    .dataframe tbody tr th:only-of-type {\n",
              "        vertical-align: middle;\n",
              "    }\n",
              "\n",
              "    .dataframe tbody tr th {\n",
              "        vertical-align: top;\n",
              "    }\n",
              "\n",
              "    .dataframe thead th {\n",
              "        text-align: right;\n",
              "    }\n",
              "</style>\n",
              "<table border=\"1\" class=\"dataframe\">\n",
              "  <thead>\n",
              "    <tr style=\"text-align: right;\">\n",
              "      <th></th>\n",
              "      <th>count</th>\n",
              "    </tr>\n",
              "    <tr>\n",
              "      <th>productId</th>\n",
              "      <th></th>\n",
              "    </tr>\n",
              "  </thead>\n",
              "  <tbody>\n",
              "    <tr>\n",
              "      <th>0132793040</th>\n",
              "      <td>1</td>\n",
              "    </tr>\n",
              "    <tr>\n",
              "      <th>0321732944</th>\n",
              "      <td>1</td>\n",
              "    </tr>\n",
              "    <tr>\n",
              "      <th>0439886341</th>\n",
              "      <td>3</td>\n",
              "    </tr>\n",
              "    <tr>\n",
              "      <th>0511189877</th>\n",
              "      <td>6</td>\n",
              "    </tr>\n",
              "    <tr>\n",
              "      <th>0528881469</th>\n",
              "      <td>27</td>\n",
              "    </tr>\n",
              "  </tbody>\n",
              "</table>\n",
              "</div>"
            ],
            "text/plain": [
              "            count\n",
              "productId        \n",
              "0132793040      1\n",
              "0321732944      1\n",
              "0439886341      3\n",
              "0511189877      6\n",
              "0528881469     27"
            ]
          },
          "metadata": {
            "tags": []
          },
          "execution_count": 5
        }
      ]
    },
    {
      "cell_type": "code",
      "metadata": {
        "id": "PHXlU5TDyxfp",
        "colab_type": "code",
        "colab": {
          "base_uri": "https://localhost:8080/",
          "height": 34
        },
        "outputId": "6f67dffe-6852-4f0e-f3ab-336fa3b47bbd"
      },
      "source": [
        "sparsed_rating = grouped_rating.groupby('count').filter(lambda x : len(x)<15)\n",
        "sparsed_rating.head()\n",
        "sparsed_rating.shape"
      ],
      "execution_count": 6,
      "outputs": [
        {
          "output_type": "execute_result",
          "data": {
            "text/plain": [
              "(856, 1)"
            ]
          },
          "metadata": {
            "tags": []
          },
          "execution_count": 6
        }
      ]
    },
    {
      "cell_type": "code",
      "metadata": {
        "id": "HEG9LTepxeLD",
        "colab_type": "code",
        "colab": {
          "base_uri": "https://localhost:8080/",
          "height": 34
        },
        "outputId": "cce6e88b-1a9c-486d-8967-9a8b553c4dee"
      },
      "source": [
        "sparsed_rating_df = ratings.merge(sparsed_rating, on='productId', how='right')\n",
        "sparsed_rating_df.shape"
      ],
      "execution_count": 7,
      "outputs": [
        {
          "output_type": "execute_result",
          "data": {
            "text/plain": [
              "(195660, 5)"
            ]
          },
          "metadata": {
            "tags": []
          },
          "execution_count": 7
        }
      ]
    },
    {
      "cell_type": "markdown",
      "metadata": {
        "id": "RE6i8zMv-J3e",
        "colab_type": "text"
      },
      "source": [
        "We have created a dataframe with products having more than 15 ratings."
      ]
    },
    {
      "cell_type": "code",
      "metadata": {
        "id": "LKYzVKjCzDoM",
        "colab_type": "code",
        "colab": {
          "base_uri": "https://localhost:8080/",
          "height": 419
        },
        "outputId": "575b2073-d775-4cc4-db91-a01510170db8"
      },
      "source": [
        "sparsed_rating_df.head()\n",
        "sparsed_rating_df.drop_duplicates()\n",
        "sparsed_rating_df.dropna()\n"
      ],
      "execution_count": 8,
      "outputs": [
        {
          "output_type": "execute_result",
          "data": {
            "text/html": [
              "<div>\n",
              "<style scoped>\n",
              "    .dataframe tbody tr th:only-of-type {\n",
              "        vertical-align: middle;\n",
              "    }\n",
              "\n",
              "    .dataframe tbody tr th {\n",
              "        vertical-align: top;\n",
              "    }\n",
              "\n",
              "    .dataframe thead th {\n",
              "        text-align: right;\n",
              "    }\n",
              "</style>\n",
              "<table border=\"1\" class=\"dataframe\">\n",
              "  <thead>\n",
              "    <tr style=\"text-align: right;\">\n",
              "      <th></th>\n",
              "      <th>userId</th>\n",
              "      <th>productId</th>\n",
              "      <th>rating</th>\n",
              "      <th>timestamp</th>\n",
              "      <th>count</th>\n",
              "    </tr>\n",
              "  </thead>\n",
              "  <tbody>\n",
              "    <tr>\n",
              "      <th>0</th>\n",
              "      <td>A1BKC6B7YHYTVV</td>\n",
              "      <td>0972683275</td>\n",
              "      <td>4.0</td>\n",
              "      <td>1.405382e+09</td>\n",
              "      <td>1051</td>\n",
              "    </tr>\n",
              "    <tr>\n",
              "      <th>1</th>\n",
              "      <td>AWVFSIB42LHKJ</td>\n",
              "      <td>0972683275</td>\n",
              "      <td>4.0</td>\n",
              "      <td>1.405210e+09</td>\n",
              "      <td>1051</td>\n",
              "    </tr>\n",
              "    <tr>\n",
              "      <th>2</th>\n",
              "      <td>A36MQBNADRH8YY</td>\n",
              "      <td>0972683275</td>\n",
              "      <td>5.0</td>\n",
              "      <td>1.405642e+09</td>\n",
              "      <td>1051</td>\n",
              "    </tr>\n",
              "    <tr>\n",
              "      <th>3</th>\n",
              "      <td>A3SRXMPLAEZ6DP</td>\n",
              "      <td>0972683275</td>\n",
              "      <td>4.0</td>\n",
              "      <td>1.405987e+09</td>\n",
              "      <td>1051</td>\n",
              "    </tr>\n",
              "    <tr>\n",
              "      <th>4</th>\n",
              "      <td>A20XXTXWF2TCPY</td>\n",
              "      <td>0972683275</td>\n",
              "      <td>5.0</td>\n",
              "      <td>1.405123e+09</td>\n",
              "      <td>1051</td>\n",
              "    </tr>\n",
              "    <tr>\n",
              "      <th>...</th>\n",
              "      <td>...</td>\n",
              "      <td>...</td>\n",
              "      <td>...</td>\n",
              "      <td>...</td>\n",
              "      <td>...</td>\n",
              "    </tr>\n",
              "    <tr>\n",
              "      <th>195654</th>\n",
              "      <td>A201BIPDYWB7AA</td>\n",
              "      <td>B00012EYNG</td>\n",
              "      <td>4.0</td>\n",
              "      <td>1.124064e+09</td>\n",
              "      <td>96</td>\n",
              "    </tr>\n",
              "    <tr>\n",
              "      <th>195655</th>\n",
              "      <td>A4QLCNXBCNABN</td>\n",
              "      <td>B00012EYNG</td>\n",
              "      <td>5.0</td>\n",
              "      <td>1.147133e+09</td>\n",
              "      <td>96</td>\n",
              "    </tr>\n",
              "    <tr>\n",
              "      <th>195656</th>\n",
              "      <td>A14EAVAT0WRGD8</td>\n",
              "      <td>B00012EYNG</td>\n",
              "      <td>4.0</td>\n",
              "      <td>1.233965e+09</td>\n",
              "      <td>96</td>\n",
              "    </tr>\n",
              "    <tr>\n",
              "      <th>195657</th>\n",
              "      <td>A2S2WIQVX2S5J2</td>\n",
              "      <td>B00012EYNG</td>\n",
              "      <td>5.0</td>\n",
              "      <td>1.244851e+09</td>\n",
              "      <td>96</td>\n",
              "    </tr>\n",
              "    <tr>\n",
              "      <th>195658</th>\n",
              "      <td>A2BV2EUCPJXKIG</td>\n",
              "      <td>B00012EYNG</td>\n",
              "      <td>5.0</td>\n",
              "      <td>1.181606e+09</td>\n",
              "      <td>96</td>\n",
              "    </tr>\n",
              "  </tbody>\n",
              "</table>\n",
              "<p>195659 rows × 5 columns</p>\n",
              "</div>"
            ],
            "text/plain": [
              "                userId   productId  rating     timestamp  count\n",
              "0       A1BKC6B7YHYTVV  0972683275     4.0  1.405382e+09   1051\n",
              "1        AWVFSIB42LHKJ  0972683275     4.0  1.405210e+09   1051\n",
              "2       A36MQBNADRH8YY  0972683275     5.0  1.405642e+09   1051\n",
              "3       A3SRXMPLAEZ6DP  0972683275     4.0  1.405987e+09   1051\n",
              "4       A20XXTXWF2TCPY  0972683275     5.0  1.405123e+09   1051\n",
              "...                ...         ...     ...           ...    ...\n",
              "195654  A201BIPDYWB7AA  B00012EYNG     4.0  1.124064e+09     96\n",
              "195655   A4QLCNXBCNABN  B00012EYNG     5.0  1.147133e+09     96\n",
              "195656  A14EAVAT0WRGD8  B00012EYNG     4.0  1.233965e+09     96\n",
              "195657  A2S2WIQVX2S5J2  B00012EYNG     5.0  1.244851e+09     96\n",
              "195658  A2BV2EUCPJXKIG  B00012EYNG     5.0  1.181606e+09     96\n",
              "\n",
              "[195659 rows x 5 columns]"
            ]
          },
          "metadata": {
            "tags": []
          },
          "execution_count": 8
        }
      ]
    },
    {
      "cell_type": "markdown",
      "metadata": {
        "id": "Kdujy1SOF8Us",
        "colab_type": "text"
      },
      "source": [
        "We have ensured that there are no duplicates or null values in the dataset."
      ]
    },
    {
      "cell_type": "code",
      "metadata": {
        "id": "ZO3rBmk3GIUU",
        "colab_type": "code",
        "colab": {
          "base_uri": "https://localhost:8080/",
          "height": 255
        },
        "outputId": "93d35b6b-99ce-42d1-835f-7f97379dfcec"
      },
      "source": [
        "sparsed_rating_df.info"
      ],
      "execution_count": 9,
      "outputs": [
        {
          "output_type": "execute_result",
          "data": {
            "text/plain": [
              "<bound method DataFrame.info of                 userId   productId  rating     timestamp  count\n",
              "0       A1BKC6B7YHYTVV  0972683275     4.0  1.405382e+09   1051\n",
              "1        AWVFSIB42LHKJ  0972683275     4.0  1.405210e+09   1051\n",
              "2       A36MQBNADRH8YY  0972683275     5.0  1.405642e+09   1051\n",
              "3       A3SRXMPLAEZ6DP  0972683275     4.0  1.405987e+09   1051\n",
              "4       A20XXTXWF2TCPY  0972683275     5.0  1.405123e+09   1051\n",
              "...                ...         ...     ...           ...    ...\n",
              "195655   A4QLCNXBCNABN  B00012EYNG     5.0  1.147133e+09     96\n",
              "195656  A14EAVAT0WRGD8  B00012EYNG     4.0  1.233965e+09     96\n",
              "195657  A2S2WIQVX2S5J2  B00012EYNG     5.0  1.244851e+09     96\n",
              "195658  A2BV2EUCPJXKIG  B00012EYNG     5.0  1.181606e+09     96\n",
              "195659   AMPNZ68XAY6BG          B0     NaN           NaN      0\n",
              "\n",
              "[195660 rows x 5 columns]>"
            ]
          },
          "metadata": {
            "tags": []
          },
          "execution_count": 9
        }
      ]
    },
    {
      "cell_type": "code",
      "metadata": {
        "id": "dF-p8il6DXQ6",
        "colab_type": "code",
        "colab": {
          "base_uri": "https://localhost:8080/",
          "height": 170
        },
        "outputId": "ac4678cb-542e-4945-a532-58d1ff293ca0"
      },
      "source": [
        "sparsed_rating_df['rating'].describe().T"
      ],
      "execution_count": 10,
      "outputs": [
        {
          "output_type": "execute_result",
          "data": {
            "text/plain": [
              "count    195659.000000\n",
              "mean          4.078841\n",
              "std           1.333987\n",
              "min           1.000000\n",
              "25%           4.000000\n",
              "50%           5.000000\n",
              "75%           5.000000\n",
              "max           5.000000\n",
              "Name: rating, dtype: float64"
            ]
          },
          "metadata": {
            "tags": []
          },
          "execution_count": 10
        }
      ]
    },
    {
      "cell_type": "markdown",
      "metadata": {
        "id": "QccDas8kGQ2e",
        "colab_type": "text"
      },
      "source": [
        "We can see that the average rating is 4.14, max is 5 and min value is 1. Total count of records/ratings in this dataset is 2783728.\n",
        "\n",
        "\n",
        "\n",
        "\n",
        "\n",
        "Let’s now create a dataframe with the average rating for each product and the number of ratings. We are going to use these ratings to calculate the correlation between the products later."
      ]
    },
    {
      "cell_type": "code",
      "metadata": {
        "id": "cp06fubzGMK-",
        "colab_type": "code",
        "colab": {
          "base_uri": "https://localhost:8080/",
          "height": 235
        },
        "outputId": "43a5017e-8a7f-4b1c-9990-d395d9b08d8e"
      },
      "source": [
        "ratings_count = pd.DataFrame(sparsed_rating_df.groupby('productId')['rating'].mean())\n",
        "ratings_count.head()"
      ],
      "execution_count": 11,
      "outputs": [
        {
          "output_type": "execute_result",
          "data": {
            "text/html": [
              "<div>\n",
              "<style scoped>\n",
              "    .dataframe tbody tr th:only-of-type {\n",
              "        vertical-align: middle;\n",
              "    }\n",
              "\n",
              "    .dataframe tbody tr th {\n",
              "        vertical-align: top;\n",
              "    }\n",
              "\n",
              "    .dataframe thead th {\n",
              "        text-align: right;\n",
              "    }\n",
              "</style>\n",
              "<table border=\"1\" class=\"dataframe\">\n",
              "  <thead>\n",
              "    <tr style=\"text-align: right;\">\n",
              "      <th></th>\n",
              "      <th>rating</th>\n",
              "    </tr>\n",
              "    <tr>\n",
              "      <th>productId</th>\n",
              "      <th></th>\n",
              "    </tr>\n",
              "  </thead>\n",
              "  <tbody>\n",
              "    <tr>\n",
              "      <th>0972683275</th>\n",
              "      <td>4.470980</td>\n",
              "    </tr>\n",
              "    <tr>\n",
              "      <th>1400501466</th>\n",
              "      <td>3.560000</td>\n",
              "    </tr>\n",
              "    <tr>\n",
              "      <th>1400501520</th>\n",
              "      <td>4.243902</td>\n",
              "    </tr>\n",
              "    <tr>\n",
              "      <th>1400501776</th>\n",
              "      <td>3.884892</td>\n",
              "    </tr>\n",
              "    <tr>\n",
              "      <th>1400532620</th>\n",
              "      <td>3.684211</td>\n",
              "    </tr>\n",
              "  </tbody>\n",
              "</table>\n",
              "</div>"
            ],
            "text/plain": [
              "              rating\n",
              "productId           \n",
              "0972683275  4.470980\n",
              "1400501466  3.560000\n",
              "1400501520  4.243902\n",
              "1400501776  3.884892\n",
              "1400532620  3.684211"
            ]
          },
          "metadata": {
            "tags": []
          },
          "execution_count": 11
        }
      ]
    },
    {
      "cell_type": "markdown",
      "metadata": {
        "id": "yIKz63DIGllX",
        "colab_type": "text"
      },
      "source": [
        "We can see the products with high mean ratings and highest number of ratings above. \n",
        "\n",
        "Next we would like to see the number of ratings for each product. We do this by creating a number_of_ratings column. This is important so that we can see the relationship between the average rating of a product and the number of ratings the product got. It is very possible that a 5 star product was rated by just one person. It is therefore statistically incorrect to classify that product has a 5 star product. We will therefore need to set a threshold for the minimum number of ratings as we build the recommender system. In order to create this new column we use pandas groupby utility."
      ]
    },
    {
      "cell_type": "code",
      "metadata": {
        "id": "s-wudZ09JMPE",
        "colab_type": "code",
        "colab": {
          "base_uri": "https://localhost:8080/",
          "height": 235
        },
        "outputId": "19089888-8b29-4ac2-b537-05b330fdd7a1"
      },
      "source": [
        "ratings_count['number_of_ratings'] = ratings.groupby('productId')['rating'].count()\n",
        "ratings_count.head()"
      ],
      "execution_count": 12,
      "outputs": [
        {
          "output_type": "execute_result",
          "data": {
            "text/html": [
              "<div>\n",
              "<style scoped>\n",
              "    .dataframe tbody tr th:only-of-type {\n",
              "        vertical-align: middle;\n",
              "    }\n",
              "\n",
              "    .dataframe tbody tr th {\n",
              "        vertical-align: top;\n",
              "    }\n",
              "\n",
              "    .dataframe thead th {\n",
              "        text-align: right;\n",
              "    }\n",
              "</style>\n",
              "<table border=\"1\" class=\"dataframe\">\n",
              "  <thead>\n",
              "    <tr style=\"text-align: right;\">\n",
              "      <th></th>\n",
              "      <th>rating</th>\n",
              "      <th>number_of_ratings</th>\n",
              "    </tr>\n",
              "    <tr>\n",
              "      <th>productId</th>\n",
              "      <th></th>\n",
              "      <th></th>\n",
              "    </tr>\n",
              "  </thead>\n",
              "  <tbody>\n",
              "    <tr>\n",
              "      <th>0972683275</th>\n",
              "      <td>4.470980</td>\n",
              "      <td>1051</td>\n",
              "    </tr>\n",
              "    <tr>\n",
              "      <th>1400501466</th>\n",
              "      <td>3.560000</td>\n",
              "      <td>250</td>\n",
              "    </tr>\n",
              "    <tr>\n",
              "      <th>1400501520</th>\n",
              "      <td>4.243902</td>\n",
              "      <td>82</td>\n",
              "    </tr>\n",
              "    <tr>\n",
              "      <th>1400501776</th>\n",
              "      <td>3.884892</td>\n",
              "      <td>139</td>\n",
              "    </tr>\n",
              "    <tr>\n",
              "      <th>1400532620</th>\n",
              "      <td>3.684211</td>\n",
              "      <td>171</td>\n",
              "    </tr>\n",
              "  </tbody>\n",
              "</table>\n",
              "</div>"
            ],
            "text/plain": [
              "              rating  number_of_ratings\n",
              "productId                              \n",
              "0972683275  4.470980               1051\n",
              "1400501466  3.560000                250\n",
              "1400501520  4.243902                 82\n",
              "1400501776  3.884892                139\n",
              "1400532620  3.684211                171"
            ]
          },
          "metadata": {
            "tags": []
          },
          "execution_count": 12
        }
      ]
    },
    {
      "cell_type": "code",
      "metadata": {
        "id": "rNmootRPGruC",
        "colab_type": "code",
        "colab": {
          "base_uri": "https://localhost:8080/",
          "height": 286
        },
        "outputId": "b8983525-3112-4f6e-ca63-e9a90cf29da8"
      },
      "source": [
        "ratings_count['rating'].hist(bins=50)"
      ],
      "execution_count": 13,
      "outputs": [
        {
          "output_type": "execute_result",
          "data": {
            "text/plain": [
              "<matplotlib.axes._subplots.AxesSubplot at 0x7f30ae640da0>"
            ]
          },
          "metadata": {
            "tags": []
          },
          "execution_count": 13
        },
        {
          "output_type": "display_data",
          "data": {
            "image/png": "[encoded data removed]",
            "text/plain": [
              "<Figure size 432x288 with 1 Axes>"
            ]
          },
          "metadata": {
            "tags": []
          }
        }
      ]
    },
    {
      "cell_type": "code",
      "metadata": {
        "id": "BwIMk27qG07J",
        "colab_type": "code",
        "colab": {
          "base_uri": "https://localhost:8080/",
          "height": 286
        },
        "outputId": "f0bd9586-b827-4e63-9bd9-63651600f1d6"
      },
      "source": [
        "ratings_count['number_of_ratings'].hist(bins=60)"
      ],
      "execution_count": 14,
      "outputs": [
        {
          "output_type": "execute_result",
          "data": {
            "text/plain": [
              "<matplotlib.axes._subplots.AxesSubplot at 0x7f30ae06fb38>"
            ]
          },
          "metadata": {
            "tags": []
          },
          "execution_count": 14
        },
        {
          "output_type": "display_data",
          "data": {
            "image/png": "[encoded data removed]",
            "text/plain": [
              "<Figure size 432x288 with 1 Axes>"
            ]
          },
          "metadata": {
            "tags": []
          }
        }
      ]
    },
    {
      "cell_type": "code",
      "metadata": {
        "id": "KrYUfUp7I0cl",
        "colab_type": "code",
        "colab": {
          "base_uri": "https://localhost:8080/",
          "height": 450
        },
        "outputId": "ea17443a-c648-4bee-ecb9-3c2bc3fae7b1"
      },
      "source": [
        "sns.jointplot(x='rating', y='number_of_ratings', data=ratings_count)"
      ],
      "execution_count": 15,
      "outputs": [
        {
          "output_type": "execute_result",
          "data": {
            "text/plain": [
              "<seaborn.axisgrid.JointGrid at 0x7f30ae094f28>"
            ]
          },
          "metadata": {
            "tags": []
          },
          "execution_count": 15
        },
        {
          "output_type": "display_data",
          "data": {
            "image/png": "[encoded data removed]",
            "text/plain": [
              "<Figure size 432x432 with 3 Axes>"
            ]
          },
          "metadata": {
            "tags": []
          }
        }
      ]
    },
    {
      "cell_type": "markdown",
      "metadata": {
        "id": "MtBsC92kG8qf",
        "colab_type": "text"
      },
      "source": [
        "From the diagram we can see that their is a positive relationship between the average rating of a product and the number of ratings. The graph indicates that the more the ratings a product gets the higher the average rating it gets. This is important to note especially when choosing the threshold for the number of ratings per product."
      ]
    },
    {
      "cell_type": "code",
      "metadata": {
        "id": "MHhpI9DXG4OT",
        "colab_type": "code",
        "colab": {
          "base_uri": "https://localhost:8080/",
          "height": 136
        },
        "outputId": "44d62b77-078e-48b4-fb55-af4f1b9dad31"
      },
      "source": [
        "sparsed_rating_df.groupby('productId')['rating'].mean().sort_values(ascending=False).head()  "
      ],
      "execution_count": 16,
      "outputs": [
        {
          "output_type": "execute_result",
          "data": {
            "text/plain": [
              "productId\n",
              "B0000DYV9H    4.947368\n",
              "B000053HC5    4.945783\n",
              "B00009R96C    4.885714\n",
              "B00006I53W    4.859551\n",
              "B0000TU7I6    4.855263\n",
              "Name: rating, dtype: float64"
            ]
          },
          "metadata": {
            "tags": []
          },
          "execution_count": 16
        }
      ]
    },
    {
      "cell_type": "code",
      "metadata": {
        "id": "Vlsfn9dhHK9j",
        "colab_type": "code",
        "colab": {}
      },
      "source": [
        "ratings_mean_count = pd.DataFrame(sparsed_rating_df.groupby('productId')['rating'].mean()) "
      ],
      "execution_count": 0,
      "outputs": []
    },
    {
      "cell_type": "code",
      "metadata": {
        "id": "ZQ_M30iIHObz",
        "colab_type": "code",
        "colab": {}
      },
      "source": [
        "ratings_mean_count['rating_counts'] = pd.DataFrame(sparsed_rating_df.groupby('productId')['rating'].count())  "
      ],
      "execution_count": 0,
      "outputs": []
    },
    {
      "cell_type": "code",
      "metadata": {
        "id": "HcJ9atxsHR70",
        "colab_type": "code",
        "colab": {
          "base_uri": "https://localhost:8080/",
          "height": 395
        },
        "outputId": "2907c787-2adb-42c1-ea45-050fc51cc438"
      },
      "source": [
        "plt.figure(figsize=(8,6))\n",
        "plt.rcParams['patch.force_edgecolor'] = True\n",
        "ratings_mean_count['rating_counts'].hist(bins=50)"
      ],
      "execution_count": 19,
      "outputs": [
        {
          "output_type": "execute_result",
          "data": {
            "text/plain": [
              "<matplotlib.axes._subplots.AxesSubplot at 0x7f30ab622128>"
            ]
          },
          "metadata": {
            "tags": []
          },
          "execution_count": 19
        },
        {
          "output_type": "display_data",
          "data": {
            "image/png": "[encoded data removed]",
            "text/plain": [
              "<Figure size 576x432 with 1 Axes>"
            ]
          },
          "metadata": {
            "tags": []
          }
        }
      ]
    },
    {
      "cell_type": "code",
      "metadata": {
        "id": "kCSJkrK2HeSi",
        "colab_type": "code",
        "colab": {
          "base_uri": "https://localhost:8080/",
          "height": 235
        },
        "outputId": "1cebc289-b719-491e-ad16-ca92dfcfa553"
      },
      "source": [
        "ratings_mean_count.head()  "
      ],
      "execution_count": 20,
      "outputs": [
        {
          "output_type": "execute_result",
          "data": {
            "text/html": [
              "<div>\n",
              "<style scoped>\n",
              "    .dataframe tbody tr th:only-of-type {\n",
              "        vertical-align: middle;\n",
              "    }\n",
              "\n",
              "    .dataframe tbody tr th {\n",
              "        vertical-align: top;\n",
              "    }\n",
              "\n",
              "    .dataframe thead th {\n",
              "        text-align: right;\n",
              "    }\n",
              "</style>\n",
              "<table border=\"1\" class=\"dataframe\">\n",
              "  <thead>\n",
              "    <tr style=\"text-align: right;\">\n",
              "      <th></th>\n",
              "      <th>rating</th>\n",
              "      <th>rating_counts</th>\n",
              "    </tr>\n",
              "    <tr>\n",
              "      <th>productId</th>\n",
              "      <th></th>\n",
              "      <th></th>\n",
              "    </tr>\n",
              "  </thead>\n",
              "  <tbody>\n",
              "    <tr>\n",
              "      <th>0972683275</th>\n",
              "      <td>4.470980</td>\n",
              "      <td>1051</td>\n",
              "    </tr>\n",
              "    <tr>\n",
              "      <th>1400501466</th>\n",
              "      <td>3.560000</td>\n",
              "      <td>250</td>\n",
              "    </tr>\n",
              "    <tr>\n",
              "      <th>1400501520</th>\n",
              "      <td>4.243902</td>\n",
              "      <td>82</td>\n",
              "    </tr>\n",
              "    <tr>\n",
              "      <th>1400501776</th>\n",
              "      <td>3.884892</td>\n",
              "      <td>139</td>\n",
              "    </tr>\n",
              "    <tr>\n",
              "      <th>1400532620</th>\n",
              "      <td>3.684211</td>\n",
              "      <td>171</td>\n",
              "    </tr>\n",
              "  </tbody>\n",
              "</table>\n",
              "</div>"
            ],
            "text/plain": [
              "              rating  rating_counts\n",
              "productId                          \n",
              "0972683275  4.470980           1051\n",
              "1400501466  3.560000            250\n",
              "1400501520  4.243902             82\n",
              "1400501776  3.884892            139\n",
              "1400532620  3.684211            171"
            ]
          },
          "metadata": {
            "tags": []
          },
          "execution_count": 20
        }
      ]
    },
    {
      "cell_type": "markdown",
      "metadata": {
        "id": "uoT49WGAHpzO",
        "colab_type": "text"
      },
      "source": [
        "Above shows the most popular products. We will explore item to item collaborative filtering to give a better recommendation. Popularity based recommendation will recommend the same set of products for every user. For example, it could recommend a hot selling product used by children for a user who has no use for it. To overcome this, we can go for item to item collaborative filtering. In this recommendation system, the products are recommended based on the items/products rated by the user."
      ]
    },
    {
      "cell_type": "code",
      "metadata": {
        "id": "-d5Qj_qhKEyx",
        "colab_type": "code",
        "colab": {
          "base_uri": "https://localhost:8080/",
          "height": 204
        },
        "outputId": "088a85ab-152f-4099-ee47-ab6d1fd5ba7c"
      },
      "source": [
        "sparsed_rating_df.head()"
      ],
      "execution_count": 21,
      "outputs": [
        {
          "output_type": "execute_result",
          "data": {
            "text/html": [
              "<div>\n",
              "<style scoped>\n",
              "    .dataframe tbody tr th:only-of-type {\n",
              "        vertical-align: middle;\n",
              "    }\n",
              "\n",
              "    .dataframe tbody tr th {\n",
              "        vertical-align: top;\n",
              "    }\n",
              "\n",
              "    .dataframe thead th {\n",
              "        text-align: right;\n",
              "    }\n",
              "</style>\n",
              "<table border=\"1\" class=\"dataframe\">\n",
              "  <thead>\n",
              "    <tr style=\"text-align: right;\">\n",
              "      <th></th>\n",
              "      <th>userId</th>\n",
              "      <th>productId</th>\n",
              "      <th>rating</th>\n",
              "      <th>timestamp</th>\n",
              "      <th>count</th>\n",
              "    </tr>\n",
              "  </thead>\n",
              "  <tbody>\n",
              "    <tr>\n",
              "      <th>0</th>\n",
              "      <td>A1BKC6B7YHYTVV</td>\n",
              "      <td>0972683275</td>\n",
              "      <td>4.0</td>\n",
              "      <td>1.405382e+09</td>\n",
              "      <td>1051</td>\n",
              "    </tr>\n",
              "    <tr>\n",
              "      <th>1</th>\n",
              "      <td>AWVFSIB42LHKJ</td>\n",
              "      <td>0972683275</td>\n",
              "      <td>4.0</td>\n",
              "      <td>1.405210e+09</td>\n",
              "      <td>1051</td>\n",
              "    </tr>\n",
              "    <tr>\n",
              "      <th>2</th>\n",
              "      <td>A36MQBNADRH8YY</td>\n",
              "      <td>0972683275</td>\n",
              "      <td>5.0</td>\n",
              "      <td>1.405642e+09</td>\n",
              "      <td>1051</td>\n",
              "    </tr>\n",
              "    <tr>\n",
              "      <th>3</th>\n",
              "      <td>A3SRXMPLAEZ6DP</td>\n",
              "      <td>0972683275</td>\n",
              "      <td>4.0</td>\n",
              "      <td>1.405987e+09</td>\n",
              "      <td>1051</td>\n",
              "    </tr>\n",
              "    <tr>\n",
              "      <th>4</th>\n",
              "      <td>A20XXTXWF2TCPY</td>\n",
              "      <td>0972683275</td>\n",
              "      <td>5.0</td>\n",
              "      <td>1.405123e+09</td>\n",
              "      <td>1051</td>\n",
              "    </tr>\n",
              "  </tbody>\n",
              "</table>\n",
              "</div>"
            ],
            "text/plain": [
              "           userId   productId  rating     timestamp  count\n",
              "0  A1BKC6B7YHYTVV  0972683275     4.0  1.405382e+09   1051\n",
              "1   AWVFSIB42LHKJ  0972683275     4.0  1.405210e+09   1051\n",
              "2  A36MQBNADRH8YY  0972683275     5.0  1.405642e+09   1051\n",
              "3  A3SRXMPLAEZ6DP  0972683275     4.0  1.405987e+09   1051\n",
              "4  A20XXTXWF2TCPY  0972683275     5.0  1.405123e+09   1051"
            ]
          },
          "metadata": {
            "tags": []
          },
          "execution_count": 21
        }
      ]
    },
    {
      "cell_type": "code",
      "metadata": {
        "id": "8ar6HFplJkVq",
        "colab_type": "code",
        "colab": {
          "base_uri": "https://localhost:8080/",
          "height": 187
        },
        "outputId": "2f8de8af-9c51-4f1a-ccbb-8848ccdb69f4"
      },
      "source": [
        "sparsed_rating_df['rating'] = sparsed_rating_df['rating'].fillna(0).astype(int)\n",
        "#sparsed_rating_df = sparsed_rating_df.fillna(0).astype({'rating': 'int32'}).dtypes\n",
        "sparsed_rating_df['rating'] = sparsed_rating_df['rating'].astype('int32')\n",
        "#sparsed_rating_df['rating'] = sparsed_rating_df['rating'].fillna(0)\n",
        "#sparsed_rating_df.astype({'rating': 'int32'}).dtypes\n",
        "reader = Reader(rating_scale=(1, 5))\n",
        "data = Dataset.load_from_df(sparsed_rating_df[['userId', 'productId', 'rating']], reader=reader)\n",
        "trainset, testset = train_test_split(data, test_size=0.2)\n",
        "sparsed_rating_df.info()"
      ],
      "execution_count": 22,
      "outputs": [
        {
          "output_type": "stream",
          "text": [
            "<class 'pandas.core.frame.DataFrame'>\n",
            "Int64Index: 195660 entries, 0 to 195659\n",
            "Data columns (total 5 columns):\n",
            "userId       195660 non-null object\n",
            "productId    195660 non-null object\n",
            "rating       195660 non-null int32\n",
            "timestamp    195659 non-null float64\n",
            "count        195660 non-null int64\n",
            "dtypes: float64(1), int32(1), int64(1), object(2)\n",
            "memory usage: 8.2+ MB\n"
          ],
          "name": "stdout"
        }
      ]
    },
    {
      "cell_type": "code",
      "metadata": {
        "id": "LQPuslwGW2vl",
        "colab_type": "code",
        "colab": {
          "base_uri": "https://localhost:8080/",
          "height": 221
        },
        "outputId": "dc7b573a-20d1-4859-f989-1321db1f652c"
      },
      "source": [
        "results = cross_validate(SVD(), data, measures=['RMSE'], cv=3, verbose=True)\n",
        "# Get results \n",
        "tmp = pd.DataFrame.from_dict(results).mean(axis=0)\n",
        "tmp = tmp.append(pd.Series([str(SVD).split(' ')[0].split('.')[-1]], index=['Algorithm']))\n",
        "print ('test')\n",
        "print(tmp)\n",
        "  "
      ],
      "execution_count": 23,
      "outputs": [
        {
          "output_type": "stream",
          "text": [
            "Evaluating RMSE of algorithm SVD on 3 split(s).\n",
            "\n",
            "                  Fold 1  Fold 2  Fold 3  Mean    Std     \n",
            "RMSE (testset)    1.2516  1.2521  1.2551  1.2529  0.0015  \n",
            "Fit time          8.90    8.98    8.98    8.95    0.03    \n",
            "Test time         0.60    0.40    0.40    0.46    0.10    \n",
            "test\n",
            "test_rmse     1.25294\n",
            "fit_time      8.95112\n",
            "test_time    0.464635\n",
            "Algorithm      <class\n",
            "dtype: object\n"
          ],
          "name": "stdout"
        }
      ]
    },
    {
      "cell_type": "code",
      "metadata": {
        "id": "Q46oLfy3i747",
        "colab_type": "code",
        "colab": {
          "base_uri": "https://localhost:8080/",
          "height": 119
        },
        "outputId": "130964ff-d6c2-4e2f-e63c-c20e7753b244"
      },
      "source": [
        "algo = KNNWithMeans(k=50, sim_options={'name': 'pearson_baseline', 'user_based': False})\n",
        "algo.fit(trainset)\n",
        "test_pred = algo.test(testset)\n",
        "# get RMSE\n",
        "print(\"Item-based Model : Test Set\")\n",
        "accuracy.rmse(test_pred, verbose=True)"
      ],
      "execution_count": 25,
      "outputs": [
        {
          "output_type": "stream",
          "text": [
            "Estimating biases using als...\n",
            "Computing the pearson_baseline similarity matrix...\n",
            "Done computing similarity matrix.\n",
            "Item-based Model : Test Set\n",
            "RMSE: 1.3249\n"
          ],
          "name": "stdout"
        },
        {
          "output_type": "execute_result",
          "data": {
            "text/plain": [
              "1.3249351077363003"
            ]
          },
          "metadata": {
            "tags": []
          },
          "execution_count": 25
        }
      ]
    },
    {
      "cell_type": "code",
      "metadata": {
        "id": "SR4JIMZZj8zo",
        "colab_type": "code",
        "colab": {
          "base_uri": "https://localhost:8080/",
          "height": 272
        },
        "outputId": "d1f9c526-245b-4c08-f46c-82171c36741c"
      },
      "source": [
        "results = cross_validate(BaselineOnly(), data, measures=['RMSE'], cv=3, verbose=True)\n",
        "# Get results \n",
        "tmp = pd.DataFrame.from_dict(results).mean(axis=0)\n",
        "tmp = tmp.append(pd.Series([str(SVD).split(' ')[0].split('.')[-1]], index=['Algorithm']))\n",
        "print ('test')\n",
        "print(tmp)"
      ],
      "execution_count": 26,
      "outputs": [
        {
          "output_type": "stream",
          "text": [
            "Estimating biases using als...\n",
            "Estimating biases using als...\n",
            "Estimating biases using als...\n",
            "Evaluating RMSE of algorithm BaselineOnly on 3 split(s).\n",
            "\n",
            "                  Fold 1  Fold 2  Fold 3  Mean    Std     \n",
            "RMSE (testset)    1.2496  1.2524  1.2496  1.2505  0.0013  \n",
            "Fit time          0.88    0.95    0.99    0.94    0.05    \n",
            "Test time         0.37    0.38    0.58    0.45    0.09    \n",
            "test\n",
            "test_rmse     1.25053\n",
            "fit_time     0.942431\n",
            "test_time    0.445196\n",
            "Algorithm      <class\n",
            "dtype: object\n"
          ],
          "name": "stdout"
        }
      ]
    },
    {
      "cell_type": "markdown",
      "metadata": {
        "id": "30Ud3t02kHVM",
        "colab_type": "text"
      },
      "source": [
        "We can see that Baseline only algorithm gives us the best RSME value. BaselineOnly algorithm gave us the best rmse, therefore, we will train and predict with BaselineOnly and use Alternating Least Squares (ALS)."
      ]
    },
    {
      "cell_type": "code",
      "metadata": {
        "id": "nqZ8SgxIPgKX",
        "colab_type": "code",
        "colab": {
          "base_uri": "https://localhost:8080/",
          "height": 136
        },
        "outputId": "c5f10fb3-b894-4a28-df7d-59783aa1b9b9"
      },
      "source": [
        "print('Using ALS')\n",
        "bsl_options = {'method': 'als',\n",
        "               'n_epochs': 5,\n",
        "               'reg_u': 12,\n",
        "               'reg_i': 5\n",
        "               }\n",
        "algo = BaselineOnly(bsl_options=bsl_options)\n",
        "cross_validate(algo, data, measures=['RMSE'], cv=3, verbose=False)"
      ],
      "execution_count": 27,
      "outputs": [
        {
          "output_type": "stream",
          "text": [
            "Using ALS\n",
            "Estimating biases using als...\n",
            "Estimating biases using als...\n",
            "Estimating biases using als...\n"
          ],
          "name": "stdout"
        },
        {
          "output_type": "execute_result",
          "data": {
            "text/plain": [
              "{'fit_time': (0.5156753063201904, 0.5462617874145508, 0.5426323413848877),\n",
              " 'test_rmse': array([1.25016225, 1.24898806, 1.25086332]),\n",
              " 'test_time': (0.404541015625, 0.5646774768829346, 0.3886544704437256)}"
            ]
          },
          "metadata": {
            "tags": []
          },
          "execution_count": 27
        }
      ]
    },
    {
      "cell_type": "code",
      "metadata": {
        "id": "KU4IsGHoYlj7",
        "colab_type": "code",
        "colab": {
          "base_uri": "https://localhost:8080/",
          "height": 68
        },
        "outputId": "e00b2dcf-9d92-42f1-fe11-481913d5b126"
      },
      "source": [
        "trainset, testset = train_test_split(data, test_size=0.25)\n",
        "algo = BaselineOnly(bsl_options=bsl_options)\n",
        "predictions = algo.fit(trainset).test(testset)\n",
        "accuracy.rmse(predictions)"
      ],
      "execution_count": 28,
      "outputs": [
        {
          "output_type": "stream",
          "text": [
            "Estimating biases using als...\n",
            "RMSE: 1.2452\n"
          ],
          "name": "stdout"
        },
        {
          "output_type": "execute_result",
          "data": {
            "text/plain": [
              "1.2452478892480283"
            ]
          },
          "metadata": {
            "tags": []
          },
          "execution_count": 28
        }
      ]
    },
    {
      "cell_type": "code",
      "metadata": {
        "id": "aDElJURySsSa",
        "colab_type": "code",
        "colab": {
          "base_uri": "https://localhost:8080/",
          "height": 1000
        },
        "outputId": "d7de9d0f-22d3-4968-beeb-662fddad9658"
      },
      "source": [
        "# run the trained model against the testset\n",
        "test_pred = algo.test(testset)\n",
        "test_pred"
      ],
      "execution_count": 29,
      "outputs": [
        {
          "output_type": "execute_result",
          "data": {
            "text/plain": [
              "[Prediction(uid='A2R5MQ5T85FB78', iid='B00007EDZG', r_ui=5.0, est=4.390179091660837, details={'was_impossible': False}),\n",
              " Prediction(uid='A2W4GRVON8APBU', iid='B0000645RH', r_ui=4.0, est=3.2406490980384253, details={'was_impossible': False}),\n",
              " Prediction(uid='A3706BNPQXZZ36', iid='B00004VUGJ', r_ui=4.0, est=4.276881494851035, details={'was_impossible': False}),\n",
              " Prediction(uid='A39APYUHMVNYCF', iid='B0000DK5LW', r_ui=4.0, est=3.7584128497830522, details={'was_impossible': False}),\n",
              " Prediction(uid='ALEJDFCT3VCEA', iid='B00006RVPW', r_ui=5.0, est=4.470945573558729, details={'was_impossible': False}),\n",
              " Prediction(uid='A39NDW27G24P1L', iid='B00001OWYM', r_ui=1.0, est=3.168978330067828, details={'was_impossible': False}),\n",
              " Prediction(uid='A3HF257LGTGOTS', iid='0972683275', r_ui=5.0, est=4.472750777235683, details={'was_impossible': False}),\n",
              " Prediction(uid='A36DNPAH619EPW', iid='B00007IFED', r_ui=4.0, est=4.174131009942524, details={'was_impossible': False}),\n",
              " Prediction(uid='A3DELFJF2O2J4W', iid='B000065BP9', r_ui=1.0, est=4.231710256668306, details={'was_impossible': False}),\n",
              " Prediction(uid='A1QEWGUL7NAW3I', iid='B000093UDQ', r_ui=5.0, est=3.712004427433659, details={'was_impossible': False}),\n",
              " Prediction(uid='A26K8KMUCF12NL', iid='B000089GN3', r_ui=5.0, est=4.4902628786279895, details={'was_impossible': False}),\n",
              " Prediction(uid='A1AQACP9ZURHVQ', iid='B00009MDBQ', r_ui=5.0, est=4.633874377716574, details={'was_impossible': False}),\n",
              " Prediction(uid='A29YOG9RBZHP86', iid='B00004T8R2', r_ui=5.0, est=4.259323943389856, details={'was_impossible': False}),\n",
              " Prediction(uid='A3QR5KBKZFDONP', iid='B00001P4ZH', r_ui=5.0, est=4.447598926097144, details={'was_impossible': False}),\n",
              " Prediction(uid='A3TB9Y868FE0E6', iid='B00007E7JU', r_ui=3.0, est=4.5678470442614065, details={'was_impossible': False}),\n",
              " Prediction(uid='A21ZDERXVWFLZK', iid='B00007E7C8', r_ui=5.0, est=4.385523478967096, details={'was_impossible': False}),\n",
              " Prediction(uid='A2GE1SK6GXF3E2', iid='B0000AQI9E', r_ui=5.0, est=3.55996417147331, details={'was_impossible': False}),\n",
              " Prediction(uid='A2YXJXA4K4FAGV', iid='B00004ZC9V', r_ui=5.0, est=4.4523712769197905, details={'was_impossible': False}),\n",
              " Prediction(uid='A29DPCXO7VDVUO', iid='B00005T39Y', r_ui=5.0, est=4.027675714644116, details={'was_impossible': False}),\n",
              " Prediction(uid='A36BD5GD4CTFOV', iid='B0000B006W', r_ui=5.0, est=4.6028272430820865, details={'was_impossible': False}),\n",
              " Prediction(uid='A1UKRVC72RNSB5', iid='B0000B006W', r_ui=5.0, est=4.573009903922549, details={'was_impossible': False}),\n",
              " Prediction(uid='AARA6Y6F78JCN', iid='B00009VQJ7', r_ui=5.0, est=4.0758373020865415, details={'was_impossible': False}),\n",
              " Prediction(uid='A2DJRWJARPIWJ9', iid='B00009UHFI', r_ui=4.0, est=4.237865556351816, details={'was_impossible': False}),\n",
              " Prediction(uid='A28XPPIV2PKGA2', iid='B00006KIYS', r_ui=5.0, est=4.166007805306444, details={'was_impossible': False}),\n",
              " Prediction(uid='A2MP2B2KAGJWT8', iid='B000093UDQ', r_ui=5.0, est=3.712004427433659, details={'was_impossible': False}),\n",
              " Prediction(uid='A1RVP5AWTDAU58', iid='B00009V332', r_ui=5.0, est=4.037596759994357, details={'was_impossible': False}),\n",
              " Prediction(uid='A2BM44NKQC359W', iid='B00007FGUF', r_ui=5.0, est=3.8518940780863997, details={'was_impossible': False}),\n",
              " Prediction(uid='A2SR17OZ4SGLS6', iid='B0000TW3RE', r_ui=1.0, est=2.455799484266794, details={'was_impossible': False}),\n",
              " Prediction(uid='A315SN4WYH5C71', iid='B00005T39Y', r_ui=4.0, est=4.027675714644116, details={'was_impossible': False}),\n",
              " Prediction(uid='A2T43NVBPTLJIN', iid='B00004SABJ', r_ui=3.0, est=3.8057380916673846, details={'was_impossible': False}),\n",
              " Prediction(uid='A1Y1QDYBQ0G2V6', iid='B00005NIMJ', r_ui=4.0, est=4.492995952664727, details={'was_impossible': False}),\n",
              " Prediction(uid='ANTSHDDDGX9AJ', iid='B000067O5G', r_ui=5.0, est=3.708235703761108, details={'was_impossible': False}),\n",
              " Prediction(uid='A2ZK0J4WOCS5IA', iid='B00007E816', r_ui=5.0, est=4.539874402508545, details={'was_impossible': False}),\n",
              " Prediction(uid='A1CT8DUFREC3BF', iid='B00001P4ZH', r_ui=5.0, est=4.447598926097144, details={'was_impossible': False}),\n",
              " Prediction(uid='A457TVCJ2UPZ8', iid='B00009MK5M', r_ui=5.0, est=3.9674380434431855, details={'was_impossible': False}),\n",
              " Prediction(uid='AOKC4MRKH1UON', iid='1400599997', r_ui=5.0, est=3.4487122994460457, details={'was_impossible': False}),\n",
              " Prediction(uid='A2Y1P2H2CD4CX9', iid='B00006IR39', r_ui=4.0, est=3.92020178781509, details={'was_impossible': False}),\n",
              " Prediction(uid='A276DNWKL76HNX', iid='B0000DB4D1', r_ui=1.0, est=3.2689701025214175, details={'was_impossible': False}),\n",
              " Prediction(uid='A3IP8Q5WMM1K00', iid='B000058BCQ', r_ui=4.0, est=3.9125816670757088, details={'was_impossible': False}),\n",
              " Prediction(uid='A1PL4HHP44M4FB', iid='B000067G0J', r_ui=5.0, est=3.1186256758928876, details={'was_impossible': False}),\n",
              " Prediction(uid='A2IIXQBB33YISF', iid='B00005OQMO', r_ui=5.0, est=4.1829806426344245, details={'was_impossible': False}),\n",
              " Prediction(uid='A17P7Y5GCUW8OZ', iid='B00006HYPV', r_ui=4.0, est=3.237994965115995, details={'was_impossible': False}),\n",
              " Prediction(uid='A2RU4U1JZ3DMP5', iid='B0000BZL5A', r_ui=5.0, est=4.497026370789004, details={'was_impossible': False}),\n",
              " Prediction(uid='A3NC29XJRI4M3I', iid='140053271X', r_ui=4.0, est=3.902632231549199, details={'was_impossible': False}),\n",
              " Prediction(uid='A224FJ6EJUUEN7', iid='B00005T3W5', r_ui=1.0, est=3.8972828328708125, details={'was_impossible': False}),\n",
              " Prediction(uid='A21CBF8EVB0V69', iid='B00005BC0K', r_ui=3.0, est=3.5268352448879474, details={'was_impossible': False}),\n",
              " Prediction(uid='A3TM91KY7E5QQ6', iid='B000065BP9', r_ui=5.0, est=4.231710256668306, details={'was_impossible': False}),\n",
              " Prediction(uid='AZ9TL4O2MSFHK', iid='B00006IRR8', r_ui=5.0, est=4.1255915051827206, details={'was_impossible': False}),\n",
              " Prediction(uid='AQZL6KU5PH54D', iid='B0000X0VCY', r_ui=5.0, est=4.24864381279346, details={'was_impossible': False}),\n",
              " Prediction(uid='A27OTUV99WVQ7L', iid='B0000BZOGJ', r_ui=5.0, est=4.425971455253694, details={'was_impossible': False}),\n",
              " Prediction(uid='AMJESI07WEYQH', iid='B00005T3BD', r_ui=5.0, est=4.630165164330442, details={'was_impossible': False}),\n",
              " Prediction(uid='A2SOITQS5YM63A', iid='B00009V6U0', r_ui=5.0, est=4.502193767719389, details={'was_impossible': False}),\n",
              " Prediction(uid='A1XFG8SU11XIZH', iid='B00006IR39', r_ui=5.0, est=3.92020178781509, details={'was_impossible': False}),\n",
              " Prediction(uid='A2ZTA9K1148NTG', iid='B00004VUGJ', r_ui=4.0, est=4.276881494851035, details={'was_impossible': False}),\n",
              " Prediction(uid='A21I5Y5BXGGWLI', iid='B00007KDVI', r_ui=5.0, est=3.649319724252088, details={'was_impossible': False}),\n",
              " Prediction(uid='AG6XSAHSXKPDQ', iid='B00009EHJV', r_ui=5.0, est=4.160328579765741, details={'was_impossible': False}),\n",
              " Prediction(uid='ATOJPDVEHBL6A', iid='B00007AP2O', r_ui=4.0, est=3.6496628607637094, details={'was_impossible': False}),\n",
              " Prediction(uid='AA6PJO2MSJ8RN', iid='B0000899ZB', r_ui=5.0, est=4.3876254090739835, details={'was_impossible': False}),\n",
              " Prediction(uid='AQAHHJHXETP4Z', iid='B00007E8D2', r_ui=5.0, est=4.153582439133913, details={'was_impossible': False}),\n",
              " Prediction(uid='A3OMJNYBG168ZU', iid='B000026D8E', r_ui=1.0, est=3.2147637646664027, details={'was_impossible': False}),\n",
              " Prediction(uid='AEQIIWSVBJBLF', iid='B000067RT6', r_ui=5.0, est=4.4435909298907825, details={'was_impossible': False}),\n",
              " Prediction(uid='A2N3QLW1C33B1V', iid='B00004THCZ', r_ui=4.0, est=4.178382406574259, details={'was_impossible': False}),\n",
              " Prediction(uid='A3BXWT3QB1BI20', iid='B00009R6WY', r_ui=5.0, est=4.713474446958007, details={'was_impossible': False}),\n",
              " Prediction(uid='AP0TIX2R49E3Z', iid='B00000K4KH', r_ui=4.0, est=4.24862873879685, details={'was_impossible': False}),\n",
              " Prediction(uid='A1F6ASVUPBDSKJ', iid='B00000K135', r_ui=4.0, est=4.501616400524951, details={'was_impossible': False}),\n",
              " Prediction(uid='A2ZBHG0DLMPF1M', iid='B00009WQS1', r_ui=5.0, est=4.0722548365574385, details={'was_impossible': False}),\n",
              " Prediction(uid='A24L3RW6IU0W7V', iid='B000068ILF', r_ui=5.0, est=4.664807459594431, details={'was_impossible': False}),\n",
              " Prediction(uid='APYFY882P3PGH', iid='B00004ZCKV', r_ui=5.0, est=4.0556145853822345, details={'was_impossible': False}),\n",
              " Prediction(uid='A3G2BXUALO94XA', iid='B00004WCFY', r_ui=5.0, est=3.89786959120523, details={'was_impossible': False}),\n",
              " Prediction(uid='A1I87OEWBLOAOQ', iid='B00008KWWF', r_ui=5.0, est=4.049125578175985, details={'was_impossible': False}),\n",
              " Prediction(uid='A1EARN5PUVIF1S', iid='B000069K8O', r_ui=5.0, est=3.850647768842823, details={'was_impossible': False}),\n",
              " Prediction(uid='ALE2AADZY4Z0F', iid='B0000AQIFW', r_ui=3.0, est=3.3889025062126183, details={'was_impossible': False}),\n",
              " Prediction(uid='AJ44AACB4ZNCT', iid='B0000DB4D1', r_ui=1.0, est=3.2689701025214175, details={'was_impossible': False}),\n",
              " Prediction(uid='A2JOM569WKCD3I', iid='B0000B3E8U', r_ui=3.0, est=3.3315326478204907, details={'was_impossible': False}),\n",
              " Prediction(uid='A1OD9BWVCYUX6C', iid='B00006RH5I', r_ui=5.0, est=4.12966018060652, details={'was_impossible': False}),\n",
              " Prediction(uid='AFH50S8219QT8', iid='B00004T8R2', r_ui=4.0, est=4.259323943389856, details={'was_impossible': False}),\n",
              " Prediction(uid='A3OYCHJ9KSY8M0', iid='B000058BCR', r_ui=1.0, est=3.735823501308357, details={'was_impossible': False}),\n",
              " Prediction(uid='A3V5HEML7BX20P', iid='B00008XETO', r_ui=5.0, est=3.457048191058306, details={'was_impossible': False}),\n",
              " Prediction(uid='A206VL8WFNR7EE', iid='B00005T39Y', r_ui=5.0, est=4.027675714644116, details={'was_impossible': False}),\n",
              " Prediction(uid='AEFD69CM2AWLH', iid='B00005OT5X', r_ui=4.0, est=4.1103922062333496, details={'was_impossible': False}),\n",
              " Prediction(uid='A3MNMB4VENMBL4', iid='B000068NYF', r_ui=5.0, est=4.51983214260221, details={'was_impossible': False}),\n",
              " Prediction(uid='A13CLOXJDVDZ3J', iid='B00005ARK3', r_ui=1.0, est=3.546672967461607, details={'was_impossible': False}),\n",
              " Prediction(uid='AANS7LQ0JYK5R', iid='B00000JII6', r_ui=2.0, est=2.6925716955744248, details={'was_impossible': False}),\n",
              " Prediction(uid='A2RHUKJQM5SHLC', iid='B000067O5G', r_ui=4.0, est=3.708235703761108, details={'was_impossible': False}),\n",
              " Prediction(uid='A2DJTF00J4GZ00', iid='B00005ARK3', r_ui=3.0, est=3.546672967461607, details={'was_impossible': False}),\n",
              " Prediction(uid='ABFY4JR6IZFJ4', iid='B00007EDM8', r_ui=5.0, est=3.7631819967490716, details={'was_impossible': False}),\n",
              " Prediction(uid='A1UACOLNQ69A1K', iid='B00005ATMB', r_ui=1.0, est=4.361008900909548, details={'was_impossible': False}),\n",
              " Prediction(uid='A1WRAWBMHC45NQ', iid='B00000J1QK', r_ui=3.0, est=3.827725578123943, details={'was_impossible': False}),\n",
              " Prediction(uid='A505SBC9LMJ4K', iid='B00006HZ0K', r_ui=5.0, est=4.4939628264602565, details={'was_impossible': False}),\n",
              " Prediction(uid='A1EDS9RW4HQJQN', iid='B0000C6E3P', r_ui=4.0, est=4.086460194257149, details={'was_impossible': False}),\n",
              " Prediction(uid='A3E7A6952MAZ93', iid='B0000658CH', r_ui=5.0, est=3.7894759826190425, details={'was_impossible': False}),\n",
              " Prediction(uid='A1IRPLB2K75XHF', iid='B00000K2YR', r_ui=4.0, est=4.009077174258015, details={'was_impossible': False}),\n",
              " Prediction(uid='A2GALN195GLMOL', iid='B000092YQK', r_ui=3.0, est=3.7101202190677696, details={'was_impossible': False}),\n",
              " Prediction(uid='A35293YH3GCP0U', iid='B00005ML7Q', r_ui=3.0, est=4.044628436838328, details={'was_impossible': False}),\n",
              " Prediction(uid='A1VTN9OWALZK8O', iid='B000078QJ1', r_ui=3.0, est=3.449771692844573, details={'was_impossible': False}),\n",
              " Prediction(uid='A2Q3OXSI3A1AIN', iid='B00009LI55', r_ui=4.0, est=3.997927925822941, details={'was_impossible': False}),\n",
              " Prediction(uid='AHAQRB78PXXCK', iid='B00006B7DA', r_ui=4.0, est=3.8983805637714477, details={'was_impossible': False}),\n",
              " Prediction(uid='A2ZG483QPSDTYL', iid='B000089GN4', r_ui=4.0, est=4.019759178596765, details={'was_impossible': False}),\n",
              " Prediction(uid='AT6M98SKDXPHG', iid='B00007KDVK', r_ui=3.0, est=3.68468826902894, details={'was_impossible': False}),\n",
              " Prediction(uid='A2KK0TGWNE5TPY', iid='B00008VIX2', r_ui=5.0, est=4.244914493281523, details={'was_impossible': False}),\n",
              " Prediction(uid='A2HURZ0YX7VZMR', iid='B00009UT28', r_ui=5.0, est=4.349252282605622, details={'was_impossible': False}),\n",
              " Prediction(uid='A3BFEOY0UX6PVY', iid='B0000510T7', r_ui=5.0, est=4.12500511237273, details={'was_impossible': False}),\n",
              " Prediction(uid='A3FGSRACMZ48N2', iid='B00005T406', r_ui=4.0, est=4.32506811696242, details={'was_impossible': False}),\n",
              " Prediction(uid='AUVRHD68IYNZD', iid='B00004Z5M1', r_ui=3.0, est=4.560932013732071, details={'was_impossible': False}),\n",
              " Prediction(uid='ACL4T2ZUYOPZT', iid='B000083KIH', r_ui=5.0, est=4.662158373101009, details={'was_impossible': False}),\n",
              " Prediction(uid='A2A2069OPGGTGC', iid='B00009R6K7', r_ui=5.0, est=4.660833873683243, details={'was_impossible': False}),\n",
              " Prediction(uid='A2N1ODNCOKWVJ7', iid='B00007E7C8', r_ui=4.0, est=4.385523478967096, details={'was_impossible': False}),\n",
              " Prediction(uid='ACMOAPRS7DHUA', iid='B00005N6KG', r_ui=5.0, est=3.954360300661451, details={'was_impossible': False}),\n",
              " Prediction(uid='A1WGWGXBXPR7HT', iid='B000066R6M', r_ui=5.0, est=4.007077252019164, details={'was_impossible': False}),\n",
              " Prediction(uid='A10WYH2UQ573D3', iid='B00004T8R2', r_ui=5.0, est=4.259323943389856, details={'was_impossible': False}),\n",
              " Prediction(uid='AW7LSO4G9JO4M', iid='B00008Y0VN', r_ui=5.0, est=4.234122557160463, details={'was_impossible': False}),\n",
              " Prediction(uid='AL3VVF9DS811N', iid='B00009ZY5C', r_ui=1.0, est=3.0702232331506885, details={'was_impossible': False}),\n",
              " Prediction(uid='A2YVFB41B7Y5LD', iid='B00006JILC', r_ui=4.0, est=3.6915067466999565, details={'was_impossible': False}),\n",
              " Prediction(uid='A1MQ96EGV5CRC5', iid='B00001P4XA', r_ui=2.0, est=3.8156415559673764, details={'was_impossible': False}),\n",
              " Prediction(uid='A3MX0XE7UPEZ62', iid='B00000JBAT', r_ui=3.0, est=3.6372433059439957, details={'was_impossible': False}),\n",
              " Prediction(uid='A21TQF1E0W8FBK', iid='B00008Y1BX', r_ui=5.0, est=4.171260342447372, details={'was_impossible': False}),\n",
              " Prediction(uid='A34QWZUNR0WNWM', iid='B00000JI4F', r_ui=5.0, est=3.754736554371849, details={'was_impossible': False}),\n",
              " Prediction(uid='A1CX3WLRLH5MXH', iid='B00005NIMJ', r_ui=5.0, est=4.492995952664727, details={'was_impossible': False}),\n",
              " Prediction(uid='AWUM8CWDH7PWK', iid='B00008ZOYE', r_ui=1.0, est=3.371354307682159, details={'was_impossible': False}),\n",
              " Prediction(uid='A36194WE90W375', iid='B00008Y0VN', r_ui=4.0, est=4.234122557160463, details={'was_impossible': False}),\n",
              " Prediction(uid='A2HTDM23NJA2AC', iid='B00001W0DI', r_ui=5.0, est=4.441155026333558, details={'was_impossible': False}),\n",
              " Prediction(uid='A2QT3V94INSPJL', iid='B00008V6NI', r_ui=5.0, est=3.6572512491659555, details={'was_impossible': False}),\n",
              " Prediction(uid='A1L0TVAJ1TYE06', iid='B00006B7DA', r_ui=5.0, est=3.8983805637714477, details={'was_impossible': False}),\n",
              " Prediction(uid='A1OMZ3YU1W9L99', iid='B00004SABJ', r_ui=5.0, est=3.7302130007298686, details={'was_impossible': False}),\n",
              " Prediction(uid='A38WX75G8UK27E', iid='B00001P4XA', r_ui=4.0, est=3.8156415559673764, details={'was_impossible': False}),\n",
              " Prediction(uid='A3LXZ8OHE4OJ0M', iid='B0000A1VS3', r_ui=5.0, est=4.062624561402287, details={'was_impossible': False}),\n",
              " Prediction(uid='AIIYT5F8KEIW1', iid='B00009WQS1', r_ui=5.0, est=4.0722548365574385, details={'was_impossible': False}),\n",
              " Prediction(uid='A523Y3LMTBY5Y', iid='B000068MP2', r_ui=2.0, est=4.072794986863558, details={'was_impossible': False}),\n",
              " Prediction(uid='AZAKIX46V20A6', iid='B00005B8M3', r_ui=5.0, est=3.4336401139187998, details={'was_impossible': False}),\n",
              " Prediction(uid='A310JHINM2UBVT', iid='B000089GN2', r_ui=5.0, est=3.875238581685178, details={'was_impossible': False}),\n",
              " Prediction(uid='A1SA5RCNWYWAS0', iid='B0000AOWVC', r_ui=3.0, est=3.2091279647455244, details={'was_impossible': False}),\n",
              " Prediction(uid='A1SADI0VZ9B3QS', iid='B00006JINY', r_ui=2.0, est=4.2026578377638355, details={'was_impossible': False}),\n",
              " Prediction(uid='A22M3JTP2SN9NT', iid='B00004Z6N6', r_ui=5.0, est=4.470612795930893, details={'was_impossible': False}),\n",
              " Prediction(uid='A5X9XCKMRB3DF', iid='B0000642RX', r_ui=5.0, est=4.2961531608940735, details={'was_impossible': False}),\n",
              " Prediction(uid='A1B0YO04O40C3M', iid='B00006JN3G', r_ui=5.0, est=4.330971551030592, details={'was_impossible': False}),\n",
              " Prediction(uid='A29G8EDACR9JF3', iid='B00008SB1D', r_ui=1.0, est=2.2422880173403454, details={'was_impossible': False}),\n",
              " Prediction(uid='A1SE2Z492GFNCU', iid='B00004T8R2', r_ui=4.0, est=4.259323943389856, details={'was_impossible': False}),\n",
              " Prediction(uid='A1HBPE8UL9G0JL', iid='B0000AOWW9', r_ui=5.0, est=3.9269738990901093, details={'was_impossible': False}),\n",
              " Prediction(uid='A3SPX6C2Z0PV19', iid='B00004ZCJE', r_ui=5.0, est=4.135556997034983, details={'was_impossible': False}),\n",
              " Prediction(uid='A3FL5F9G2X4M4U', iid='B0000VYJRY', r_ui=5.0, est=4.60023455987499, details={'was_impossible': False}),\n",
              " Prediction(uid='A31FP03PMF8H6W', iid='B0000A98AC', r_ui=1.0, est=3.7729207940134435, details={'was_impossible': False}),\n",
              " Prediction(uid='A8IZCLZMI7OMT', iid='B000068P8W', r_ui=5.0, est=4.120012686585527, details={'was_impossible': False}),\n",
              " Prediction(uid='ATIT9Y0IHUKIU', iid='B00007FGU7', r_ui=5.0, est=3.796023295365374, details={'was_impossible': False}),\n",
              " Prediction(uid='A2HRUHOWDNKCZ3', iid='B00007E7JU', r_ui=4.0, est=4.5678470442614065, details={'was_impossible': False}),\n",
              " Prediction(uid='A1V4A5U5O3TMMD', iid='B00009XVCZ', r_ui=5.0, est=4.343902210144954, details={'was_impossible': False}),\n",
              " Prediction(uid='ASFT44UECIBDD', iid='B000050NPX', r_ui=4.0, est=3.3792828977005605, details={'was_impossible': False}),\n",
              " Prediction(uid='A38WH4RWPR673C', iid='B00004ZCKV', r_ui=1.0, est=4.0556145853822345, details={'was_impossible': False}),\n",
              " Prediction(uid='A2XVE0GEZ4G16A', iid='B00001P505', r_ui=5.0, est=4.264305847775701, details={'was_impossible': False}),\n",
              " Prediction(uid='A235P3IBZJ2L4B', iid='B000059ZYA', r_ui=4.0, est=4.3521354324211865, details={'was_impossible': False}),\n",
              " Prediction(uid='ARQZXPSC21OPN', iid='B000065BP9', r_ui=5.0, est=4.13925892215676, details={'was_impossible': False}),\n",
              " Prediction(uid='A29EPBSXQJP9Z', iid='140053271X', r_ui=5.0, est=3.902632231549199, details={'was_impossible': False}),\n",
              " Prediction(uid='A3E7FN9ESD8Z4U', iid='B00011KLOI', r_ui=5.0, est=4.6849837202357305, details={'was_impossible': False}),\n",
              " Prediction(uid='A1QUILLLNTPNBD', iid='B000068O3S', r_ui=5.0, est=4.309640667616528, details={'was_impossible': False}),\n",
              " Prediction(uid='A3GLV678ZBRMYM', iid='B000063574', r_ui=5.0, est=4.135716781427137, details={'was_impossible': False}),\n",
              " Prediction(uid='AZOMD9UU8Z7DD', iid='B0000DIET2', r_ui=5.0, est=3.5687917668563944, details={'was_impossible': False}),\n",
              " Prediction(uid='A2LTBZDLLMAZMB', iid='B00009RDIF', r_ui=3.0, est=3.679425858803349, details={'was_impossible': False}),\n",
              " Prediction(uid='A2PUMUZ7V9B0J5', iid='B0000ACOBG', r_ui=4.0, est=3.8062149345160945, details={'was_impossible': False}),\n",
              " Prediction(uid='A386LG0LRWKJZP', iid='B00007M1TZ', r_ui=4.0, est=3.9832007484068357, details={'was_impossible': False}),\n",
              " Prediction(uid='A2SFVAJTL8V4UB', iid='1400532655', r_ui=4.0, est=3.7532865118009076, details={'was_impossible': False}),\n",
              " Prediction(uid='A2QTY5PVP82UR6', iid='B000095SB6', r_ui=2.0, est=3.543706160366265, details={'was_impossible': False}),\n",
              " Prediction(uid='A2INJ5ZNSHUE9R', iid='0972683275', r_ui=4.0, est=4.472750777235683, details={'was_impossible': False}),\n",
              " Prediction(uid='A3K1RT8ZKA3KW6', iid='B00006HZ0L', r_ui=4.0, est=4.268772832094234, details={'was_impossible': False}),\n",
              " Prediction(uid='A159UGUHOEM6X8', iid='B000067RC1', r_ui=4.0, est=4.22793539503065, details={'was_impossible': False}),\n",
              " Prediction(uid='A33B7KNOUC6GO1', iid='B0000DF2LT', r_ui=5.0, est=2.8836870622731725, details={'was_impossible': False}),\n",
              " Prediction(uid='A33NOL2WZJG300', iid='B0000A0VET', r_ui=3.0, est=4.096309639880661, details={'was_impossible': False}),\n",
              " Prediction(uid='ADLC58TIMBMJG', iid='B00003CWDQ', r_ui=5.0, est=4.147169679872984, details={'was_impossible': False}),\n",
              " Prediction(uid='A23LL7K0BBRFQR', iid='B00006JILW', r_ui=4.0, est=3.825517517392239, details={'was_impossible': False}),\n",
              " Prediction(uid='A2ZNAGL4NH2PRB', iid='B00004T8R2', r_ui=5.0, est=4.259323943389856, details={'was_impossible': False}),\n",
              " Prediction(uid='A1CJVWUU587Q12', iid='B00006L4FX', r_ui=3.0, est=4.217992715397832, details={'was_impossible': False}),\n",
              " Prediction(uid='A19KIKWZHCVA30', iid='B000062VUO', r_ui=5.0, est=4.309426053950354, details={'was_impossible': False}),\n",
              " Prediction(uid='ACE0GR69NMY3T', iid='B00004Y7TD', r_ui=2.0, est=4.255850946554068, details={'was_impossible': False}),\n",
              " Prediction(uid='A25RXNP7Z2TOKS', iid='1400501466', r_ui=5.0, est=3.565085154162557, details={'was_impossible': False}),\n",
              " Prediction(uid='A3MF5M8SDITUAW', iid='B0000C8VEK', r_ui=5.0, est=4.593785333932698, details={'was_impossible': False}),\n",
              " Prediction(uid='A1E6YJH0YZYFU5', iid='B00004T8R2', r_ui=5.0, est=4.320718762724464, details={'was_impossible': False}),\n",
              " Prediction(uid='A1N9U1UIF0IMDE', iid='B000067SOH', r_ui=4.0, est=4.387651161568751, details={'was_impossible': False}),\n",
              " Prediction(uid='A1WTD2B24A331R', iid='B00004YZQ8', r_ui=3.0, est=4.5299053687446005, details={'was_impossible': False}),\n",
              " Prediction(uid='A3OVSG1273CMPY', iid='B000092YQW', r_ui=4.0, est=3.485705909182161, details={'was_impossible': False}),\n",
              " Prediction(uid='A2BKYASR8832TH', iid='B00001WRSJ', r_ui=5.0, est=4.581961243428604, details={'was_impossible': False}),\n",
              " Prediction(uid='A2I2DE1DJUVQOO', iid='B00007LTAQ', r_ui=1.0, est=3.4284919917607786, details={'was_impossible': False}),\n",
              " Prediction(uid='A95UXOAOBLBXS', iid='B00005UK9P', r_ui=4.0, est=3.708851064620985, details={'was_impossible': False}),\n",
              " Prediction(uid='A1MRLATAXCMJMH', iid='B00007FGUF', r_ui=4.0, est=3.8518940780863997, details={'was_impossible': False}),\n",
              " Prediction(uid='A3UFCX1AE4TKZE', iid='B00004Z0BO', r_ui=4.0, est=3.832168087782733, details={'was_impossible': False}),\n",
              " Prediction(uid='A3CYB7HPIR9L1P', iid='B00003G1RG', r_ui=4.0, est=4.714255587303926, details={'was_impossible': False}),\n",
              " Prediction(uid='AWFOADK9OCIIK', iid='B0000CE1UO', r_ui=1.0, est=3.755532736417683, details={'was_impossible': False}),\n",
              " Prediction(uid='A2VHHYT1BWXMOB', iid='B00001QEMF', r_ui=5.0, est=4.4171324981771445, details={'was_impossible': False}),\n",
              " Prediction(uid='A28EBON3GACRF8', iid='B00008VF63', r_ui=5.0, est=4.0191429837737545, details={'was_impossible': False}),\n",
              " Prediction(uid='A13JC4GSAHTKKZ', iid='B00007E7C8', r_ui=5.0, est=4.385523478967096, details={'was_impossible': False}),\n",
              " Prediction(uid='A70OQKQU37IRY', iid='B00005T3BD', r_ui=5.0, est=4.654634243511645, details={'was_impossible': False}),\n",
              " Prediction(uid='A28CWLKEAD39QB', iid='B00005N6KG', r_ui=3.0, est=3.954360300661451, details={'was_impossible': False}),\n",
              " Prediction(uid='A2SU6AQYT8HP2W', iid='B00004Z5M1', r_ui=5.0, est=4.560932013732071, details={'was_impossible': False}),\n",
              " Prediction(uid='A25HMSEXDH47ZZ', iid='B00004WCIC', r_ui=1.0, est=4.326862518891657, details={'was_impossible': False}),\n",
              " Prediction(uid='AED0QYOGWOOIL', iid='B0000BZL0G', r_ui=5.0, est=4.547593465484926, details={'was_impossible': False}),\n",
              " Prediction(uid='A1S8I0UR1BHH9H', iid='B00007056H', r_ui=3.0, est=4.201867348650098, details={'was_impossible': False}),\n",
              " Prediction(uid='ALDCRD52SXY4F', iid='B00006HYP6', r_ui=4.0, est=3.9859174666981154, details={'was_impossible': False}),\n",
              " Prediction(uid='A39708HO9ZHZT', iid='B00001P4ZR', r_ui=4.0, est=4.121795969135118, details={'was_impossible': False}),\n",
              " Prediction(uid='A3SRCTESC28NR7', iid='B00007E7K9', r_ui=5.0, est=4.4815111321799925, details={'was_impossible': False}),\n",
              " Prediction(uid='A1VL6H2IRUTRXV', iid='B00009KXA3', r_ui=4.0, est=3.7247038894699074, details={'was_impossible': False}),\n",
              " Prediction(uid='A19KCOF4R7UB4U', iid='B00007EDM8', r_ui=1.0, est=3.7631819967490716, details={'was_impossible': False}),\n",
              " Prediction(uid='AP6YRV4XLWSS3', iid='B00005T3H5', r_ui=5.0, est=4.423612812640157, details={'was_impossible': False}),\n",
              " Prediction(uid='A2GXLSNCZ1DRMN', iid='B00005KB24', r_ui=4.0, est=3.5628826290449616, details={'was_impossible': False}),\n",
              " Prediction(uid='AVS9JBKAIQ01J', iid='B00004TWM6', r_ui=1.0, est=3.4429484927784033, details={'was_impossible': False}),\n",
              " Prediction(uid='A124RUUXWRAE8X', iid='B00006HOKR', r_ui=5.0, est=4.123049487407523, details={'was_impossible': False}),\n",
              " Prediction(uid='A2EPPFVDAIDQSI', iid='B00011KM38', r_ui=5.0, est=4.598150128746584, details={'was_impossible': False}),\n",
              " Prediction(uid='A1JYZ51B9W8K7Y', iid='B0000AQIFW', r_ui=5.0, est=3.43106887718917, details={'was_impossible': False}),\n",
              " Prediction(uid='A3K0BKOT6NHGS4', iid='B00001P4ZH', r_ui=4.0, est=4.447598926097144, details={'was_impossible': False}),\n",
              " Prediction(uid='A36491EULU4V4P', iid='B00000J4FS', r_ui=1.0, est=4.0678046681973274, details={'was_impossible': False}),\n",
              " Prediction(uid='A6NQVC54DBMV1', iid='B00006JPA1', r_ui=5.0, est=4.124362948798887, details={'was_impossible': False}),\n",
              " Prediction(uid='A39SA8HIP2NOVQ', iid='B0000A98AC', r_ui=1.0, est=3.7729207940134435, details={'was_impossible': False}),\n",
              " Prediction(uid='A1AQGQWCZ1UDI1', iid='B00005ARK4', r_ui=5.0, est=3.7071151447577098, details={'was_impossible': False}),\n",
              " Prediction(uid='A3LV8JJF1KK7O8', iid='B0000228GF', r_ui=3.0, est=3.433324196370132, details={'was_impossible': False}),\n",
              " Prediction(uid='A2J7L9NIRM8EY2', iid='B00005T39Y', r_ui=5.0, est=4.027675714644116, details={'was_impossible': False}),\n",
              " Prediction(uid='A2V20TSQAZSMW3', iid='B0000A2QBP', r_ui=5.0, est=4.594456732450171, details={'was_impossible': False}),\n",
              " Prediction(uid='ARN8G0YKVRBNT', iid='B000069EUW', r_ui=5.0, est=3.6950806954691564, details={'was_impossible': False}),\n",
              " Prediction(uid='A3LM5942RUO9JW', iid='B00009XVCZ', r_ui=5.0, est=4.393377270567696, details={'was_impossible': False}),\n",
              " Prediction(uid='A329X6LME4DZ9', iid='B00004THCZ', r_ui=5.0, est=4.178382406574259, details={'was_impossible': False}),\n",
              " Prediction(uid='A2HP5WYZQNOV3K', iid='B00005ML7Q', r_ui=5.0, est=3.991492714420893, details={'was_impossible': False}),\n",
              " Prediction(uid='A1FIB3V7IX4O6T', iid='B00007E7JU', r_ui=5.0, est=4.6404920761550805, details={'was_impossible': False}),\n",
              " Prediction(uid='A361VYWK7WFAQJ', iid='B0000A1G05', r_ui=5.0, est=4.338781203986654, details={'was_impossible': False}),\n",
              " Prediction(uid='A1LBH85DP0NEVO', iid='B00000J1SC', r_ui=5.0, est=4.082365908468535, details={'was_impossible': False}),\n",
              " Prediction(uid='AUQFQE7GEA4RO', iid='B00006I5J7', r_ui=4.0, est=4.680602249709198, details={'was_impossible': False}),\n",
              " Prediction(uid='A2OAFPU00OTUSC', iid='B00009WBYL', r_ui=4.0, est=4.757350506268132, details={'was_impossible': False}),\n",
              " Prediction(uid='APDIE9QNKDTLS', iid='B00001WRSJ', r_ui=5.0, est=4.581961243428604, details={'was_impossible': False}),\n",
              " Prediction(uid='A2FCYHEV5DWT41', iid='B0000BZL5A', r_ui=5.0, est=4.538213496818863, details={'was_impossible': False}),\n",
              " Prediction(uid='A1BU2SGKQ4CXUL', iid='B00008Y0VN', r_ui=5.0, est=4.234122557160463, details={'was_impossible': False}),\n",
              " Prediction(uid='A28UW2IAJG7JCX', iid='B000067RC4', r_ui=5.0, est=4.202486737950874, details={'was_impossible': False}),\n",
              " Prediction(uid='A1759MB4ED6YS', iid='B00006HYKM', r_ui=5.0, est=3.5538761166810904, details={'was_impossible': False}),\n",
              " Prediction(uid='AU71KHJN4ZZ9Y', iid='B000067SOL', r_ui=5.0, est=4.512999565146051, details={'was_impossible': False}),\n",
              " Prediction(uid='AEN7BXN3ZQ94V', iid='B00007EDZG', r_ui=5.0, est=4.390179091660837, details={'was_impossible': False}),\n",
              " Prediction(uid='AKIUO7EVL6ZAB', iid='B0000511U7', r_ui=5.0, est=4.8001319064427745, details={'was_impossible': False}),\n",
              " Prediction(uid='A3GIAPEZGPNELB', iid='B0000D8HK1', r_ui=5.0, est=3.637116368539279, details={'was_impossible': False}),\n",
              " Prediction(uid='A32PLLUJ3AFYLV', iid='B00001W0DH', r_ui=5.0, est=4.149932653778362, details={'was_impossible': False}),\n",
              " Prediction(uid='A1S5G0CL6NZHM8', iid='B00006BBAC', r_ui=5.0, est=4.157976460167452, details={'was_impossible': False}),\n",
              " Prediction(uid='A399529HZGZT0P', iid='B00005T406', r_ui=5.0, est=4.32506811696242, details={'was_impossible': False}),\n",
              " Prediction(uid='A1TOCVEL94O7JQ', iid='B000069EV0', r_ui=4.0, est=3.452668837518399, details={'was_impossible': False}),\n",
              " Prediction(uid='A27TSF4WO8EF51', iid='B0000A2QBP', r_ui=5.0, est=4.594456732450171, details={'was_impossible': False}),\n",
              " Prediction(uid='A378UM0ONLW6K1', iid='B00001WRSJ', r_ui=5.0, est=4.581961243428604, details={'was_impossible': False}),\n",
              " Prediction(uid='ASIU54TS2NET', iid='B00005854B', r_ui=4.0, est=3.6145556985602805, details={'was_impossible': False}),\n",
              " Prediction(uid='A33FC12R8SGU8T', iid='B00007E7JU', r_ui=5.0, est=4.5678470442614065, details={'was_impossible': False}),\n",
              " Prediction(uid='A1VJYYVCQKE7KT', iid='B000068O1A', r_ui=5.0, est=4.552122919029858, details={'was_impossible': False}),\n",
              " Prediction(uid='A3D4EE229PJITR', iid='B00005K47X', r_ui=4.0, est=4.571596885066515, details={'was_impossible': False}),\n",
              " Prediction(uid='AI9AJB0X14NRD', iid='B000095SB4', r_ui=5.0, est=3.5567070926418958, details={'was_impossible': False}),\n",
              " Prediction(uid='A3O1SFBKVIQKJ0', iid='B00005NOKT', r_ui=5.0, est=3.9147850075547397, details={'was_impossible': False}),\n",
              " Prediction(uid='A1N46OPPSGYEB6', iid='B00009EFR2', r_ui=5.0, est=4.358546889891784, details={'was_impossible': False}),\n",
              " Prediction(uid='A1XRIHBBVC46QW', iid='B00008AWKZ', r_ui=5.0, est=4.0125726100812935, details={'was_impossible': False}),\n",
              " Prediction(uid='A1TVFEIAK9EMID', iid='B00005NIMJ', r_ui=5.0, est=4.492995952664727, details={'was_impossible': False}),\n",
              " Prediction(uid='A3F18X2U6TFDG1', iid='B0000CE1UO', r_ui=3.0, est=3.755532736417683, details={'was_impossible': False}),\n",
              " Prediction(uid='A169LARGUSF0FN', iid='B00009QOWW', r_ui=5.0, est=3.6582045444124898, details={'was_impossible': False}),\n",
              " Prediction(uid='A1WGDUTC5XSWG9', iid='B0000A0AEM', r_ui=4.0, est=4.015901512962903, details={'was_impossible': False}),\n",
              " Prediction(uid='A2053ZJUGCKUA5', iid='B000067RC4', r_ui=5.0, est=4.202486737950874, details={'was_impossible': False}),\n",
              " Prediction(uid='A33FFM71RZEMF6', iid='B00007EDM8', r_ui=5.0, est=3.7631819967490716, details={'was_impossible': False}),\n",
              " Prediction(uid='A2KKSVPDMR0IUV', iid='B0000XOB7U', r_ui=2.0, est=4.1132976075612495, details={'was_impossible': False}),\n",
              " Prediction(uid='A18DLX31TIH36G', iid='B000092TT0', r_ui=4.0, est=4.728315681051423, details={'was_impossible': False}),\n",
              " Prediction(uid='AIPZDDJHU5CBA', iid='B0000AAAPF', r_ui=4.0, est=2.8278464027547208, details={'was_impossible': False}),\n",
              " Prediction(uid='A2YNQWNJ4CLNX6', iid='B00000J1TX', r_ui=3.0, est=4.38059084184745, details={'was_impossible': False}),\n",
              " Prediction(uid='A2X6T89PNJB0RH', iid='B00005UK9P', r_ui=5.0, est=3.708851064620985, details={'was_impossible': False}),\n",
              " Prediction(uid='AATC8P0Q9ZWD6', iid='B00009R6TA', r_ui=5.0, est=4.466457125483206, details={'was_impossible': False}),\n",
              " Prediction(uid='A3H8ILBZ9R544N', iid='B000063TJY', r_ui=5.0, est=4.134114072290154, details={'was_impossible': False}),\n",
              " Prediction(uid='A6LKKJ8DSA114', iid='B00004Z0BN', r_ui=5.0, est=3.9824198403958646, details={'was_impossible': False}),\n",
              " Prediction(uid='A2BS42L1QO8UWM', iid='B00007K3A3', r_ui=4.0, est=3.8278663784675775, details={'was_impossible': False}),\n",
              " Prediction(uid='A2VOVOB2HOI19Y', iid='B00006I5WJ', r_ui=5.0, est=4.142928532234803, details={'was_impossible': False}),\n",
              " Prediction(uid='A1J2QFNNQLMALE', iid='B00007EDM8', r_ui=5.0, est=3.7631819967490716, details={'was_impossible': False}),\n",
              " Prediction(uid='A1BY79NTJUJMY6', iid='B00006IS4X', r_ui=5.0, est=3.981986693345748, details={'was_impossible': False}),\n",
              " Prediction(uid='A1Y7SVI9U1DE51', iid='B00009WQS1', r_ui=4.0, est=4.0722548365574385, details={'was_impossible': False}),\n",
              " Prediction(uid='A253M5V3FFP5RR', iid='B00007E7JU', r_ui=4.0, est=4.5678470442614065, details={'was_impossible': False}),\n",
              " Prediction(uid='A3LND7UJLTI4OX', iid='B000092YQW', r_ui=1.0, est=3.5866000432886063, details={'was_impossible': False}),\n",
              " Prediction(uid='A13L7H2QQC3ANZ', iid='B00005MNSS', r_ui=3.0, est=4.505245023607885, details={'was_impossible': False}),\n",
              " Prediction(uid='A3V4IQVHCK031X', iid='B00008AWKZ', r_ui=5.0, est=3.964370524184393, details={'was_impossible': False}),\n",
              " Prediction(uid='A3KFLKO5MSTRCZ', iid='B00004ZCJE', r_ui=4.0, est=4.236707920457704, details={'was_impossible': False}),\n",
              " Prediction(uid='A3259Y8LHZY5WY', iid='B00007M1TZ', r_ui=5.0, est=3.9832007484068357, details={'was_impossible': False}),\n",
              " Prediction(uid='AMPTCQEPCPF98', iid='B00007KDVI', r_ui=5.0, est=3.649319724252088, details={'was_impossible': False}),\n",
              " Prediction(uid='AZHG2A8DQK9G', iid='B0000AI0N1', r_ui=5.0, est=4.6176781348402605, details={'was_impossible': False}),\n",
              " Prediction(uid='A3BOUPGDLG7QPP', iid='B00009J5VX', r_ui=5.0, est=4.089071745137804, details={'was_impossible': False}),\n",
              " Prediction(uid='A1ASEFVWN8W5E8', iid='B00004WCGF', r_ui=5.0, est=4.515105179716174, details={'was_impossible': False}),\n",
              " Prediction(uid='A302HO6V4V1MY7', iid='B00008L3HY', r_ui=2.0, est=3.5213724721220268, details={'was_impossible': False}),\n",
              " Prediction(uid='ANFUSD2VDAURK', iid='B00008L3HY', r_ui=4.0, est=3.5213724721220268, details={'was_impossible': False}),\n",
              " Prediction(uid='A2KFK3WT8VAJC5', iid='B00004SPUN', r_ui=5.0, est=3.2684767169838302, details={'was_impossible': False}),\n",
              " Prediction(uid='A2LRDR1ZO1VXPK', iid='B00007E7JU', r_ui=5.0, est=4.5678470442614065, details={'was_impossible': False}),\n",
              " Prediction(uid='A29TWSHHB3H5H7', iid='B00000J1SC', r_ui=3.0, est=4.014674576667422, details={'was_impossible': False}),\n",
              " Prediction(uid='A1ZSZRFBA411IM', iid='B0000642RX', r_ui=4.0, est=4.343311560920253, details={'was_impossible': False}),\n",
              " Prediction(uid='A2O1588MAIJWA9', iid='B00001P4ZH', r_ui=3.0, est=4.447598926097144, details={'was_impossible': False}),\n",
              " Prediction(uid='A3N6NUBFZ4AZL6', iid='B00004WCID', r_ui=5.0, est=4.512207941782737, details={'was_impossible': False}),\n",
              " Prediction(uid='A1N3APSF4OWEBS', iid='B00000JI4F', r_ui=5.0, est=3.754736554371849, details={'was_impossible': False}),\n",
              " Prediction(uid='A346HRRKVGLRSI', iid='B0000A1G05', r_ui=5.0, est=4.338781203986654, details={'was_impossible': False}),\n",
              " Prediction(uid='A28NQM6FEFI3L4', iid='B00007E7JU', r_ui=3.0, est=4.5678470442614065, details={'was_impossible': False}),\n",
              " Prediction(uid='AVOJSADCU7PIE', iid='B00008EM7U', r_ui=1.0, est=3.5542861484169284, details={'was_impossible': False}),\n",
              " Prediction(uid='A20LXNWGV928QY', iid='B00005QXWI', r_ui=2.0, est=3.8883152460448143, details={'was_impossible': False}),\n",
              " Prediction(uid='A133C40VXZWO4Q', iid='B00006HOLO', r_ui=4.0, est=4.19667275847806, details={'was_impossible': False}),\n",
              " Prediction(uid='A1SE8G7Z0R7XQV', iid='B00001WRSJ', r_ui=5.0, est=4.581961243428604, details={'was_impossible': False}),\n",
              " Prediction(uid='A2O4RZEW9PRTDL', iid='B000067O5G', r_ui=3.0, est=3.708235703761108, details={'was_impossible': False}),\n",
              " Prediction(uid='A2GX4KWO3V42Z', iid='B00005Q4ZV', r_ui=3.0, est=3.40893183275264, details={'was_impossible': False}),\n",
              " Prediction(uid='AFW019W4XV97S', iid='B00006I5SQ', r_ui=5.0, est=3.8426083277373206, details={'was_impossible': False}),\n",
              " Prediction(uid='A20WA7NHGTPVH3', iid='B00009QOW4', r_ui=5.0, est=4.650223960020694, details={'was_impossible': False}),\n",
              " Prediction(uid='A25UFPS4GWQM2F', iid='B00005NCWM', r_ui=4.0, est=3.9357190703153253, details={'was_impossible': False}),\n",
              " Prediction(uid='A1OQO2KRENUNKA', iid='B00008ZPED', r_ui=5.0, est=4.223875984438245, details={'was_impossible': False}),\n",
              " Prediction(uid='AHZW3VLWW3HR0', iid='B00005MNSS', r_ui=5.0, est=4.505245023607885, details={'was_impossible': False}),\n",
              " Prediction(uid='A3RYU3PEA020OT', iid='B000067RT6', r_ui=5.0, est=4.4435909298907825, details={'was_impossible': False}),\n",
              " Prediction(uid='A2JX4N4LMT4UQV', iid='B00005T3N3', r_ui=3.0, est=4.587025139839013, details={'was_impossible': False}),\n",
              " Prediction(uid='A8R9OJ0I0QZDS', iid='B00005ATMB', r_ui=5.0, est=4.361008900909548, details={'was_impossible': False}),\n",
              " Prediction(uid='A16V1NCDGW5G7L', iid='B00007KDVI', r_ui=5.0, est=3.649319724252088, details={'was_impossible': False}),\n",
              " Prediction(uid='A20MEQ0BN2ZF2', iid='B000053HH5', r_ui=3.0, est=4.838316087708042, details={'was_impossible': False}),\n",
              " Prediction(uid='A25IATH5JUX80W', iid='B0000BVYTV', r_ui=5.0, est=3.924488510685052, details={'was_impossible': False}),\n",
              " Prediction(uid='AVHGZ3XY1Y3B7', iid='B000065BPB', r_ui=5.0, est=4.346007536012332, details={'was_impossible': False}),\n",
              " Prediction(uid='AN89WVN2SSK4E', iid='B0000AQIFW', r_ui=4.0, est=3.3889025062126183, details={'was_impossible': False}),\n",
              " Prediction(uid='A13HTCP8JZFNVQ', iid='B000093UDQ', r_ui=5.0, est=3.712004427433659, details={'was_impossible': False}),\n",
              " Prediction(uid='ATH7UZBQ1NE5V', iid='B0000BZOGJ', r_ui=5.0, est=4.425971455253694, details={'was_impossible': False}),\n",
              " Prediction(uid='AMD2BHOH5XF8R', iid='B00009W3TY', r_ui=5.0, est=3.863560882393623, details={'was_impossible': False}),\n",
              " Prediction(uid='A3QNC09TXW7DY', iid='B00006BBAC', r_ui=5.0, est=4.157976460167452, details={'was_impossible': False}),\n",
              " Prediction(uid='AX93UFBCHHQXX', iid='B00007M1TZ', r_ui=2.0, est=3.9832007484068357, details={'was_impossible': False}),\n",
              " Prediction(uid='A3SJG3XGAJ02XU', iid='B000053HH5', r_ui=5.0, est=4.838316087708042, details={'was_impossible': False}),\n",
              " Prediction(uid='AXDCA2CU2BNSG', iid='B00007LTAQ', r_ui=5.0, est=3.687524430145035, details={'was_impossible': False}),\n",
              " Prediction(uid='A2QHELZXAX6R8S', iid='B00006HOAQ', r_ui=5.0, est=4.2659192209720995, details={'was_impossible': False}),\n",
              " Prediction(uid='A2WCBRFP024DCY', iid='B00007KDVI', r_ui=1.0, est=3.649319724252088, details={'was_impossible': False}),\n",
              " Prediction(uid='A3A6WEJOO0RJIQ', iid='B00004WCIC', r_ui=5.0, est=4.326862518891657, details={'was_impossible': False}),\n",
              " Prediction(uid='AKHQ11ZZAMIBX', iid='B00005BMSN', r_ui=5.0, est=4.306993006821633, details={'was_impossible': False}),\n",
              " Prediction(uid='ARYVP4NERAKH5', iid='B000095SB4', r_ui=5.0, est=3.5567070926418958, details={'was_impossible': False}),\n",
              " Prediction(uid='A1JX2QRRZCNCP9', iid='B00005A9AU', r_ui=4.0, est=3.850528000366579, details={'was_impossible': False}),\n",
              " Prediction(uid='A1ZRDJ4AQQ62EE', iid='B00004VX15', r_ui=5.0, est=3.476066510062612, details={'was_impossible': False}),\n",
              " Prediction(uid='A2OYS122Y99VKY', iid='B00004Z68P', r_ui=4.0, est=4.673078244829825, details={'was_impossible': False}),\n",
              " Prediction(uid='ACGKIFGB5L822', iid='B00009R6TA', r_ui=4.0, est=4.466457125483206, details={'was_impossible': False}),\n",
              " Prediction(uid='A2OZOV4W2FTYOB', iid='B00009J5VX', r_ui=5.0, est=4.072718824889911, details={'was_impossible': False}),\n",
              " Prediction(uid='A1XPBGGFFECY50', iid='B00005N6KG', r_ui=5.0, est=3.954360300661451, details={'was_impossible': False}),\n",
              " Prediction(uid='A1AZKLTXYONL0K', iid='B000066R6M', r_ui=5.0, est=4.007077252019164, details={'was_impossible': False}),\n",
              " Prediction(uid='A1VI4T04EX299', iid='B00007EDZG', r_ui=5.0, est=4.390179091660837, details={'was_impossible': False}),\n",
              " Prediction(uid='A2SQ68NQI809Q5', iid='B00005N6KG', r_ui=5.0, est=3.954360300661451, details={'was_impossible': False}),\n",
              " Prediction(uid='A3M5J8ID91VS85', iid='B00006HYPV', r_ui=1.0, est=3.237994965115995, details={'was_impossible': False}),\n",
              " Prediction(uid='A3VRXY1A3U8ODJ', iid='B00007E7C8', r_ui=5.0, est=4.385523478967096, details={'was_impossible': False}),\n",
              " Prediction(uid='A1M9IE0WE8M6TF', iid='B000087NBW', r_ui=5.0, est=4.427855975680905, details={'was_impossible': False}),\n",
              " Prediction(uid='A2ZM6715BF73TF', iid='B00005KK2Q', r_ui=5.0, est=3.0608403001885973, details={'was_impossible': False}),\n",
              " Prediction(uid='A3SPC23NBJC94M', iid='B00004TS16', r_ui=4.0, est=4.463698685557914, details={'was_impossible': False}),\n",
              " Prediction(uid='A2C32I2RNRTLAB', iid='B0000633E0', r_ui=3.0, est=3.500522320642851, details={'was_impossible': False}),\n",
              " Prediction(uid='A2TIB7E64AE9O4', iid='B0000BZL1P', r_ui=5.0, est=4.767396249474699, details={'was_impossible': False}),\n",
              " Prediction(uid='A3BWM8DFJXSK79', iid='B0000510ZO', r_ui=5.0, est=4.42743886463665, details={'was_impossible': False}),\n",
              " Prediction(uid='A2EKEI62JI28XI', iid='B00008XETO', r_ui=3.0, est=3.4292782756037252, details={'was_impossible': False}),\n",
              " Prediction(uid='A174TWBZ3B7GVU', iid='B00006B9H8', r_ui=5.0, est=4.481090780957579, details={'was_impossible': False}),\n",
              " Prediction(uid='A2WJ86PMXHCMFG', iid='B00007FWP2', r_ui=5.0, est=4.181165817273, details={'was_impossible': False}),\n",
              " Prediction(uid='A1VRMZYDFXUGUP', iid='B000095SB4', r_ui=3.0, est=3.5567070926418958, details={'was_impossible': False}),\n",
              " Prediction(uid='A1DEBH7GOU9K85', iid='B000095SB6', r_ui=5.0, est=3.647604643116104, details={'was_impossible': False}),\n",
              " Prediction(uid='AW1VDUF6FR50S', iid='B00005ATMI', r_ui=4.0, est=4.309591565663058, details={'was_impossible': False}),\n",
              " Prediction(uid='A168R6DKAN2ERN', iid='B00007AKDL', r_ui=3.0, est=2.6996233070948508, details={'was_impossible': False}),\n",
              " Prediction(uid='A2Q9CBET12OZKI', iid='B00001P4ZR', r_ui=4.0, est=4.121795969135118, details={'was_impossible': False}),\n",
              " Prediction(uid='A2IZW6350GNHQI', iid='B0000X0VCY', r_ui=5.0, est=4.295747569595863, details={'was_impossible': False}),\n",
              " Prediction(uid='A364PVRKPZ035I', iid='B000069EV0', r_ui=5.0, est=3.452668837518399, details={'was_impossible': False}),\n",
              " Prediction(uid='A21VV3B2QEWTUR', iid='B00004VUGJ', r_ui=5.0, est=4.276881494851035, details={'was_impossible': False}),\n",
              " Prediction(uid='A25Z9STNKLGA3E', iid='B00008ZPJU', r_ui=2.0, est=2.952560123303517, details={'was_impossible': False}),\n",
              " Prediction(uid='A2O4VCJS3FULYR', iid='B00006B7DA', r_ui=2.0, est=3.8983805637714477, details={'was_impossible': False}),\n",
              " Prediction(uid='A3A9PUT48ZI1PT', iid='B00004VUGJ', r_ui=5.0, est=4.276881494851035, details={'was_impossible': False}),\n",
              " Prediction(uid='A16YS3AH5Z3B5E', iid='B00004Z5M1', r_ui=2.0, est=4.560932013732071, details={'was_impossible': False}),\n",
              " Prediction(uid='A1JKM3A5DBLOXR', iid='B00005LEN4', r_ui=4.0, est=4.6555816612286325, details={'was_impossible': False}),\n",
              " Prediction(uid='A18S56WSO99Q39', iid='B00001P4XA', r_ui=5.0, est=3.8156415559673764, details={'was_impossible': False}),\n",
              " Prediction(uid='AIO0QYX8CR1M8', iid='B00006B7T7', r_ui=5.0, est=3.5850570377647695, details={'was_impossible': False}),\n",
              " Prediction(uid='A23JI8C3591XLG', iid='B00009UT9B', r_ui=2.0, est=4.827155070312845, details={'was_impossible': False}),\n",
              " Prediction(uid='A2JIQ6SZ1PQ6P9', iid='B00000J08Q', r_ui=1.0, est=2.6619208678225545, details={'was_impossible': False}),\n",
              " Prediction(uid='A5XU969KGUTM8', iid='B000063UZW', r_ui=5.0, est=4.386206975170542, details={'was_impossible': False}),\n",
              " Prediction(uid='AFH1RI3QSTDTI', iid='B00007E7K0', r_ui=5.0, est=4.703361567660607, details={'was_impossible': False}),\n",
              " Prediction(uid='A2K70NJP37CVFS', iid='B000051SEN', r_ui=5.0, est=4.0255712752518775, details={'was_impossible': False}),\n",
              " Prediction(uid='A2E3T89O7JCQNK', iid='B00001P4XH', r_ui=1.0, est=3.8085535967637982, details={'was_impossible': False}),\n",
              " Prediction(uid='A3I6YF96HOJ4IA', iid='B00007E7C8', r_ui=4.0, est=4.385523478967096, details={'was_impossible': False}),\n",
              " Prediction(uid='A24YFHKUU7P1QM', iid='B00007EDM8', r_ui=4.0, est=3.7631819967490716, details={'was_impossible': False}),\n",
              " Prediction(uid='A34Q0X19IXXW5C', iid='B00007M1TZ', r_ui=5.0, est=3.9832007484068357, details={'was_impossible': False}),\n",
              " Prediction(uid='A2CY2NN0YRAFZN', iid='B00009EHJV', r_ui=5.0, est=4.160328579765741, details={'was_impossible': False}),\n",
              " Prediction(uid='A104EKF9PZU7Z0', iid='B00009KH63', r_ui=5.0, est=3.9898042702926677, details={'was_impossible': False}),\n",
              " Prediction(uid='A20AAU9AUQ2ATE', iid='B00000J6WY', r_ui=3.0, est=4.081193065762467, details={'was_impossible': False}),\n",
              " Prediction(uid='A2XL12U9ZUCYK6', iid='B00009R6TA', r_ui=3.0, est=4.2105446240300015, details={'was_impossible': False}),\n",
              " Prediction(uid='A1R71FZXYGYIFY', iid='B00006I5O1', r_ui=5.0, est=4.308166875026856, details={'was_impossible': False}),\n",
              " Prediction(uid='A2V4TMEETYLNXR', iid='B00006B7HB', r_ui=5.0, est=4.231934527331266, details={'was_impossible': False}),\n",
              " Prediction(uid='A2EW8AJFEHQSO6', iid='B00004ZC8Y', r_ui=1.0, est=4.225068738705589, details={'was_impossible': False}),\n",
              " Prediction(uid='A1LQGEG7T2LJNJ', iid='B00008SCFL', r_ui=5.0, est=3.2836952040461265, details={'was_impossible': False}),\n",
              " Prediction(uid='A21IWG63SF2Z03', iid='B00009V6U0', r_ui=5.0, est=4.502193767719389, details={'was_impossible': False}),\n",
              " Prediction(uid='A152HV6669BVV6', iid='B00005T3BD', r_ui=5.0, est=4.630165164330442, details={'was_impossible': False}),\n",
              " Prediction(uid='AKQSCSD0OE19M', iid='B00004T1XE', r_ui=5.0, est=4.246851274441319, details={'was_impossible': False}),\n",
              " Prediction(uid='AZZFCZRH7GP7H', iid='B00007EDZG', r_ui=5.0, est=4.390179091660837, details={'was_impossible': False}),\n",
              " Prediction(uid='A11IYHQE1HZFH4', iid='B00005BC0J', r_ui=1.0, est=3.996908332853485, details={'was_impossible': False}),\n",
              " Prediction(uid='A27ZGPJULPRINP', iid='B00007AP2O', r_ui=5.0, est=3.765392786655603, details={'was_impossible': False}),\n",
              " Prediction(uid='A1J98WSXXXWGY2', iid='B000092YQW', r_ui=4.0, est=3.485705909182161, details={'was_impossible': False}),\n",
              " Prediction(uid='A3IL3ZLDHW6NXT', iid='B0000CCY7A', r_ui=3.0, est=2.107558258628677, details={'was_impossible': False}),\n",
              " Prediction(uid='AGT8IBNMB8OIB', iid='B00004ZC8Y', r_ui=5.0, est=4.207176142511336, details={'was_impossible': False}),\n",
              " Prediction(uid='A26S871J8O5CKN', iid='B00009MK5M', r_ui=3.0, est=3.9674380434431855, details={'was_impossible': False}),\n",
              " Prediction(uid='A2S5OVTJN8RF4E', iid='B00004ZC8Y', r_ui=5.0, est=4.207176142511336, details={'was_impossible': False}),\n",
              " Prediction(uid='A28Y4VZH5OYVAH', iid='B0000665P5', r_ui=5.0, est=3.9800665301024107, details={'was_impossible': False}),\n",
              " Prediction(uid='AGORIVB0GYGD2', iid='B00004Z5PY', r_ui=5.0, est=4.231723832207538, details={'was_impossible': False}),\n",
              " Prediction(uid='A3CEMUVMRHNUQL', iid='B00006B7HB', r_ui=5.0, est=4.350681155051747, details={'was_impossible': False}),\n",
              " Prediction(uid='A3UAFAZCPSPGWY', iid='140053271X', r_ui=5.0, est=3.902632231549199, details={'was_impossible': False}),\n",
              " Prediction(uid='A1WF4L9P6R4O04', iid='B0000BVYTV', r_ui=4.0, est=3.924488510685052, details={'was_impossible': False}),\n",
              " Prediction(uid='A376KTZAT8AWNN', iid='B000092YQW', r_ui=4.0, est=3.6003638823740545, details={'was_impossible': False}),\n",
              " Prediction(uid='A1GRVK812BANRG', iid='B00001P4ZH', r_ui=5.0, est=4.447598926097144, details={'was_impossible': False}),\n",
              " Prediction(uid='A5GMS5YSKV9UC', iid='B0000BVYTV', r_ui=1.0, est=3.924488510685052, details={'was_impossible': False}),\n",
              " Prediction(uid='A2DPS6VILKB2TT', iid='B00009ZWC8', r_ui=1.0, est=3.7397221372763005, details={'was_impossible': False}),\n",
              " Prediction(uid='A1PC2SSGC163H7', iid='B00004Z5PY', r_ui=5.0, est=4.231723832207538, details={'was_impossible': False}),\n",
              " Prediction(uid='A1LZG44TNOKJSJ', iid='B00001W0EQ', r_ui=2.0, est=3.6706652192116533, details={'was_impossible': False}),\n",
              " Prediction(uid='AZHR4H14D0D4Z', iid='B00007E7K9', r_ui=5.0, est=4.4815111321799925, details={'was_impossible': False}),\n",
              " Prediction(uid='A33LUFX0A03G0P', iid='B000058AKE', r_ui=5.0, est=4.523748943168135, details={'was_impossible': False}),\n",
              " Prediction(uid='A2UT3R4K8MU6BA', iid='B00004Z5D1', r_ui=4.0, est=4.451837177304827, details={'was_impossible': False}),\n",
              " Prediction(uid='A1MFNZ1W8362CD', iid='B0000633EO', r_ui=5.0, est=3.625599795695933, details={'was_impossible': False}),\n",
              " Prediction(uid='A2CP97MFUOQDAP', iid='B00004SABB', r_ui=5.0, est=4.018173817812287, details={'was_impossible': False}),\n",
              " Prediction(uid='A1YUL9PCJR3JTY', iid='B00007M1TZ', r_ui=5.0, est=3.9832007484068357, details={'was_impossible': False}),\n",
              " Prediction(uid='A2H8XOG8JD63D6', iid='B00006I560', r_ui=5.0, est=2.7746757228428507, details={'was_impossible': False}),\n",
              " Prediction(uid='A3S66WJLBU17YW', iid='B00005T39Y', r_ui=3.0, est=4.023456400404, details={'was_impossible': False}),\n",
              " Prediction(uid='A2VGZZPQQW2ET7', iid='B00005T3N3', r_ui=5.0, est=4.587025139839013, details={'was_impossible': False}),\n",
              " Prediction(uid='A2P7P63ZZDGFQ8', iid='B000065BP9', r_ui=5.0, est=4.231710256668306, details={'was_impossible': False}),\n",
              " Prediction(uid='A399JTJ7CLNR3D', iid='B00005ATMB', r_ui=4.0, est=4.361008900909548, details={'was_impossible': False}),\n",
              " Prediction(uid='AEZ70K3JEVLQJ', iid='B000067RVL', r_ui=5.0, est=4.118812762596617, details={'was_impossible': False}),\n",
              " Prediction(uid='A149VDCBAJPLDO', iid='B00005A1KZ', r_ui=3.0, est=4.121214368181243, details={'was_impossible': False}),\n",
              " Prediction(uid='A1QRST0A3IQIEF', iid='B00004Z5M1', r_ui=5.0, est=4.586728542776841, details={'was_impossible': False}),\n",
              " Prediction(uid='AWVCZ87B9T5AJ', iid='B0000AN4EG', r_ui=5.0, est=4.2979898788227695, details={'was_impossible': False}),\n",
              " Prediction(uid='A2UHC0AGPX2WHG', iid='B0000ACOBG', r_ui=5.0, est=3.7741667778616987, details={'was_impossible': False}),\n",
              " Prediction(uid='A3IQMWSWBSH37S', iid='B000065BP9', r_ui=5.0, est=4.231710256668306, details={'was_impossible': False}),\n",
              " Prediction(uid='A2WXC660JEMJKY', iid='B00008OE6F', r_ui=1.0, est=4.196317589934841, details={'was_impossible': False}),\n",
              " Prediction(uid='A7FA017NBI2BW', iid='B00005T39Y', r_ui=5.0, est=4.027675714644116, details={'was_impossible': False}),\n",
              " Prediction(uid='ANB0OKIDLNTZ', iid='B00000J1QK', r_ui=5.0, est=3.7404878774932286, details={'was_impossible': False}),\n",
              " Prediction(uid='ADKZ4OITZ984S', iid='B000067G0J', r_ui=5.0, est=3.1186256758928876, details={'was_impossible': False}),\n",
              " Prediction(uid='A56GIV36L6Z25', iid='B00006I53S', r_ui=5.0, est=4.260753414075224, details={'was_impossible': False}),\n",
              " Prediction(uid='A10K3ALKEM7BIQ', iid='B00006HZ0K', r_ui=5.0, est=4.4939628264602565, details={'was_impossible': False}),\n",
              " Prediction(uid='A3D296RVX0JVKB', iid='B000068P8R', r_ui=5.0, est=4.03340799688699, details={'was_impossible': False}),\n",
              " Prediction(uid='A2FD7PUB3K8X4Q', iid='B00008ZOYE', r_ui=5.0, est=3.371354307682159, details={'was_impossible': False}),\n",
              " Prediction(uid='A3GH4DOEHE26UU', iid='B00008XETO', r_ui=5.0, est=3.457048191058306, details={'was_impossible': False}),\n",
              " Prediction(uid='A1PBE9L3WAG7VC', iid='B000026D8E', r_ui=5.0, est=3.2147637646664027, details={'was_impossible': False}),\n",
              " Prediction(uid='AHDZ0NIY3HXTM', iid='B00009EHJV', r_ui=5.0, est=4.160328579765741, details={'was_impossible': False}),\n",
              " Prediction(uid='A3GEZ7P9HWR4DZ', iid='B0000A0AJH', r_ui=5.0, est=2.9547274155058076, details={'was_impossible': False}),\n",
              " Prediction(uid='A1FSIH1VQP5OS5', iid='B000058AKE', r_ui=3.0, est=4.523748943168135, details={'was_impossible': False}),\n",
              " Prediction(uid='A33FG1YPBIIW5X', iid='B00001P4ZR', r_ui=5.0, est=4.121795969135118, details={'was_impossible': False}),\n",
              " Prediction(uid='A1QVSB7DJ8MVPA', iid='B000089GN4', r_ui=4.0, est=4.019759178596765, details={'was_impossible': False}),\n",
              " Prediction(uid='A1W4C5KML3M9VR', iid='B00005K47X', r_ui=4.0, est=4.571596885066515, details={'was_impossible': False}),\n",
              " Prediction(uid='ACZ3LXCXN3RNQ', iid='B0000EZ1KK', r_ui=5.0, est=3.5697537240072874, details={'was_impossible': False}),\n",
              " Prediction(uid='A3LQX28M60KW0F', iid='B00005BC0J', r_ui=1.0, est=3.996908332853485, details={'was_impossible': False}),\n",
              " Prediction(uid='A2UBK0AGJ4MFSZ', iid='B000089GN3', r_ui=5.0, est=4.4902628786279895, details={'was_impossible': False}),\n",
              " Prediction(uid='A39ESGFWUDJPG3', iid='B00007E8D2', r_ui=5.0, est=4.153582439133913, details={'was_impossible': False}),\n",
              " Prediction(uid='A2MCIS4TJQ9WGS', iid='B00004XOM3', r_ui=3.0, est=4.7725903313226095, details={'was_impossible': False}),\n",
              " Prediction(uid='A1P5I2T4CWK0B7', iid='B000089GN4', r_ui=2.0, est=4.019759178596765, details={'was_impossible': False}),\n",
              " Prediction(uid='A27JO53E6GMM7M', iid='B00004ZCJE', r_ui=5.0, est=4.135556997034983, details={'was_impossible': False}),\n",
              " Prediction(uid='A3I9MO0FI9Q2X7', iid='B000065BP9', r_ui=5.0, est=4.231710256668306, details={'was_impossible': False}),\n",
              " Prediction(uid='A2U2ZIUN5R2RFT', iid='B00006B7DA', r_ui=5.0, est=3.8983805637714477, details={'was_impossible': False}),\n",
              " Prediction(uid='ABI9JK44R6G9Q', iid='1400501466', r_ui=1.0, est=3.565085154162557, details={'was_impossible': False}),\n",
              " Prediction(uid='A1D5LKMJVIS0YH', iid='B00005Y3OM', r_ui=5.0, est=3.9906725820242697, details={'was_impossible': False}),\n",
              " Prediction(uid='A1RKPJPX60S533', iid='B00005Y1Z7', r_ui=4.0, est=3.800334689122757, details={'was_impossible': False}),\n",
              " Prediction(uid='A1ML7CZIUIX3FL', iid='B00008VIX2', r_ui=5.0, est=4.244914493281523, details={'was_impossible': False}),\n",
              " Prediction(uid='A182E2ZL5KOUP9', iid='B00007M1TZ', r_ui=2.0, est=3.9832007484068357, details={'was_impossible': False}),\n",
              " Prediction(uid='AFTT19L9Q1DXS', iid='B000095SB6', r_ui=1.0, est=3.543706160366265, details={'was_impossible': False}),\n",
              " Prediction(uid='A3VPQBZVOT0MAM', iid='B00004XOM3', r_ui=5.0, est=4.835712255927295, details={'was_impossible': False}),\n",
              " Prediction(uid='A3FKQQTSMHOCE0', iid='B00009XVCZ', r_ui=4.0, est=4.662936613071847, details={'was_impossible': False}),\n",
              " Prediction(uid='A1VTTMFOOCA71Q', iid='B000066E6Y', r_ui=5.0, est=4.200305816032257, details={'was_impossible': False}),\n",
              " Prediction(uid='A21W1GJJKML5EB', iid='B00006RVPW', r_ui=5.0, est=4.470945573558729, details={'was_impossible': False}),\n",
              " Prediction(uid='A4BY23UXAZUWI', iid='B00009R94Q', r_ui=5.0, est=4.253293590828259, details={'was_impossible': False}),\n",
              " Prediction(uid='A1FCBIJPKT5E34', iid='B000093UDQ', r_ui=1.0, est=3.712004427433659, details={'was_impossible': False}),\n",
              " Prediction(uid='A1M3Q4NBRO10T3', iid='B00009R6TA', r_ui=5.0, est=4.466457125483206, details={'was_impossible': False}),\n",
              " Prediction(uid='A3MMJEMXBJOJ8H', iid='B00007EDZG', r_ui=3.0, est=4.390179091660837, details={'was_impossible': False}),\n",
              " Prediction(uid='A2K7EWXLL7OUT9', iid='B00007E7C8', r_ui=5.0, est=4.385523478967096, details={'was_impossible': False}),\n",
              " Prediction(uid='A1T8XII6RY0ZC7', iid='B0000BZL1P', r_ui=1.0, est=4.767396249474699, details={'was_impossible': False}),\n",
              " Prediction(uid='AD9TUUTWKUAS4', iid='B000095SB6', r_ui=5.0, est=3.543706160366265, details={'was_impossible': False}),\n",
              " Prediction(uid='A1BQEGX83CTXAQ', iid='B00005ATMB', r_ui=3.0, est=4.361008900909548, details={'was_impossible': False}),\n",
              " Prediction(uid='A2GYAJ0W0E0UM1', iid='B000065BP9', r_ui=4.0, est=4.231710256668306, details={'was_impossible': False}),\n",
              " Prediction(uid='AWB2NXI7GDRJL', iid='B00005ATMB', r_ui=5.0, est=4.361008900909548, details={'was_impossible': False}),\n",
              " Prediction(uid='ALT8OCGC2LVQ9', iid='B00008OE43', r_ui=4.0, est=3.494746137974494, details={'was_impossible': False}),\n",
              " Prediction(uid='ATY2M0KTHRA74', iid='B0000AQNX2', r_ui=5.0, est=4.391819203163452, details={'was_impossible': False}),\n",
              " Prediction(uid='A9EDWX9SR4XT6', iid='B00004TVSP', r_ui=5.0, est=4.12007367928388, details={'was_impossible': False}),\n",
              " Prediction(uid='AZ4L6B685SDG', iid='B00006JPKE', r_ui=4.0, est=3.3799455447579687, details={'was_impossible': False}),\n",
              " Prediction(uid='A1NMTJ1SN1A2KA', iid='B00004T1XK', r_ui=5.0, est=4.212656613412188, details={'was_impossible': False}),\n",
              " Prediction(uid='A1EXDIHT65BZMD', iid='B00008L3IS', r_ui=3.0, est=4.2903937696825105, details={'was_impossible': False}),\n",
              " Prediction(uid='A348WIZZL1FB7I', iid='B00006JQ06', r_ui=4.0, est=4.226912851291744, details={'was_impossible': False}),\n",
              " Prediction(uid='A1BHD05PBZYPXS', iid='B00004ZCJE', r_ui=4.0, est=4.135556997034983, details={'was_impossible': False}),\n",
              " Prediction(uid='A23JKZC94QYPA8', iid='B000065BP9', r_ui=4.0, est=4.231710256668306, details={'was_impossible': False}),\n",
              " Prediction(uid='AOB38I33RVY1A', iid='B00006HSYC', r_ui=1.0, est=4.345951288247329, details={'was_impossible': False}),\n",
              " Prediction(uid='A16U5BY6LPNVKE', iid='B00001W0EQ', r_ui=4.0, est=3.6706652192116533, details={'was_impossible': False}),\n",
              " Prediction(uid='A3Y41NAYKSY5', iid='B00005U21H', r_ui=5.0, est=4.5464689800643905, details={'was_impossible': False}),\n",
              " Prediction(uid='A1BOJZRMK9OK6Z', iid='B00009UHXR', r_ui=4.0, est=3.5524046469447885, details={'was_impossible': False}),\n",
              " Prediction(uid='A13N0LPQO0O07P', iid='B00005T3G0', r_ui=4.0, est=4.5977438297077065, details={'was_impossible': False}),\n",
              " Prediction(uid='AWGNLKTW2DU4H', iid='B000068O6B', r_ui=5.0, est=4.404014822849766, details={'was_impossible': False}),\n",
              " Prediction(uid='A2703EHG232FG9', iid='B00006B9H8', r_ui=5.0, est=4.481090780957579, details={'was_impossible': False}),\n",
              " Prediction(uid='A1529KMT8EK1ZU', iid='B00007EDZG', r_ui=5.0, est=4.390179091660837, details={'was_impossible': False}),\n",
              " Prediction(uid='A2Y01VKXOQSDHA', iid='B000065BP9', r_ui=3.0, est=4.231710256668306, details={'was_impossible': False}),\n",
              " Prediction(uid='A2LS66B03Y5H6G', iid='B0000A1G05', r_ui=5.0, est=4.338781203986654, details={'was_impossible': False}),\n",
              " Prediction(uid='A1OFVFLXM329Y1', iid='B00009R6TA', r_ui=5.0, est=4.466457125483206, details={'was_impossible': False}),\n",
              " Prediction(uid='A2TZZKMREC92BU', iid='B00007FGU7', r_ui=1.0, est=3.823640159666903, details={'was_impossible': False}),\n",
              " Prediction(uid='AMJB1V28GQOTA', iid='B00006IRS3', r_ui=5.0, est=4.501384549865092, details={'was_impossible': False}),\n",
              " Prediction(uid='A1I1DEDOX8620', iid='B00007IFED', r_ui=5.0, est=4.174131009942524, details={'was_impossible': False}),\n",
              " Prediction(uid='A1Q1G0RAAQVLEW', iid='B00006HYPV', r_ui=4.0, est=3.237994965115995, details={'was_impossible': False}),\n",
              " Prediction(uid='A2XXSEMNWRDBON', iid='B0000DK5LW', r_ui=5.0, est=3.7584128497830522, details={'was_impossible': False}),\n",
              " Prediction(uid='A3QQVWKE32ULEJ', iid='B000067RT6', r_ui=5.0, est=4.5199696028123855, details={'was_impossible': False}),\n",
              " Prediction(uid='A15B0UGF45XG3B', iid='B00005OT5X', r_ui=4.0, est=4.1103922062333496, details={'was_impossible': False}),\n",
              " Prediction(uid='A23MI7GPO8XZFL', iid='B000085BDB', r_ui=1.0, est=4.094549244849847, details={'was_impossible': False}),\n",
              " Prediction(uid='AMKU4QA85VKEZ', iid='B0000E0ZM0', r_ui=2.0, est=3.420654612947987, details={'was_impossible': False}),\n",
              " Prediction(uid='A3NLE5CXQP8JW6', iid='B0000A0AJH', r_ui=2.0, est=2.9547274155058076, details={'was_impossible': False}),\n",
              " Prediction(uid='AOP6PNRAZRAWB', iid='B00004THCZ', r_ui=5.0, est=4.178382406574259, details={'was_impossible': False}),\n",
              " Prediction(uid='AJKYS68U3YY43', iid='B00006RVPW', r_ui=5.0, est=4.470945573558729, details={'was_impossible': False}),\n",
              " Prediction(uid='A2P2E7N2HQ7KRZ', iid='B000062VUO', r_ui=4.0, est=4.309426053950354, details={'was_impossible': False}),\n",
              " Prediction(uid='A2HHRMOEGB5QW5', iid='B000089GN3', r_ui=3.0, est=4.4902628786279895, details={'was_impossible': False}),\n",
              " Prediction(uid='A1KZDMCI54UXIY', iid='B000067O5G', r_ui=3.0, est=3.769925653987617, details={'was_impossible': False}),\n",
              " Prediction(uid='A1924C9WNL4U7R', iid='B00007FGUF', r_ui=5.0, est=3.8518940780863997, details={'was_impossible': False}),\n",
              " Prediction(uid='A2KFDPKBFFJEQH', iid='B00008L3IS', r_ui=5.0, est=4.2903937696825105, details={'was_impossible': False}),\n",
              " Prediction(uid='ACZ4PQL60WP8Q', iid='B00006JPA1', r_ui=5.0, est=4.124362948798887, details={'was_impossible': False}),\n",
              " Prediction(uid='ALIULMXH2AFUQ', iid='B00009XVCZ', r_ui=5.0, est=4.5394065447039615, details={'was_impossible': False}),\n",
              " Prediction(uid='A2PSPF9YMSTNR1', iid='B00006JQ06', r_ui=5.0, est=4.226912851291744, details={'was_impossible': False}),\n",
              " Prediction(uid='A314RSHYB99OHX', iid='B00008Y0VN', r_ui=5.0, est=4.234122557160463, details={'was_impossible': False}),\n",
              " Prediction(uid='A2RYE340CRAF4E', iid='B0000B006W', r_ui=4.0, est=4.6028272430820865, details={'was_impossible': False}),\n",
              " Prediction(uid='A339ZVP8I3FW58', iid='B00006B9W2', r_ui=2.0, est=3.6417285711440757, details={'was_impossible': False}),\n",
              " Prediction(uid='A3R749LCFV5I3', iid='B00000JI4F', r_ui=5.0, est=3.754736554371849, details={'was_impossible': False}),\n",
              " Prediction(uid='A1EH2DJF33AZ5C', iid='B0000AKA90', r_ui=5.0, est=4.361376657574391, details={'was_impossible': False}),\n",
              " Prediction(uid='ADQPFME1JQ2XV', iid='B00000JI4F', r_ui=5.0, est=3.754736554371849, details={'was_impossible': False}),\n",
              " Prediction(uid='A2TPCKNBUW8N24', iid='B00008VFCU', r_ui=1.0, est=3.369584275655288, details={'was_impossible': False}),\n",
              " Prediction(uid='A3KKYNEYUICKX2', iid='B00007KDVJ', r_ui=1.0, est=2.9399992171876956, details={'was_impossible': False}),\n",
              " Prediction(uid='A3GTBDKULX6M5E', iid='1400532620', r_ui=5.0, est=3.7012779512702867, details={'was_impossible': False}),\n",
              " Prediction(uid='A3V3BAKCKVVMHD', iid='B00008SCFL', r_ui=5.0, est=3.2836952040461265, details={'was_impossible': False}),\n",
              " Prediction(uid='A34RVVLN1R833W', iid='B00005K47X', r_ui=4.0, est=4.571596885066515, details={'was_impossible': False}),\n",
              " Prediction(uid='A56X48OK01BM7', iid='B00004TKVD', r_ui=5.0, est=3.9693808380735938, details={'was_impossible': False}),\n",
              " Prediction(uid='A36A8NM1FZRM9V', iid='B00009MK5M', r_ui=4.0, est=3.9674380434431855, details={'was_impossible': False}),\n",
              " Prediction(uid='A6ZXBN7OOC7CX', iid='B000067RC4', r_ui=4.0, est=4.202486737950874, details={'was_impossible': False}),\n",
              " Prediction(uid='A1NNO5EWCSSKTH', iid='B000067SOH', r_ui=5.0, est=4.387651161568751, details={'was_impossible': False}),\n",
              " Prediction(uid='A11KWKGKBJFGO2', iid='B00004ZCJE', r_ui=5.0, est=3.95226783717748, details={'was_impossible': False}),\n",
              " Prediction(uid='A394UIH6GK00HD', iid='B00005A1K1', r_ui=5.0, est=4.247987991537482, details={'was_impossible': False}),\n",
              " Prediction(uid='A1EG1AVHWM3GUJ', iid='B0000AOWW9', r_ui=1.0, est=3.8591902654436954, details={'was_impossible': False}),\n",
              " Prediction(uid='A3GCNJF3M0VLMF', iid='B0000CCY7A', r_ui=2.0, est=2.107558258628677, details={'was_impossible': False}),\n",
              " Prediction(uid='A2SI5MM8V6W133', iid='B00009RA60', r_ui=5.0, est=4.28026879569418, details={'was_impossible': False}),\n",
              " Prediction(uid='A3KSTYU0PE9M2K', iid='B00008WFVI', r_ui=4.0, est=3.6538882781255464, details={'was_impossible': False}),\n",
              " Prediction(uid='A1HIK501QJ557Y', iid='B00004ZCKV', r_ui=4.0, est=4.0556145853822345, details={'was_impossible': False}),\n",
              " Prediction(uid='A1095N9LNF0A7E', iid='B000065BP9', r_ui=5.0, est=4.231710256668306, details={'was_impossible': False}),\n",
              " Prediction(uid='A1H31N4Z1M6Q15', iid='B0000642RX', r_ui=4.0, est=4.325690799428781, details={'was_impossible': False}),\n",
              " Prediction(uid='A7ETYR4171XZO', iid='B00004TWVY', r_ui=2.0, est=3.963624763499791, details={'was_impossible': False}),\n",
              " Prediction(uid='A4XP2GQ34BLMW', iid='B00004R8V6', r_ui=5.0, est=4.416954193602353, details={'was_impossible': False}),\n",
              " Prediction(uid='AIGYKHZSQPM8Z', iid='B00007KDVK', r_ui=1.0, est=3.68468826902894, details={'was_impossible': False}),\n",
              " Prediction(uid='A3MDRBWMQBI2PS', iid='B00006HYPV', r_ui=1.0, est=3.237994965115995, details={'was_impossible': False}),\n",
              " Prediction(uid='A1ZB7ZSIT7HH2C', iid='B00006JN3G', r_ui=4.0, est=4.300957774748989, details={'was_impossible': False}),\n",
              " Prediction(uid='AR5NIAV08HU3S', iid='B00009R6TA', r_ui=4.0, est=4.452735401900571, details={'was_impossible': False}),\n",
              " Prediction(uid='AYOVO6RPBS78S', iid='B00006F2MW', r_ui=5.0, est=4.512780822771522, details={'was_impossible': False}),\n",
              " Prediction(uid='A3HXM2S3SG4D0Z', iid='B00005A1K1', r_ui=4.0, est=4.247987991537482, details={'was_impossible': False}),\n",
              " Prediction(uid='A2M2UBFKZKC8OI', iid='B00004T8R2', r_ui=1.0, est=4.259323943389856, details={'was_impossible': False}),\n",
              " Prediction(uid='A1N1E4R2H8Q0PR', iid='B00005T3N3', r_ui=5.0, est=4.587025139839013, details={'was_impossible': False}),\n",
              " Prediction(uid='A34DUG6ZV37UVK', iid='B00005UK9P', r_ui=4.0, est=3.708851064620985, details={'was_impossible': False}),\n",
              " Prediction(uid='A29WUMT65XEQE9', iid='B00000J1V5', r_ui=5.0, est=4.55276394796594, details={'was_impossible': False}),\n",
              " Prediction(uid='A3DX5F0CW34Y9', iid='B00008W2LC', r_ui=5.0, est=4.6204151790780985, details={'was_impossible': False}),\n",
              " Prediction(uid='A39FZYF01N2CTW', iid='B00004SABB', r_ui=4.0, est=4.018173817812287, details={'was_impossible': False}),\n",
              " Prediction(uid='A3KUEEBE2BTE5X', iid='B0000A98AC', r_ui=1.0, est=3.7729207940134435, details={'was_impossible': False}),\n",
              " Prediction(uid='A283A424XAZCGX', iid='B00004WCIC', r_ui=5.0, est=4.38856582114789, details={'was_impossible': False}),\n",
              " Prediction(uid='A23C13F2B5J928', iid='B00008AWKZ', r_ui=5.0, est=3.964370524184393, details={'was_impossible': False}),\n",
              " Prediction(uid='AZPE3CITCKRKO', iid='B00005219A', r_ui=5.0, est=4.00824965825011, details={'was_impossible': False}),\n",
              " Prediction(uid='A30BHDT05Y4BN7', iid='B000069K8O', r_ui=4.0, est=3.9586540926306677, details={'was_impossible': False}),\n",
              " Prediction(uid='A6FIAB28IS79', iid='B00005AR4L', r_ui=4.0, est=3.150929323534219, details={'was_impossible': False}),\n",
              " Prediction(uid='A1L6CVZVOJ61XO', iid='B00005LENO', r_ui=5.0, est=4.46705400132951, details={'was_impossible': False}),\n",
              " Prediction(uid='A34DSAJXAC2G9Y', iid='B00006B9H9', r_ui=5.0, est=3.503263110515098, details={'was_impossible': False}),\n",
              " Prediction(uid='A3HITX57H9BQA1', iid='B0000A1WGL', r_ui=5.0, est=4.009744014414808, details={'was_impossible': False}),\n",
              " Prediction(uid='A3M0QJWD78WF0C', iid='B00005TQ08', r_ui=5.0, est=4.518033209008713, details={'was_impossible': False}),\n",
              " Prediction(uid='A2ST4J4ULZUQ61', iid='B00004SB92', r_ui=1.0, est=3.917591041725252, details={'was_impossible': False}),\n",
              " Prediction(uid='AGTZE4ISNPZKJ', iid='B00006I53X', r_ui=5.0, est=4.8065015200666235, details={'was_impossible': False}),\n",
              " Prediction(uid='A3T7SJEXGT1GDI', iid='B00009R96C', r_ui=5.0, est=4.801132062117352, details={'was_impossible': False}),\n",
              " Prediction(uid='A3L3IMY0VF9QSU', iid='B00004VX15', r_ui=1.0, est=3.476066510062612, details={'was_impossible': False}),\n",
              " Prediction(uid='A2WMS3FS26GKZR', iid='B00007EDM8', r_ui=3.0, est=3.7631819967490716, details={'was_impossible': False}),\n",
              " Prediction(uid='A1VGQNJD0TG7S7', iid='B00009WQS1', r_ui=5.0, est=4.0722548365574385, details={'was_impossible': False}),\n",
              " Prediction(uid='A42YG78Z1GBBD', iid='1400599997', r_ui=5.0, est=3.4487122994460457, details={'was_impossible': False}),\n",
              " Prediction(uid='A2PD14F1P7PA4W', iid='B00007JDRV', r_ui=5.0, est=4.251852497841188, details={'was_impossible': False}),\n",
              " Prediction(uid='APVDW2P7WYZBC', iid='B000068P8R', r_ui=5.0, est=4.03340799688699, details={'was_impossible': False}),\n",
              " Prediction(uid='A1RMKGPAQ6L2U', iid='B000075UZ7', r_ui=5.0, est=3.7326909521888028, details={'was_impossible': False}),\n",
              " Prediction(uid='A1Y8573LLHNWYN', iid='B000056SSM', r_ui=2.0, est=3.069642016626981, details={'was_impossible': False}),\n",
              " Prediction(uid='A2IRRWM8G5HXKI', iid='B000063TJY', r_ui=5.0, est=4.134114072290154, details={'was_impossible': False}),\n",
              " Prediction(uid='A2CZC6RHJCVOXV', iid='B00005AW1H', r_ui=5.0, est=3.496377227164536, details={'was_impossible': False}),\n",
              " Prediction(uid='A3S013424HFVHY', iid='B00005UKBG', r_ui=3.0, est=3.771402846184717, details={'was_impossible': False}),\n",
              " Prediction(uid='A9E683RV56LC2', iid='B00006HYPD', r_ui=5.0, est=4.172115839552939, details={'was_impossible': False}),\n",
              " Prediction(uid='A17ZLLUYLS1YYO', iid='B00006JILC', r_ui=5.0, est=3.4801047268867027, details={'was_impossible': False}),\n",
              " Prediction(uid='AIP0VIGQWIW90', iid='B00009R6TA', r_ui=5.0, est=4.466457125483206, details={'was_impossible': False}),\n",
              " Prediction(uid='AFA4AVRNLDYZI', iid='B00006IBLQ', r_ui=5.0, est=4.4400410644005035, details={'was_impossible': False}),\n",
              " Prediction(uid='AHNE0YOVL9LNR', iid='B000059MSI', r_ui=1.0, est=3.7640916085287612, details={'was_impossible': False}),\n",
              " Prediction(uid='A1ZXXP3MEPS2NW', iid='B00004UE2R', r_ui=1.0, est=3.867289390600751, details={'was_impossible': False}),\n",
              " Prediction(uid='A362RDKIELNGRO', iid='B00005TQ08', r_ui=4.0, est=4.518033209008713, details={'was_impossible': False}),\n",
              " Prediction(uid='A3F3VEXEWMFTA5', iid='B00004VWM3', r_ui=4.0, est=3.9101855695964844, details={'was_impossible': False}),\n",
              " Prediction(uid='AZAA7K20P0B6D', iid='B000069K8N', r_ui=5.0, est=4.1551373182341695, details={'was_impossible': False}),\n",
              " Prediction(uid='A21AMHQZ7O19RE', iid='B00005ARK4', r_ui=2.0, est=3.6756554678091495, details={'was_impossible': False}),\n",
              " Prediction(uid='AT00LGEYYARX8', iid='B000067RVL', r_ui=5.0, est=4.118812762596617, details={'was_impossible': False}),\n",
              " Prediction(uid='AJ5G6YZT16KRF', iid='B00005T3H5', r_ui=1.0, est=4.423612812640157, details={'was_impossible': False}),\n",
              " Prediction(uid='A1KS90N9NHLP1K', iid='B00000JI4F', r_ui=5.0, est=3.754736554371849, details={'was_impossible': False}),\n",
              " Prediction(uid='A270ETMZ989J8U', iid='B00005T3EM', r_ui=5.0, est=4.397911460792592, details={'was_impossible': False}),\n",
              " Prediction(uid='A8V89KGUMXHUC', iid='B00004WCIC', r_ui=4.0, est=4.326862518891657, details={'was_impossible': False}),\n",
              " Prediction(uid='A3AKRY58E2XSF8', iid='B00005NPWJ', r_ui=5.0, est=4.678106619959419, details={'was_impossible': False}),\n",
              " Prediction(uid='ANTBL8PZ8S28P', iid='B000058AKE', r_ui=5.0, est=4.523748943168135, details={'was_impossible': False}),\n",
              " Prediction(uid='A278T3AHWPD637', iid='B00007E7NH', r_ui=3.0, est=3.4447084397523224, details={'was_impossible': False}),\n",
              " Prediction(uid='AJ6BE7SE5HQN3', iid='B00005T39Y', r_ui=1.0, est=4.027675714644116, details={'was_impossible': False}),\n",
              " Prediction(uid='A2Y08JN5453BLI', iid='B00011KM38', r_ui=5.0, est=4.598150128746584, details={'was_impossible': False}),\n",
              " Prediction(uid='AX2UTO32ELOVW', iid='B00008WIX3', r_ui=5.0, est=3.9345176070297083, details={'was_impossible': False}),\n",
              " Prediction(uid='A1JRTDAD17WBQT', iid='B00009W3E2', r_ui=1.0, est=3.688376256616214, details={'was_impossible': False}),\n",
              " Prediction(uid='A2XNI4DVRX9VAM', iid='B00007E7JU', r_ui=5.0, est=4.5678470442614065, details={'was_impossible': False}),\n",
              " Prediction(uid='A30DRXVJF8FWPP', iid='B00001W0DH', r_ui=4.0, est=4.149932653778362, details={'was_impossible': False}),\n",
              " Prediction(uid='A1EB59TQ5HHI0F', iid='B0000642RX', r_ui=5.0, est=4.2961531608940735, details={'was_impossible': False}),\n",
              " Prediction(uid='A3A7NGUGGNKE5I', iid='B00002SWHH', r_ui=5.0, est=4.248454221105351, details={'was_impossible': False}),\n",
              " Prediction(uid='AENS6CKKOM2D1', iid='B00007E7JU', r_ui=5.0, est=4.5678470442614065, details={'was_impossible': False}),\n",
              " Prediction(uid='A32OQPSRBB8XMJ', iid='B000092YQW', r_ui=2.0, est=3.485705909182161, details={'was_impossible': False}),\n",
              " Prediction(uid='A3LNUYAYL4WHGB', iid='B00006I5WJ', r_ui=1.0, est=4.007435789653588, details={'was_impossible': False}),\n",
              " Prediction(uid='A3JW843NOAOJ7O', iid='B00004Z61H', r_ui=4.0, est=2.980134210362742, details={'was_impossible': False}),\n",
              " Prediction(uid='ASVS9EAS2TTOA', iid='B000065BP9', r_ui=5.0, est=4.231710256668306, details={'was_impossible': False}),\n",
              " Prediction(uid='A14PM9JSIR3ZT7', iid='B000078QJ1', r_ui=2.0, est=3.449771692844573, details={'was_impossible': False}),\n",
              " Prediction(uid='AQU060K20FB2Y', iid='B00009K7E3', r_ui=1.0, est=3.6447140786922603, details={'was_impossible': False}),\n",
              " Prediction(uid='A1PXE0O0GEMYB5', iid='B00001W0DH', r_ui=5.0, est=4.149932653778362, details={'was_impossible': False}),\n",
              " Prediction(uid='A13UGTNKUXMHU2', iid='B00004TWM6', r_ui=5.0, est=3.4429484927784033, details={'was_impossible': False}),\n",
              " Prediction(uid='A1B9F0DRW7FBP3', iid='B00007EDZG', r_ui=4.0, est=4.416672810027865, details={'was_impossible': False}),\n",
              " Prediction(uid='AGUR7X3147WQE', iid='B0000BZL0G', r_ui=5.0, est=4.4510501745510584, details={'was_impossible': False}),\n",
              " Prediction(uid='A27TQA0XCZUXZY', iid='B000067RT6', r_ui=5.0, est=4.242083775309957, details={'was_impossible': False}),\n",
              " Prediction(uid='A3JEM7RSYFY8QT', iid='B00006BBAC', r_ui=1.0, est=3.9250783282717507, details={'was_impossible': False}),\n",
              " Prediction(uid='AHWXH8CA96IBX', iid='B00005NIMJ', r_ui=5.0, est=4.590479127896342, details={'was_impossible': False}),\n",
              " Prediction(uid='A8F9MVAEZ6MI6', iid='B00007E7JU', r_ui=1.0, est=4.5678470442614065, details={'was_impossible': False}),\n",
              " Prediction(uid='A13HZQ3FULMZR', iid='B0000TW3RE', r_ui=1.0, est=2.372355258430699, details={'was_impossible': False}),\n",
              " Prediction(uid='A2SBZZ1HSR7WSP', iid='B00009X6PH', r_ui=5.0, est=3.586785966453638, details={'was_impossible': False}),\n",
              " Prediction(uid='A17YE0N4DXEPQ6', iid='B00007EDM8', r_ui=5.0, est=3.7631819967490716, details={'was_impossible': False}),\n",
              " Prediction(uid='A3TP95IAOD6UIV', iid='B00009WO51', r_ui=5.0, est=4.522053723764822, details={'was_impossible': False}),\n",
              " Prediction(uid='A16DGFLDIWQB3Y', iid='B00007E816', r_ui=5.0, est=4.539874402508545, details={'was_impossible': False}),\n",
              " Prediction(uid='A30TLVHJDN1Q88', iid='B00007KDVI', r_ui=1.0, est=3.649319724252088, details={'was_impossible': False}),\n",
              " Prediction(uid='AWPQK323FD6L9', iid='B00004ZCJE', r_ui=4.0, est=4.135556997034983, details={'was_impossible': False}),\n",
              " Prediction(uid='A3VR7W448JRTXV', iid='B00009UT9B', r_ui=5.0, est=4.827155070312845, details={'was_impossible': False}),\n",
              " Prediction(uid='A2MIXD8BDAPCRJ', iid='B00008ZOYE', r_ui=4.0, est=3.4000379916707075, details={'was_impossible': False}),\n",
              " Prediction(uid='A32D9GU2HZ4ZYH', iid='B0000C73CQ', r_ui=5.0, est=4.616375434736871, details={'was_impossible': False}),\n",
              " Prediction(uid='A2B50DHBP1NPA0', iid='B00004Z5D1', r_ui=5.0, est=4.451837177304827, details={'was_impossible': False}),\n",
              " Prediction(uid='A39KWX4S2WWNW5', iid='B0000AOWVP', r_ui=5.0, est=3.7189937841839957, details={'was_impossible': False}),\n",
              " Prediction(uid='A3QTOVXJKYYNMP', iid='B00009QOS3', r_ui=1.0, est=4.150690914860576, details={'was_impossible': False}),\n",
              " Prediction(uid='A1ROPKNVD9800U', iid='B0000A602S', r_ui=3.0, est=3.0506219797002876, details={'was_impossible': False}),\n",
              " Prediction(uid='A3ENO7ZDMZ62TK', iid='B000068UY6', r_ui=5.0, est=3.816722312172241, details={'was_impossible': False}),\n",
              " Prediction(uid='A320LMCFBZOCFL', iid='B00008KWWF', r_ui=5.0, est=4.049125578175985, details={'was_impossible': False}),\n",
              " Prediction(uid='A10U7PLPODFA0M', iid='B000028F42', r_ui=4.0, est=3.19785707066897, details={'was_impossible': False}),\n",
              " Prediction(uid='A2WS4L9S0NCAEB', iid='B0000DK5LW', r_ui=5.0, est=3.7584128497830522, details={'was_impossible': False}),\n",
              " Prediction(uid='A3ARG6PEXDU135', iid='B00004WCID', r_ui=5.0, est=4.512207941782737, details={'was_impossible': False}),\n",
              " Prediction(uid='A3KVSSOT6FHRCV', iid='B000067V62', r_ui=4.0, est=4.671293019295409, details={'was_impossible': False}),\n",
              " Prediction(uid='A16COP4U6AYAVJ', iid='B0000ACOBG', r_ui=5.0, est=3.7741667778616987, details={'was_impossible': False}),\n",
              " Prediction(uid='AICQTNH6ZETXA', iid='B0000UXOHG', r_ui=4.0, est=3.889793398822207, details={'was_impossible': False}),\n",
              " Prediction(uid='ARSAP606D2FE1', iid='B00004SABJ', r_ui=1.0, est=3.7302130007298686, details={'was_impossible': False}),\n",
              " Prediction(uid='A3NDCPF5U3EQPA', iid='B000067RBT', r_ui=5.0, est=4.27232494111003, details={'was_impossible': False}),\n",
              " Prediction(uid='A2HY48R6E6YC17', iid='B000089GN3', r_ui=5.0, est=4.4902628786279895, details={'was_impossible': False}),\n",
              " Prediction(uid='A1KL2UM0WNKUL4', iid='B000051SEN', r_ui=2.0, est=4.0255712752518775, details={'was_impossible': False}),\n",
              " Prediction(uid='A10BNJ2IUXPN15', iid='B00009UT9B', r_ui=5.0, est=4.827155070312845, details={'was_impossible': False}),\n",
              " Prediction(uid='A1CG5L4K0GXTT0', iid='B00007E7C8', r_ui=5.0, est=4.385523478967096, details={'was_impossible': False}),\n",
              " Prediction(uid='A1KL1YVYYMQE2E', iid='B000067SOL', r_ui=4.0, est=4.430844047514534, details={'was_impossible': False}),\n",
              " Prediction(uid='A1CU7NKF4B6CKG', iid='B000056KYO', r_ui=4.0, est=4.060888597621376, details={'was_impossible': False}),\n",
              " Prediction(uid='A17AQUC82HDQVD', iid='B00005T3BD', r_ui=5.0, est=4.630165164330442, details={'was_impossible': False}),\n",
              " Prediction(uid='AYVRPQD2QM69D', iid='B00005BC0J', r_ui=5.0, est=3.996908332853485, details={'was_impossible': False}),\n",
              " Prediction(uid='A3PSALAUBU8ATN', iid='B00006BBAC', r_ui=5.0, est=4.157976460167452, details={'was_impossible': False}),\n",
              " Prediction(uid='A1T928838E9E8W', iid='B00008ZPJU', r_ui=1.0, est=2.952560123303517, details={'was_impossible': False}),\n",
              " Prediction(uid='A24G8MMP40AC3L', iid='B00007KDVK', r_ui=5.0, est=3.68468826902894, details={'was_impossible': False}),\n",
              " Prediction(uid='AY08PEZ11GX4K', iid='B00004T1XE', r_ui=5.0, est=4.2269032787959455, details={'was_impossible': False}),\n",
              " Prediction(uid='A2U9IM5B8IE1VL', iid='B00008WMBT', r_ui=5.0, est=3.191991659282657, details={'was_impossible': False}),\n",
              " Prediction(uid='AD85Q75U8HDV', iid='140053271X', r_ui=2.0, est=3.902632231549199, details={'was_impossible': False}),\n",
              " Prediction(uid='A13FVZR01QATWF', iid='B00005YXZE', r_ui=1.0, est=2.4971458572114367, details={'was_impossible': False}),\n",
              " Prediction(uid='A26HLKGFV8KNBF', iid='B000068P8W', r_ui=5.0, est=4.120012686585527, details={'was_impossible': False}),\n",
              " Prediction(uid='A3M0OMVAEKLM02', iid='B0000CCVC9', r_ui=5.0, est=4.366601146767713, details={'was_impossible': False}),\n",
              " Prediction(uid='A1EB1P0F4AQVKK', iid='B0000C3GWU', r_ui=3.0, est=3.986253245318391, details={'was_impossible': False}),\n",
              " Prediction(uid='A35ZZLWX0EDCO8', iid='B00005ARK3', r_ui=1.0, est=3.573296946067334, details={'was_impossible': False}),\n",
              " Prediction(uid='A1KQYKIWKQDJXQ', iid='B00009R6WO', r_ui=5.0, est=4.5858790820916004, details={'was_impossible': False}),\n",
              " Prediction(uid='A3QZDYU9BVAX5K', iid='B00007E7JU', r_ui=5.0, est=4.5678470442614065, details={'was_impossible': False}),\n",
              " Prediction(uid='A201JNGQU1MT0G', iid='B00005T380', r_ui=5.0, est=4.709078021153637, details={'was_impossible': False}),\n",
              " Prediction(uid='AHOU55SEILWHU', iid='B0000CE1UO', r_ui=4.0, est=3.755532736417683, details={'was_impossible': False}),\n",
              " Prediction(uid='AN3AYYNN2QCVE', iid='B00007E7JU', r_ui=5.0, est=4.590277278674964, details={'was_impossible': False}),\n",
              " Prediction(uid='A346YCW5R7ZZ6Z', iid='B00005Y1Z7', r_ui=1.0, est=3.7715346734070594, details={'was_impossible': False}),\n",
              " Prediction(uid='A14HG4VOOIUG60', iid='B00009K7E3', r_ui=5.0, est=3.83001652736554, details={'was_impossible': False}),\n",
              " Prediction(uid='A1UXHIWQY1I6NP', iid='1400501776', r_ui=4.0, est=3.9114172676294423, details={'was_impossible': False}),\n",
              " Prediction(uid='A1JW1Z7R2JGOM7', iid='B00006B7T7', r_ui=4.0, est=3.6178240727842845, details={'was_impossible': False}),\n",
              " Prediction(uid='AKMN2Y0XEB943', iid='B00006JQ06', r_ui=5.0, est=4.226912851291744, details={'was_impossible': False}),\n",
              " Prediction(uid='A2LUN3WV25MJ54', iid='B00005AT7Y', r_ui=5.0, est=3.843089001421022, details={'was_impossible': False}),\n",
              " Prediction(uid='A1PG1VQENDGGFT', iid='B000093UDQ', r_ui=5.0, est=3.605067574228979, details={'was_impossible': False}),\n",
              " Prediction(uid='AV3D525DZEV0I', iid='B00002ST80', r_ui=5.0, est=4.06141978479536, details={'was_impossible': False}),\n",
              " Prediction(uid='A2MGSD3J07USO0', iid='B00007M1TZ', r_ui=4.0, est=3.9832007484068357, details={'was_impossible': False}),\n",
              " Prediction(uid='A3VFWX3FJXRJ7J', iid='B0000AZK4G', r_ui=2.0, est=4.496465424974471, details={'was_impossible': False}),\n",
              " Prediction(uid='A25KVLMBT0D7S2', iid='B00006B7HB', r_ui=4.0, est=4.350681155051747, details={'was_impossible': False}),\n",
              " Prediction(uid='A6M4N31LHHZUA', iid='B00007E7C8', r_ui=4.0, est=4.385523478967096, details={'was_impossible': False}),\n",
              " Prediction(uid='A2OH0G4M3B50RY', iid='B00007EDZG', r_ui=5.0, est=4.390179091660837, details={'was_impossible': False}),\n",
              " Prediction(uid='A1XZ2I7VJZ0W1C', iid='B00003CWDH', r_ui=1.0, est=4.390548735836612, details={'was_impossible': False}),\n",
              " Prediction(uid='A31ASTQ6P4UZBE', iid='B00009R6GE', r_ui=5.0, est=4.684393208779815, details={'was_impossible': False}),\n",
              " Prediction(uid='A1M7GEM01BFU9G', iid='B000095SB4', r_ui=1.0, est=3.5567070926418958, details={'was_impossible': False}),\n",
              " Prediction(uid='AZGZU7HKKJQJ2', iid='B00009MK3T', r_ui=2.0, est=3.049522573096701, details={'was_impossible': False}),\n",
              " Prediction(uid='ALXLDDHV5D1OM', iid='B00005T39Y', r_ui=1.0, est=3.942478925518833, details={'was_impossible': False}),\n",
              " Prediction(uid='A3OUQMUIZBV328', iid='B00007M1TZ', r_ui=3.0, est=3.9832007484068357, details={'was_impossible': False}),\n",
              " Prediction(uid='AZ7FJ1BQ14N0U', iid='B0000BZL1P', r_ui=5.0, est=4.7926928696644815, details={'was_impossible': False}),\n",
              " Prediction(uid='AHQI6TUB9ODJI', iid='B000067RT6', r_ui=5.0, est=4.4435909298907825, details={'was_impossible': False}),\n",
              " Prediction(uid='A1TYHWJ31JASE8', iid='B00006L4FX', r_ui=4.0, est=4.217992715397832, details={'was_impossible': False}),\n",
              " Prediction(uid='A1I6DUMO956OA8', iid='B00005T6GZ', r_ui=1.0, est=4.134904825396103, details={'was_impossible': False}),\n",
              " Prediction(uid='A1N4OMYEDQF40W', iid='B00007E7JU', r_ui=5.0, est=4.5678470442614065, details={'was_impossible': False}),\n",
              " Prediction(uid='A1GWAG1H2FAFX1', iid='B0000VYJRY', r_ui=5.0, est=4.543259478597287, details={'was_impossible': False}),\n",
              " Prediction(uid='ADIVZE8B6IWE5', iid='B00007E7K0', r_ui=5.0, est=4.703361567660607, details={'was_impossible': False}),\n",
              " Prediction(uid='A2ENEFZ78Y2UZ3', iid='B00004TS16', r_ui=5.0, est=4.463698685557914, details={'was_impossible': False}),\n",
              " Prediction(uid='A33UAXEULFG6Z0', iid='B00009QOS3', r_ui=5.0, est=4.150690914860576, details={'was_impossible': False}),\n",
              " Prediction(uid='A2DAUBY19G1M82', iid='B00005ATMB', r_ui=5.0, est=4.361008900909548, details={'was_impossible': False}),\n",
              " Prediction(uid='A4NJ1LJRAFWD7', iid='B00005NIMJ', r_ui=4.0, est=4.492995952664727, details={'was_impossible': False}),\n",
              " Prediction(uid='A2Y3YN5KSKYQS5', iid='B00006JQ06', r_ui=5.0, est=4.226912851291744, details={'was_impossible': False}),\n",
              " Prediction(uid='AP74U5DI6KCDT', iid='B00007AKDL', r_ui=3.0, est=2.6996233070948508, details={'was_impossible': False}),\n",
              " Prediction(uid='A2O8CZ9JEQ9QFU', iid='B00007AKDP', r_ui=5.0, est=4.530540641810388, details={'was_impossible': False}),\n",
              " Prediction(uid='A3JA5Y1NXOJ1P2', iid='B00007EDM8', r_ui=4.0, est=3.7631819967490716, details={'was_impossible': False}),\n",
              " Prediction(uid='A1OGNKUL7XV6I2', iid='B00006B7DA', r_ui=5.0, est=3.8983805637714477, details={'was_impossible': False}),\n",
              " Prediction(uid='A2B4Q3C3W60VVP', iid='B00004ZCJE', r_ui=5.0, est=4.135556997034983, details={'was_impossible': False}),\n",
              " Prediction(uid='AA89IV7TG8ND5', iid='B00007KDVI', r_ui=4.0, est=3.649319724252088, details={'was_impossible': False}),\n",
              " Prediction(uid='A38H34IAIG5C2L', iid='B000067O5G', r_ui=3.0, est=3.708235703761108, details={'was_impossible': False}),\n",
              " Prediction(uid='A2UHQDKZNWF26M', iid='B00004Z5PY', r_ui=5.0, est=4.231723832207538, details={'was_impossible': False}),\n",
              " Prediction(uid='A3AURB93EYII9R', iid='B00003CWDH', r_ui=5.0, est=4.390548735836612, details={'was_impossible': False}),\n",
              " Prediction(uid='A2WUUBYWQFUQW9', iid='B000065BP9', r_ui=1.0, est=4.253863762250332, details={'was_impossible': False}),\n",
              " Prediction(uid='A3QNAMTMONWTOE', iid='B0000510T7', r_ui=5.0, est=4.12500511237273, details={'was_impossible': False}),\n",
              " Prediction(uid='A36DV475ZI3LYJ', iid='B00004ZCKV', r_ui=4.0, est=4.0556145853822345, details={'was_impossible': False}),\n",
              " Prediction(uid='A1ET68ASC32GKQ', iid='B0000899ZB', r_ui=5.0, est=4.3876254090739835, details={'was_impossible': False}),\n",
              " Prediction(uid='A2K2385OYNTYLS', iid='B000051SEN', r_ui=4.0, est=4.0255712752518775, details={'was_impossible': False}),\n",
              " Prediction(uid='A3N0ZIYZP5Z33B', iid='B00007E7JU', r_ui=5.0, est=4.5678470442614065, details={'was_impossible': False}),\n",
              " Prediction(uid='A1AKUZN1DKKEM', iid='B000092TR5', r_ui=5.0, est=4.470899385583648, details={'was_impossible': False}),\n",
              " Prediction(uid='A3426A64BWYCS8', iid='B00009PLIM', r_ui=4.0, est=3.2385943464442013, details={'was_impossible': False}),\n",
              " Prediction(uid='A38C8YC295YXXI', iid='B00004ZCJE', r_ui=5.0, est=4.135556997034983, details={'was_impossible': False}),\n",
              " Prediction(uid='A2GQ8VOUH31T09', iid='B0000VYJRY', r_ui=5.0, est=4.543259478597287, details={'was_impossible': False}),\n",
              " Prediction(uid='A1E54CX25DA6D', iid='B000086EYG', r_ui=5.0, est=4.4758797611601695, details={'was_impossible': False}),\n",
              " Prediction(uid='A3VCZG6YYYGNYO', iid='B0000AZK4G', r_ui=3.0, est=4.496465424974471, details={'was_impossible': False}),\n",
              " Prediction(uid='A1LFLNJTHF2C0F', iid='B00004TDLD', r_ui=5.0, est=4.818392122944656, details={'was_impossible': False}),\n",
              " Prediction(uid='A1SPH5XHWNUO5S', iid='B00005ATMB', r_ui=5.0, est=4.475877121430836, details={'was_impossible': False}),\n",
              " Prediction(uid='A3POOQMFOLS1B7', iid='B00009R6WY', r_ui=5.0, est=4.7852380323241, details={'was_impossible': False}),\n",
              " Prediction(uid='A71BX7OI5NH2T', iid='B00004SABB', r_ui=4.0, est=4.018173817812287, details={'was_impossible': False}),\n",
              " Prediction(uid='AT0WXV5X94EDY', iid='B00000JII6', r_ui=2.0, est=2.6925716955744248, details={'was_impossible': False}),\n",
              " Prediction(uid='A2ACW90YRLH97P', iid='B00006HYP6', r_ui=4.0, est=3.9859174666981154, details={'was_impossible': False}),\n",
              " Prediction(uid='AG8DPYVTLT2C2', iid='B00007M1TZ', r_ui=5.0, est=3.9832007484068357, details={'was_impossible': False}),\n",
              " Prediction(uid='A7K51BIYMLWYJ', iid='B00009R6TA', r_ui=4.0, est=4.4996996605400215, details={'was_impossible': False}),\n",
              " Prediction(uid='A104VY4E5UAI48', iid='B00004T8R2', r_ui=5.0, est=4.259323943389856, details={'was_impossible': False}),\n",
              " Prediction(uid='AQAHRYIM42RLC', iid='B00007LTB6', r_ui=3.0, est=4.114852642111362, details={'was_impossible': False}),\n",
              " Prediction(uid='A1G1S1GTZMZF4A', iid='B00004Z7H5', r_ui=5.0, est=4.210627955284672, details={'was_impossible': False}),\n",
              " Prediction(uid='A3LO0P6PKY3JFL', iid='B00009KH63', r_ui=2.0, est=3.9898042702926677, details={'was_impossible': False}),\n",
              " Prediction(uid='A38E7Q90DUG61R', iid='B00001P4ZR', r_ui=5.0, est=4.121795969135118, details={'was_impossible': False}),\n",
              " Prediction(uid='A3QIXM75QK2G29', iid='B00008SCFL', r_ui=5.0, est=3.2836952040461265, details={'was_impossible': False}),\n",
              " Prediction(uid='A3TBZPJU9VNPSU', iid='B00004THCZ', r_ui=5.0, est=4.237296056023454, details={'was_impossible': False}),\n",
              " Prediction(uid='A38Q1UX64HWEET', iid='1400532655', r_ui=3.0, est=3.7532865118009076, details={'was_impossible': False}),\n",
              " Prediction(uid='A35XEYIBJT7ZES', iid='B00000J3UJ', r_ui=1.0, est=2.7351920235364684, details={'was_impossible': False}),\n",
              " Prediction(uid='A2FU6ITLPMNK9W', iid='B00003CWDG', r_ui=4.0, est=4.060789951473354, details={'was_impossible': False}),\n",
              " Prediction(uid='AGGSGL88CSVUI', iid='B000092TT0', r_ui=5.0, est=4.728315681051423, details={'was_impossible': False}),\n",
              " Prediction(uid='AWCE6A2S6EMR', iid='B00001W0DH', r_ui=2.0, est=4.149932653778362, details={'was_impossible': False}),\n",
              " Prediction(uid='AG1K4RMQ9M78S', iid='B00007M1TZ', r_ui=1.0, est=3.9832007484068357, details={'was_impossible': False}),\n",
              " Prediction(uid='A1II4RYVMEEWSD', iid='B0000C8VEK', r_ui=5.0, est=4.608815601660639, details={'was_impossible': False}),\n",
              " Prediction(uid='A1Z455QE8LUP66', iid='B0000D89M6', r_ui=5.0, est=4.578496251706484, details={'was_impossible': False}),\n",
              " Prediction(uid='A22ERD4GL3P7TK', iid='B000001ON6', r_ui=4.0, est=3.9448621841620244, details={'was_impossible': False}),\n",
              " Prediction(uid='ATSS179N4QBVI', iid='B00006B7DA', r_ui=4.0, est=3.8983805637714477, details={'was_impossible': False}),\n",
              " Prediction(uid='A2ME1L7ZCJFQOH', iid='B00004WCIC', r_ui=4.0, est=4.371545358207407, details={'was_impossible': False}),\n",
              " Prediction(uid='AK73H36AF973S', iid='B000095SB4', r_ui=1.0, est=3.5567070926418958, details={'was_impossible': False}),\n",
              " Prediction(uid='A1RPTVW5VEOSI', iid='B00005NOKT', r_ui=5.0, est=4.054656128528382, details={'was_impossible': False}),\n",
              " Prediction(uid='ASNJLNW4J0G1S', iid='B00007E7JU', r_ui=5.0, est=4.5678470442614065, details={'was_impossible': False}),\n",
              " Prediction(uid='A3OG4Z1C10GGDW', iid='B000067RT6', r_ui=5.0, est=4.465969543648195, details={'was_impossible': False}),\n",
              " Prediction(uid='A347PDU84FVCRF', iid='B00006JQ6C', r_ui=3.0, est=4.368965759549645, details={'was_impossible': False}),\n",
              " Prediction(uid='A3CPLDFN1HTBCN', iid='B00007EDZG', r_ui=5.0, est=4.382884055361963, details={'was_impossible': False}),\n",
              " Prediction(uid='AGZ1J2KEFSFLA', iid='B000095SB4', r_ui=5.0, est=3.5567070926418958, details={'was_impossible': False}),\n",
              " Prediction(uid='A15QO00IWUL387', iid='B0000EZ1KK', r_ui=1.0, est=3.4965563318251345, details={'was_impossible': False}),\n",
              " Prediction(uid='AXR9PC2II8UCB', iid='B00006B7RK', r_ui=4.0, est=4.3285423887085335, details={'was_impossible': False}),\n",
              " Prediction(uid='A376INY8S41G00', iid='B000023VUL', r_ui=5.0, est=3.4658448619025726, details={'was_impossible': False}),\n",
              " Prediction(uid='A1NUH55GYDDSAU', iid='B00005YXZE', r_ui=1.0, est=2.4971458572114367, details={'was_impossible': False}),\n",
              " Prediction(uid='A1VOFB8SCK8LOO', iid='B00005T3G0', r_ui=5.0, est=4.5977438297077065, details={'was_impossible': False}),\n",
              " Prediction(uid='A2TQHRINTDZ622', iid='B00008Y0VN', r_ui=3.0, est=4.234122557160463, details={'was_impossible': False}),\n",
              " Prediction(uid='AGSWCDZS8CVVL', iid='B0000AQIFW', r_ui=5.0, est=3.3889025062126183, details={'was_impossible': False}),\n",
              " Prediction(uid='ANYKKMEHB0ABA', iid='B00005ATMI', r_ui=5.0, est=4.309591565663058, details={'was_impossible': False}),\n",
              " Prediction(uid='AE9KU7180OQVY', iid='B0000BYDKO', r_ui=5.0, est=3.381920140286872, details={'was_impossible': False}),\n",
              " Prediction(uid='A2DZHMTGAK2SKP', iid='B00007AKDL', r_ui=5.0, est=2.6996233070948508, details={'was_impossible': False}),\n",
              " Prediction(uid='AEOBY8UNGDWNN', iid='B000068O3C', r_ui=5.0, est=4.504489036594622, details={'was_impossible': False}),\n",
              " Prediction(uid='A2ZEY7SOYTUC7E', iid='1400501520', r_ui=5.0, est=4.20706086156226, details={'was_impossible': False}),\n",
              " Prediction(uid='A149S8MTRZNK5L', iid='B0000C0XS0', r_ui=5.0, est=2.90655923347105, details={'was_impossible': False}),\n",
              " Prediction(uid='A3ATANN8XEUSXI', iid='B00004T8R2', r_ui=5.0, est=4.259323943389856, details={'was_impossible': False}),\n",
              " Prediction(uid='A218EJYUEYBPRX', iid='B00005T3G0', r_ui=5.0, est=4.5977438297077065, details={'was_impossible': False}),\n",
              " Prediction(uid='A22QNS5KONXAW3', iid='B00006I5J7', r_ui=5.0, est=4.680602249709198, details={'was_impossible': False}),\n",
              " Prediction(uid='A2SNROXZGL5L2A', iid='B000067RVL', r_ui=1.0, est=4.118812762596617, details={'was_impossible': False}),\n",
              " Prediction(uid='A1L4U8LPDZL3HR', iid='B000067SOH', r_ui=5.0, est=4.387651161568751, details={'was_impossible': False}),\n",
              " Prediction(uid='A2UNIW4403G994', iid='B00004ZCJE', r_ui=4.0, est=4.13127895200558, details={'was_impossible': False}),\n",
              " Prediction(uid='A3GCNWRQI7M8HT', iid='B00009W3E2', r_ui=4.0, est=3.749723430619993, details={'was_impossible': False}),\n",
              " Prediction(uid='A2XH7QW6JBRZB9', iid='B00009QORL', r_ui=4.0, est=4.131751001268359, details={'was_impossible': False}),\n",
              " Prediction(uid='ARK5SAGVLW3FY', iid='B0000DK3I4', r_ui=3.0, est=4.66304944642558, details={'was_impossible': False}),\n",
              " Prediction(uid='A27C5ZB2FN2ZQE', iid='B00006JINY', r_ui=5.0, est=4.154825992286698, details={'was_impossible': False}),\n",
              " Prediction(uid='ASA5DD1O3YB1X', iid='B00006I53A', r_ui=5.0, est=4.238989757096728, details={'was_impossible': False}),\n",
              " Prediction(uid='A3SXRG9TFJ41ZF', iid='B00001ZWXA', r_ui=5.0, est=4.364072651117656, details={'was_impossible': False}),\n",
              " Prediction(uid='AYS4OTAD8IMAP', iid='B00006I5SQ', r_ui=5.0, est=3.8426083277373206, details={'was_impossible': False}),\n",
              " Prediction(uid='A23OXT6DT35PKJ', iid='B00007FGUE', r_ui=1.0, est=3.928811859934146, details={'was_impossible': False}),\n",
              " Prediction(uid='A1TO1MI1NF4938', iid='B00009RA60', r_ui=5.0, est=4.28026879569418, details={'was_impossible': False}),\n",
              " Prediction(uid='A378FPWXRKEKN3', iid='B00004X10B', r_ui=5.0, est=4.679113221082017, details={'was_impossible': False}),\n",
              " Prediction(uid='A1C5FJU0VRWLC3', iid='B0000BYDKO', r_ui=1.0, est=3.381920140286872, details={'was_impossible': False}),\n",
              " Prediction(uid='A174ATN0RIDJCC', iid='B00006IRR8', r_ui=4.0, est=4.1255915051827206, details={'was_impossible': False}),\n",
              " Prediction(uid='A3CVA4ON2QGNGC', iid='B000067RVL', r_ui=2.0, est=4.118812762596617, details={'was_impossible': False}),\n",
              " Prediction(uid='A6RFN29OCYE3S', iid='B00005T3RC', r_ui=1.0, est=3.6664575879189316, details={'was_impossible': False}),\n",
              " Prediction(uid='A1Z4DT426L13HT', iid='B000089GN3', r_ui=1.0, est=4.4902628786279895, details={'was_impossible': False}),\n",
              " Prediction(uid='AS0NBFJ2W5NSW', iid='B000068O16', r_ui=4.0, est=4.68396883897754, details={'was_impossible': False}),\n",
              " Prediction(uid='A29QHH40ZMAI3F', iid='B0000E658Q', r_ui=1.0, est=2.483999630236689, details={'was_impossible': False}),\n",
              " Prediction(uid='A1CXV9BUOFONSB', iid='B00006HZ0L', r_ui=5.0, est=4.268772832094234, details={'was_impossible': False}),\n",
              " Prediction(uid='A2OMM5TATXAWDS', iid='B000065BP9', r_ui=5.0, est=4.231710256668306, details={'was_impossible': False}),\n",
              " Prediction(uid='A2P1YEZ7LHAVDW', iid='B00006HSM2', r_ui=3.0, est=2.8395300002218953, details={'was_impossible': False}),\n",
              " Prediction(uid='AUQ4YLHHS478X', iid='B00006I53A', r_ui=2.0, est=4.238989757096728, details={'was_impossible': False}),\n",
              " Prediction(uid='A1VIEJPXS9VYB8', iid='B00008NJEP', r_ui=4.0, est=3.2602348293545207, details={'was_impossible': False}),\n",
              " Prediction(uid='A106TZO4J5G1WQ', iid='B00005NOKT', r_ui=5.0, est=3.9147850075547397, details={'was_impossible': False}),\n",
              " Prediction(uid='A14NQ0FB1QS22U', iid='B00004SB92', r_ui=5.0, est=3.917591041725252, details={'was_impossible': False}),\n",
              " Prediction(uid='A1591PJYM84XQT', iid='B00001P4ZH', r_ui=5.0, est=4.447598926097144, details={'was_impossible': False}),\n",
              " Prediction(uid='ANGNIOVB01RWJ', iid='B00009X6PH', r_ui=5.0, est=3.545708291879201, details={'was_impossible': False}),\n",
              " Prediction(uid='A1QPMZVX55ZCKQ', iid='B00008VF5W', r_ui=5.0, est=2.887012109626695, details={'was_impossible': False}),\n",
              " Prediction(uid='A36ZVMMXSTDV52', iid='B000069K8O', r_ui=5.0, est=3.9586540926306677, details={'was_impossible': False}),\n",
              " Prediction(uid='A26UMYPCY95EX7', iid='B00009R6UA', r_ui=5.0, est=4.607062259758262, details={'was_impossible': False}),\n",
              " Prediction(uid='A3A3LNDYHH53L0', iid='B00000K2YR', r_ui=5.0, est=4.009077174258015, details={'was_impossible': False}),\n",
              " Prediction(uid='A1P32OOW0EXJ8P', iid='B0000U19F0', r_ui=3.0, est=3.7022129246061555, details={'was_impossible': False}),\n",
              " Prediction(uid='AF8JZ6SV7AC4L', iid='B00001P505', r_ui=1.0, est=4.264305847775701, details={'was_impossible': False}),\n",
              " Prediction(uid='A3G2FOJL92215L', iid='B00000K135', r_ui=3.0, est=4.424239213288938, details={'was_impossible': False}),\n",
              " Prediction(uid='A363QTM2TCHFTH', iid='B00004Z5M1', r_ui=5.0, est=4.560932013732071, details={'was_impossible': False}),\n",
              " Prediction(uid='A3G4HKQ33RLCZG', iid='B00004VUGJ', r_ui=4.0, est=4.276881494851035, details={'was_impossible': False}),\n",
              " Prediction(uid='A2JNZGLYYGPIMS', iid='B0000BZOGJ', r_ui=5.0, est=4.425971455253694, details={'was_impossible': False}),\n",
              " Prediction(uid='A3MTIYA3GU7VWR', iid='B000067SGI', r_ui=5.0, est=4.605731991408806, details={'was_impossible': False}),\n",
              " Prediction(uid='A1145T88SIAFQ2', iid='B00005ATMI', r_ui=4.0, est=4.309591565663058, details={'was_impossible': False}),\n",
              " Prediction(uid='AO8Q98Z14CRAZ', iid='B00003CWDH', r_ui=5.0, est=4.390548735836612, details={'was_impossible': False}),\n",
              " Prediction(uid='A24TLY5J9Z7T2F', iid='B00008WFVI', r_ui=5.0, est=3.6538882781255464, details={'was_impossible': False}),\n",
              " Prediction(uid='A2SS2Z1T1LXTWG', iid='B00009R86L', r_ui=5.0, est=4.449446482580414, details={'was_impossible': False}),\n",
              " Prediction(uid='AI74FNC3ZQKTQ', iid='7214047977', r_ui=5.0, est=4.586122636684463, details={'was_impossible': False}),\n",
              " Prediction(uid='A11LMDAYOA0F8P', iid='B00008XOHI', r_ui=2.0, est=3.3123822016985427, details={'was_impossible': False}),\n",
              " Prediction(uid='A2POK75VXFMO9K', iid='B00005B4BW', r_ui=1.0, est=3.1765144305569977, details={'was_impossible': False}),\n",
              " Prediction(uid='A2KWXM57567SJR', iid='B000086EYG', r_ui=5.0, est=4.4758797611601695, details={'was_impossible': False}),\n",
              " Prediction(uid='A3QCG6R256ROB', iid='B0000932A9', r_ui=5.0, est=3.8084422886292844, details={'was_impossible': False}),\n",
              " Prediction(uid='A3V93FPAH1DGGJ', iid='B00006A7AY', r_ui=5.0, est=4.208308274962089, details={'was_impossible': False}),\n",
              " Prediction(uid='AUFO472RK8V6K', iid='B0000BZL1P', r_ui=5.0, est=4.800638784531515, details={'was_impossible': False}),\n",
              " Prediction(uid='A3U3J9159J0NYS', iid='B00007EDZG', r_ui=5.0, est=4.36739807928437, details={'was_impossible': False}),\n",
              " Prediction(uid='A2ULULOKCOMTNH', iid='B00007E7C8', r_ui=5.0, est=4.385523478967096, details={'was_impossible': False}),\n",
              " Prediction(uid='AO18L1678BHUD', iid='B00006HZ0L', r_ui=5.0, est=4.268772832094234, details={'was_impossible': False}),\n",
              " Prediction(uid='AJLPS4A9HGOQK', iid='B0000DK5LW', r_ui=5.0, est=3.7584128497830522, details={'was_impossible': False}),\n",
              " Prediction(uid='A3AF1V14XIOIPX', iid='B00009R6TA', r_ui=5.0, est=4.500030617476341, details={'was_impossible': False}),\n",
              " Prediction(uid='A3IGKWA4I35N0T', iid='B00005LEN4', r_ui=5.0, est=4.6555816612286325, details={'was_impossible': False}),\n",
              " Prediction(uid='A27OIJSE37SE3O', iid='B00007KDVI', r_ui=5.0, est=3.649319724252088, details={'was_impossible': False}),\n",
              " Prediction(uid='A2I3YEW6BI2P30', iid='B00007EDM8', r_ui=4.0, est=3.7631819967490716, details={'was_impossible': False}),\n",
              " Prediction(uid='AIMGMOTFF0U0V', iid='B00005Q4ZV', r_ui=2.0, est=3.40893183275264, details={'was_impossible': False}),\n",
              " Prediction(uid='A1B3DQ05GJDLLY', iid='B000069K98', r_ui=4.0, est=4.044102646025195, details={'was_impossible': False}),\n",
              " Prediction(uid='A8XV9SMUW4OT4', iid='B00006HZ0L', r_ui=5.0, est=4.268772832094234, details={'was_impossible': False}),\n",
              " Prediction(uid='AOJ9KSRSMLBC6', iid='B00009V332', r_ui=5.0, est=4.037596759994357, details={'was_impossible': False}),\n",
              " Prediction(uid='A2Y64H0FKYUM1F', iid='B00007M1TZ', r_ui=3.0, est=3.9832007484068357, details={'was_impossible': False}),\n",
              " Prediction(uid='A72XO5B57GZWH', iid='B00007AP2O', r_ui=5.0, est=3.765392786655603, details={'was_impossible': False}),\n",
              " Prediction(uid='A2Q9OJ1JGAAS1M', iid='B00007E7C8', r_ui=5.0, est=4.385523478967096, details={'was_impossible': False}),\n",
              " Prediction(uid='AZGLF7856XMP7', iid='B00001P4ZH', r_ui=4.0, est=4.447598926097144, details={'was_impossible': False}),\n",
              " Prediction(uid='A1V1EOH0QBEX9I', iid='B000087BXU', r_ui=4.0, est=3.66242936886915, details={'was_impossible': False}),\n",
              " Prediction(uid='A2UVWHS5UEH5TF', iid='B00009UHYQ', r_ui=5.0, est=3.9816525520211945, details={'was_impossible': False}),\n",
              " Prediction(uid='A2EU2FZFPWCB4G', iid='B00007FWP2', r_ui=5.0, est=4.428588166416854, details={'was_impossible': False}),\n",
              " Prediction(uid='A3PIHGOI8MHXIU', iid='B00007FSB9', r_ui=5.0, est=3.501651094568009, details={'was_impossible': False}),\n",
              " Prediction(uid='A3SXFMJBSV52OI', iid='B000063TJY', r_ui=5.0, est=4.134114072290154, details={'was_impossible': False}),\n",
              " Prediction(uid='A2MHHD7Q2ZCZLQ', iid='B00001ZT4H', r_ui=5.0, est=4.3106289549976955, details={'was_impossible': False}),\n",
              " Prediction(uid='A24KFOZW1FQ4AC', iid='B00009KH63', r_ui=3.0, est=3.9898042702926677, details={'was_impossible': False}),\n",
              " Prediction(uid='A383OYRR196S0A', iid='B000053HH5', r_ui=5.0, est=4.838316087708042, details={'was_impossible': False}),\n",
              " Prediction(uid='AM3N5LZ7BETCB', iid='9625993428', r_ui=5.0, est=3.550286559498823, details={'was_impossible': False}),\n",
              " Prediction(uid='A175O0X4VWQ917', iid='B000089GN2', r_ui=2.0, est=3.7035685619414624, details={'was_impossible': False}),\n",
              " Prediction(uid='A2OXV9Q03XSKV6', iid='B000001ON6', r_ui=1.0, est=3.9448621841620244, details={'was_impossible': False}),\n",
              " Prediction(uid='A24UIMLT48Z09O', iid='B00000J3UJ', r_ui=1.0, est=2.7351920235364684, details={'was_impossible': False}),\n",
              " Prediction(uid='A3LG021LVJT20C', iid='B00008Y0VN', r_ui=5.0, est=4.234122557160463, details={'was_impossible': False}),\n",
              " Prediction(uid='A3U5OIPQEZ3RTH', iid='B00007E7C8', r_ui=5.0, est=4.385523478967096, details={'was_impossible': False}),\n",
              " Prediction(uid='A3MIQ09TOK4NPN', iid='B000068P8W', r_ui=5.0, est=4.120012686585527, details={'was_impossible': False}),\n",
              " Prediction(uid='A2TLDV4TL8X68A', iid='B00005N6KG', r_ui=4.0, est=3.954360300661451, details={'was_impossible': False}),\n",
              " Prediction(uid='A2ZTA8ADCVTTOZ', iid='B00008VWOJ', r_ui=2.0, est=3.456794316238666, details={'was_impossible': False}),\n",
              " Prediction(uid='A3LISZ01VY6PI7', iid='B00002EQCW', r_ui=5.0, est=4.605734991536119, details={'was_impossible': False}),\n",
              " Prediction(uid='A3UPZQW5BN338G', iid='B00007056H', r_ui=5.0, est=4.172956767798518, details={'was_impossible': False}),\n",
              " Prediction(uid='A196ATH9I9FA35', iid='140053271X', r_ui=5.0, est=3.902632231549199, details={'was_impossible': False}),\n",
              " Prediction(uid='AFU2UG57ZTBRF', iid='B00003G1RG', r_ui=5.0, est=4.561845944756101, details={'was_impossible': False}),\n",
              " Prediction(uid='A3F908XSHU9IQT', iid='B00004T1XK', r_ui=1.0, est=4.212656613412188, details={'was_impossible': False}),\n",
              " Prediction(uid='ACSX5AIZE3MJ9', iid='B00005ARK3', r_ui=4.0, est=3.53997312763724, details={'was_impossible': False}),\n",
              " Prediction(uid='AQ42RONG1TFX9', iid='B00000J6WY', r_ui=5.0, est=3.9295888329953614, details={'was_impossible': False}),\n",
              " Prediction(uid='A31JM12SL1NY6O', iid='B00001P4ZH', r_ui=5.0, est=4.447598926097144, details={'was_impossible': False}),\n",
              " Prediction(uid='A39EC0GRH69D0Q', iid='B000089GN2', r_ui=4.0, est=3.875238581685178, details={'was_impossible': False}),\n",
              " Prediction(uid='A1YX30O4SLQPGO', iid='B00004SABJ', r_ui=5.0, est=3.7302130007298686, details={'was_impossible': False}),\n",
              " Prediction(uid='A3MR8LV3BK9L68', iid='B00004WCID', r_ui=4.0, est=4.6494866925359934, details={'was_impossible': False}),\n",
              " Prediction(uid='A2EG26KD75ZW0', iid='B00004SABJ', r_ui=4.0, est=3.7302130007298686, details={'was_impossible': False}),\n",
              " Prediction(uid='A20UUPGHCUDSIR', iid='B00007FWP2', r_ui=5.0, est=4.428588166416854, details={'was_impossible': False}),\n",
              " Prediction(uid='A3NYBEKHURHG0Y', iid='B00004WCID', r_ui=5.0, est=4.512207941782737, details={'was_impossible': False}),\n",
              " Prediction(uid='AOBWQX84JB0NV', iid='B00005LE77', r_ui=5.0, est=4.721096124186307, details={'was_impossible': False}),\n",
              " Prediction(uid='AUSMGD8LVU7D2', iid='0972683275', r_ui=5.0, est=4.472750777235683, details={'was_impossible': False}),\n",
              " Prediction(uid='A3JI2LW8IB9YOV', iid='B00002EQCW', r_ui=5.0, est=4.605734991536119, details={'was_impossible': False}),\n",
              " Prediction(uid='A2PPNCH6526PQQ', iid='B00008SCFL', r_ui=5.0, est=3.2836952040461265, details={'was_impossible': False}),\n",
              " Prediction(uid='A1SODL5N5GREZ7', iid='B00004ZCJE', r_ui=1.0, est=4.135556997034983, details={'was_impossible': False}),\n",
              " Prediction(uid='A5EUM4VO3NUIJ', iid='B000092TT0', r_ui=1.0, est=4.728315681051423, details={'was_impossible': False}),\n",
              " Prediction(uid='A3TAS1AG6FMBQW', iid='0972683275', r_ui=5.0, est=4.511919825248496, details={'was_impossible': False}),\n",
              " Prediction(uid='A14UMSYNOM5ECF', iid='B00007EDZG', r_ui=5.0, est=4.390179091660837, details={'was_impossible': False}),\n",
              " Prediction(uid='ACXC7Y5IARNSB', iid='B00009R6WW', r_ui=5.0, est=4.6130089007959985, details={'was_impossible': False}),\n",
              " Prediction(uid='AMFMV5G4QOO8V', iid='B00009XVCU', r_ui=5.0, est=4.355978056192536, details={'was_impossible': False}),\n",
              " Prediction(uid='ALV1J4KEXAGIO', iid='B00005N6KG', r_ui=5.0, est=4.03236664937698, details={'was_impossible': False}),\n",
              " Prediction(uid='A1Y4ECVUY7SM4T', iid='B00004SABJ', r_ui=4.0, est=3.7302130007298686, details={'was_impossible': False}),\n",
              " Prediction(uid='A258EYF11EIM1W', iid='B000067SRA', r_ui=5.0, est=3.7551451430621117, details={'was_impossible': False}),\n",
              " Prediction(uid='A326FHZY3T2T87', iid='B0000A2QBP', r_ui=4.0, est=4.594456732450171, details={'was_impossible': False}),\n",
              " Prediction(uid='A3AFS1Y9PLXFNB', iid='B00009V332', r_ui=5.0, est=4.037596759994357, details={'was_impossible': False}),\n",
              " Prediction(uid='A27UXSDFMZ0FJ', iid='B00009R6TA', r_ui=5.0, est=4.466457125483206, details={'was_impossible': False}),\n",
              " Prediction(uid='A3GMYDSCC3I96M', iid='B00009V4G9', r_ui=5.0, est=4.576150998928918, details={'was_impossible': False}),\n",
              " Prediction(uid='A35I93EGV4C5B1', iid='B0000C4DX6', r_ui=5.0, est=3.7459091733164094, details={'was_impossible': False}),\n",
              " Prediction(uid='A2TX7R52XYFNEK', iid='B0000BZL1P', r_ui=5.0, est=4.818765587266643, details={'was_impossible': False}),\n",
              " Prediction(uid='AQVBVUV3SFDMA', iid='B00008AWKZ', r_ui=5.0, est=3.964370524184393, details={'was_impossible': False}),\n",
              " Prediction(uid='A3RAUIWRFKXAIQ', iid='B00004TBLW', r_ui=4.0, est=4.358933582483768, details={'was_impossible': False}),\n",
              " Prediction(uid='A1YMI27NURH2YC', iid='B00003006E', r_ui=5.0, est=4.224736338870418, details={'was_impossible': False}),\n",
              " Prediction(uid='A1GQRGB8FGSLIZ', iid='B00007LTBA', r_ui=4.0, est=3.2038115977451938, details={'was_impossible': False}),\n",
              " Prediction(uid='A3HHJL9UA02FOF', iid='B000051SGX', r_ui=2.0, est=3.3176379038269737, details={'was_impossible': False}),\n",
              " Prediction(uid='A3MW52813EEB8L', iid='B000067RC4', r_ui=5.0, est=4.202486737950874, details={'was_impossible': False}),\n",
              " Prediction(uid='A8A1APZKMSQ6', iid='B0000B006W', r_ui=5.0, est=4.6028272430820865, details={'was_impossible': False}),\n",
              " Prediction(uid='A100R9RBV6F2WX', iid='B0000AC88K', r_ui=5.0, est=3.3396935505582444, details={'was_impossible': False}),\n",
              " Prediction(uid='AC2AVPLYW35XX', iid='B00005N5WW', r_ui=5.0, est=4.073070916565836, details={'was_impossible': False}),\n",
              " Prediction(uid='ACO78TU0NTV3F', iid='B00005I9RU', r_ui=5.0, est=3.8931187503655678, details={'was_impossible': False}),\n",
              " Prediction(uid='A1MX7BFIXDH1YO', iid='B00008VF5W', r_ui=4.0, est=2.887012109626695, details={'was_impossible': False}),\n",
              " Prediction(uid='A3B3KNXQ2VZMUJ', iid='B0000BVV37', r_ui=5.0, est=3.7487404241958577, details={'was_impossible': False}),\n",
              " Prediction(uid='A2A8RWX4APTK1U', iid='B00007M1TZ', r_ui=1.0, est=3.9832007484068357, details={'was_impossible': False}),\n",
              " Prediction(uid='A1AWEUP7N4R45K', iid='B00008WIX3', r_ui=2.0, est=3.994911830629708, details={'was_impossible': False}),\n",
              " Prediction(uid='AT3FPK4QBWS2E', iid='B00008XKYO', r_ui=4.0, est=3.434796009244042, details={'was_impossible': False}),\n",
              " Prediction(uid='AM3FH1Q8Q9TW7', iid='B00009KAPX', r_ui=2.0, est=3.8490702749182466, details={'was_impossible': False}),\n",
              " Prediction(uid='A11TN93KNDDE5V', iid='B00006JPRQ', r_ui=3.0, est=2.861189268426005, details={'was_impossible': False}),\n",
              " Prediction(uid='ALQUKXFY8IXBY', iid='B00004Z5D1', r_ui=5.0, est=4.451837177304827, details={'was_impossible': False}),\n",
              " Prediction(uid='A9KAMH7JTTAVA', iid='B000067O5G', r_ui=4.0, est=3.708235703761108, details={'was_impossible': False}),\n",
              " Prediction(uid='A3MHZ9J5R8BNVY', iid='B00007E7C8', r_ui=5.0, est=4.385523478967096, details={'was_impossible': False}),\n",
              " Prediction(uid='A30MXN97UTNS19', iid='B00008Z1PT', r_ui=5.0, est=3.8698219966409786, details={'was_impossible': False}),\n",
              " Prediction(uid='A3DEIFUEKD46QF', iid='B0000A0AEM', r_ui=4.0, est=3.998008916768649, details={'was_impossible': False}),\n",
              " Prediction(uid='A2VIA7WQU91CM0', iid='B00005219A', r_ui=4.0, est=4.00824965825011, details={'was_impossible': False}),\n",
              " Prediction(uid='A26J1SZ8NHRSFH', iid='B00009XV3M', r_ui=4.0, est=4.420507308940863, details={'was_impossible': False}),\n",
              " Prediction(uid='A2J82U5E0G27H5', iid='B00007M1TZ', r_ui=5.0, est=3.9832007484068357, details={'was_impossible': False}),\n",
              " Prediction(uid='A22BGFCDBLZOOG', iid='B00005NOKT', r_ui=1.0, est=3.9147850075547397, details={'was_impossible': False}),\n",
              " Prediction(uid='A2WM45XB3302MU', iid='B00009EHJV', r_ui=5.0, est=4.1582076139091955, details={'was_impossible': False}),\n",
              " Prediction(uid='A3PWYNI83YFXIH', iid='B0000VYJRY', r_ui=4.0, est=4.543259478597287, details={'was_impossible': False}),\n",
              " Prediction(uid='A1F5K734B8P2UN', iid='B00011KM38', r_ui=2.0, est=4.598150128746584, details={'was_impossible': False}),\n",
              " Prediction(uid='AD4KIQJ587RRK', iid='B00009R6WT', r_ui=5.0, est=4.564150549223032, details={'was_impossible': False}),\n",
              " Prediction(uid='A3DU6EVIEAJDLW', iid='B00008N6Y8', r_ui=1.0, est=2.998738116472255, details={'was_impossible': False}),\n",
              " Prediction(uid='AU81CNP0YW8G', iid='B0000BYDKO', r_ui=4.0, est=3.381920140286872, details={'was_impossible': False}),\n",
              " Prediction(uid='AJ8TQE36ZIVQA', iid='B00005K47X', r_ui=5.0, est=4.571596885066515, details={'was_impossible': False}),\n",
              " Prediction(uid='A7E3XGD25PG60', iid='B00007M1TZ', r_ui=5.0, est=3.9832007484068357, details={'was_impossible': False}),\n",
              " Prediction(uid='ALIIDIUSXEO7Y', iid='B000067RC4', r_ui=3.0, est=4.237429296050364, details={'was_impossible': False}),\n",
              " Prediction(uid='A1Z6EIIIX48UNQ', iid='B00007IFED', r_ui=3.0, est=4.174131009942524, details={'was_impossible': False}),\n",
              " Prediction(uid='A22M4MX9NHHQQA', iid='B0000510ZO', r_ui=5.0, est=4.385272493660098, details={'was_impossible': False}),\n",
              " Prediction(uid='A2BNROR4AVC9X7', iid='B0000AOWVC', r_ui=5.0, est=3.2091279647455244, details={'was_impossible': False}),\n",
              " Prediction(uid='A3VNAKMYO27RFX', iid='B00001P4XA', r_ui=4.0, est=3.8465843382975526, details={'was_impossible': False}),\n",
              " Prediction(uid='A1Z3TJKMAU83HW', iid='B0000BVYTV', r_ui=4.0, est=3.924488510685052, details={'was_impossible': False}),\n",
              " Prediction(uid='AMNQ4QPC6GZLI', iid='B00004ZC8Y', r_ui=5.0, est=4.2736717581240296, details={'was_impossible': False}),\n",
              " Prediction(uid='A3A5VFB23T9ZSJ', iid='B00004X10B', r_ui=5.0, est=4.679113221082017, details={'was_impossible': False}),\n",
              " Prediction(uid='A2DGDTRCYBBNRI', iid='B00009R6TA', r_ui=5.0, est=4.466457125483206, details={'was_impossible': False}),\n",
              " Prediction(uid='A3PVJ50O39G2K5', iid='B00005114Z', r_ui=5.0, est=4.044855473808043, details={'was_impossible': False}),\n",
              " Prediction(uid='AH6LPXSAUGEMB', iid='B0000ALLYO', r_ui=5.0, est=4.274168754011517, details={'was_impossible': False}),\n",
              " Prediction(uid='A2C352EB1Z0PZK', iid='B00009XVA3', r_ui=4.0, est=4.239066150556417, details={'was_impossible': False}),\n",
              " Prediction(uid='A1ZENIHFZXYZRJ', iid='B00008X5DE', r_ui=5.0, est=4.220164945536453, details={'was_impossible': False}),\n",
              " Prediction(uid='A1F4HF9WH15R3C', iid='B00009XVCZ', r_ui=5.0, est=4.5394065447039615, details={'was_impossible': False}),\n",
              " Prediction(uid='A2TXURDAKLL3SU', iid='B00009EHJV', r_ui=3.0, est=4.160328579765741, details={'was_impossible': False}),\n",
              " Prediction(uid='A1I41UBFWDD8G2', iid='B00007E7C8', r_ui=5.0, est=4.385523478967096, details={'was_impossible': False}),\n",
              " Prediction(uid='AV1BGT89ICVX3', iid='B0000BZL1P', r_ui=5.0, est=4.767396249474699, details={'was_impossible': False}),\n",
              " Prediction(uid='A3PLRK674FX2ZY', iid='B0000BYDKO', r_ui=1.0, est=3.381920140286872, details={'was_impossible': False}),\n",
              " Prediction(uid='AI8CGQQK69JYT', iid='B00006B7DA', r_ui=5.0, est=3.8983805637714477, details={'was_impossible': False}),\n",
              " Prediction(uid='A2KS39L8FA73JN', iid='B00006HYWR', r_ui=1.0, est=2.885298449508615, details={'was_impossible': False}),\n",
              " Prediction(uid='A1TRB4WG92WW', iid='B000063574', r_ui=5.0, est=4.135716781427137, details={'was_impossible': False}),\n",
              " Prediction(uid='A2T2TNN7F9E9WO', iid='B00004T8R2', r_ui=5.0, est=4.259323943389856, details={'was_impossible': False}),\n",
              " Prediction(uid='A395X8W1ZJFNPU', iid='B00008KWWF', r_ui=5.0, est=4.049125578175985, details={'was_impossible': False}),\n",
              " Prediction(uid='A2IUYFB27ADY83', iid='B000095SB4', r_ui=4.0, est=3.5567070926418958, details={'was_impossible': False}),\n",
              " Prediction(uid='A2LZSPR192KEX6', iid='B00000J1V5', r_ui=5.0, est=4.583706730296116, details={'was_impossible': False}),\n",
              " Prediction(uid='A3I8KWK1VNN92T', iid='B00011KM38', r_ui=5.0, est=4.630306956175152, details={'was_impossible': False}),\n",
              " Prediction(uid='A263OQLPKEXPF1', iid='0972683275', r_ui=5.0, est=4.472750777235683, details={'was_impossible': False}),\n",
              " Prediction(uid='A2K93MKN4ATNM0', iid='B0000BZOGJ', r_ui=4.0, est=4.425971455253694, details={'was_impossible': False}),\n",
              " Prediction(uid='ARST4JSGH47JU', iid='B00009XVCZ', r_ui=5.0, est=4.5394065447039615, details={'was_impossible': False}),\n",
              " Prediction(uid='A3QUHF982LST5N', iid='B00004ZCJE', r_ui=1.0, est=4.135556997034983, details={'was_impossible': False}),\n",
              " Prediction(uid='AH19PG4IQ4KL3', iid='B00004THCZ', r_ui=2.0, est=4.178382406574259, details={'was_impossible': False}),\n",
              " Prediction(uid='A2BDN78DVJ86P8', iid='B00004ZCJE', r_ui=1.0, est=4.170987262826986, details={'was_impossible': False}),\n",
              " Prediction(uid='A3RF4KPIZDFJG6', iid='B00005ATMB', r_ui=5.0, est=4.361008900909548, details={'was_impossible': False}),\n",
              " Prediction(uid='AWY1GALGVARSQ', iid='B00006I5WJ', r_ui=5.0, est=4.007435789653588, details={'was_impossible': False}),\n",
              " Prediction(uid='A30A7GGVPIYN6L', iid='B00004Z5M1', r_ui=5.0, est=4.560932013732071, details={'was_impossible': False}),\n",
              " Prediction(uid='A3AZRD8EMBL8Y2', iid='B000095SB4', r_ui=4.0, est=3.5567070926418958, details={'was_impossible': False}),\n",
              " Prediction(uid='A2ZXX11QCOTR49', iid='B00009ZY5C', r_ui=5.0, est=3.0702232331506885, details={'was_impossible': False}),\n",
              " Prediction(uid='AMQF21ATG0MAJ', iid='B000051ZOA', r_ui=5.0, est=3.9172171791767494, details={'was_impossible': False}),\n",
              " Prediction(uid='ABK9YZIUN5RMQ', iid='B00008SCFL', r_ui=1.0, est=3.0635283126093844, details={'was_impossible': False}),\n",
              " Prediction(uid='A2V9D2CCJ7EECX', iid='B000065BPB', r_ui=5.0, est=4.346007536012332, details={'was_impossible': False}),\n",
              " Prediction(uid='A1E282S4ZSTBWI', iid='B00004VUGJ', r_ui=4.0, est=4.276881494851035, details={'was_impossible': False}),\n",
              " Prediction(uid='A1NZLRAZJGD99W', iid='B00005T3GH', r_ui=5.0, est=4.184797929003649, details={'was_impossible': False}),\n",
              " Prediction(uid='A20Q8IOS2PWZKI', iid='B00002EQCW', r_ui=5.0, est=4.605734991536119, details={'was_impossible': False}),\n",
              " Prediction(uid='A3IUZ17IG9H7HO', iid='B00005853Z', r_ui=5.0, est=4.405299595638452, details={'was_impossible': False}),\n",
              " Prediction(uid='ABFMCMZDV4J75', iid='B00004SB92', r_ui=5.0, est=3.917591041725252, details={'was_impossible': False}),\n",
              " Prediction(uid='A5W21HTAWOSV8', iid='B0000AZK0D', r_ui=5.0, est=3.677333956211913, details={'was_impossible': False}),\n",
              " Prediction(uid='A22STM4RYG2QCC', iid='B0000B3ALD', r_ui=5.0, est=4.539860611397786, details={'was_impossible': False}),\n",
              " Prediction(uid='ADEQ7YUCJ1PYX', iid='B00005AXHW', r_ui=5.0, est=4.460122095751062, details={'was_impossible': False}),\n",
              " Prediction(uid='A10LQ7WUBJNSDP', iid='B00009QOS3', r_ui=4.0, est=4.150690914860576, details={'was_impossible': False}),\n",
              " Prediction(uid='AOAF1NOQWLYPQ', iid='B00007E7K0', r_ui=1.0, est=4.703361567660607, details={'was_impossible': False}),\n",
              " Prediction(uid='AFMJG6AH7SWZW', iid='B000065BP9', r_ui=5.0, est=4.326850103072223, details={'was_impossible': False}),\n",
              " Prediction(uid='A3DE6NCVQ26DGN', iid='B0000Y2WTS', r_ui=5.0, est=3.2055337719181534, details={'was_impossible': False}),\n",
              " Prediction(uid='A3H2JGMT17L5O6', iid='B00005Y1Z7', r_ui=1.0, est=3.7715346734070594, details={'was_impossible': False}),\n",
              " Prediction(uid='A337IZLJ1M15V', iid='B00000J1V5', r_ui=5.0, est=4.55276394796594, details={'was_impossible': False}),\n",
              " Prediction(uid='A258ZZ6XBGCUD', iid='B00009EHJV', r_ui=5.0, est=4.160328579765741, details={'was_impossible': False}),\n",
              " Prediction(uid='A3IQ0YU523Y2X', iid='B00005Y3OM', r_ui=1.0, est=3.9906725820242697, details={'was_impossible': False}),\n",
              " Prediction(uid='A3CSWGNGP9HH9N', iid='B000092YQW', r_ui=4.0, est=3.485705909182161, details={'was_impossible': False}),\n",
              " Prediction(uid='A3JLHR6G7H95BB', iid='B00005ML7Q', r_ui=4.0, est=3.991492714420893, details={'was_impossible': False}),\n",
              " Prediction(uid='A3FLO8MBU3RN7G', iid='B0000AE6G9', r_ui=5.0, est=3.9134519244308965, details={'was_impossible': False}),\n",
              " Prediction(uid='A2WGOBF71Q1Z2F', iid='B00005T380', r_ui=5.0, est=4.709078021153637, details={'was_impossible': False}),\n",
              " Prediction(uid='A1TGIQPY7ZMPI7', iid='B00005Y3OM', r_ui=4.0, est=3.9906725820242697, details={'was_impossible': False}),\n",
              " Prediction(uid='A1DRQU0T88H58H', iid='B000065BPB', r_ui=5.0, est=4.346007536012332, details={'was_impossible': False}),\n",
              " Prediction(uid='AROQO2VDODT7', iid='B00009R6WU', r_ui=5.0, est=4.601737211365755, details={'was_impossible': False}),\n",
              " Prediction(uid='AOIADNJYCHZI3', iid='B00007E7JU', r_ui=3.0, est=4.58573964045566, details={'was_impossible': False}),\n",
              " Prediction(uid='A2RGN5FDA411OY', iid='B000067RVL', r_ui=5.0, est=4.118812762596617, details={'was_impossible': False}),\n",
              " Prediction(uid='A3EV5MOMMIVIIR', iid='B00009R6TA', r_ui=5.0, est=4.466457125483206, details={'was_impossible': False}),\n",
              " Prediction(uid='A5N4PFTWU47YK', iid='B00006RVPW', r_ui=5.0, est=4.470945573558729, details={'was_impossible': False}),\n",
              " Prediction(uid='ARE6YF7MSYCQ6', iid='B00001P4XA', r_ui=1.0, est=3.8156415559673764, details={'was_impossible': False}),\n",
              " Prediction(uid='ASE2CKMRY30V2', iid='B00009W3TY', r_ui=2.0, est=3.863560882393623, details={'was_impossible': False}),\n",
              " Prediction(uid='AHLZGWYNFXM8N', iid='B00006HMPK', r_ui=4.0, est=3.8021586432158556, details={'was_impossible': False}),\n",
              " Prediction(uid='ABX2QPLO2JUJI', iid='B00008EM7U', r_ui=5.0, est=3.5542861484169284, details={'was_impossible': False}),\n",
              " Prediction(uid='A2748AP5BY6NU9', iid='B00003CWDH', r_ui=5.0, est=4.390548735836612, details={'was_impossible': False}),\n",
              " Prediction(uid='A1AJPQK4BX058Z', iid='B00004SB92', r_ui=1.0, est=3.917591041725252, details={'was_impossible': False}),\n",
              " Prediction(uid='A13DDUENBR1CW8', iid='B00004TX6Z', r_ui=5.0, est=4.510463755374403, details={'was_impossible': False}),\n",
              " Prediction(uid='AZQM0G48SRR1S', iid='B00009U0XI', r_ui=4.0, est=4.157085098941635, details={'was_impossible': False}),\n",
              " Prediction(uid='A1X0N15AW7OFD2', iid='B00005OQMO', r_ui=4.0, est=4.1829806426344245, details={'was_impossible': False}),\n",
              " Prediction(uid='A21RIIPSGC6XK9', iid='B00007E7C8', r_ui=4.0, est=4.385523478967096, details={'was_impossible': False}),\n",
              " Prediction(uid='A12SC1XP44ONAL', iid='B00011KM38', r_ui=5.0, est=4.598150128746584, details={'was_impossible': False}),\n",
              " Prediction(uid='A3DWGM3RA2N66E', iid='B00004WCIC', r_ui=4.0, est=4.326862518891657, details={'was_impossible': False}),\n",
              " Prediction(uid='A3SAI53Q6QNEUP', iid='B00006I53S', r_ui=3.0, est=4.260753414075224, details={'was_impossible': False}),\n",
              " Prediction(uid='A3JQUVUKHTVRML', iid='B00005AT7Y', r_ui=2.0, est=3.66856801433685, details={'was_impossible': False}),\n",
              " Prediction(uid='ASN17Z9PL0KSG', iid='B00006L4FX', r_ui=5.0, est=4.217992715397832, details={'was_impossible': False}),\n",
              " Prediction(uid='A23KZ0TXHGU110', iid='B00005K47X', r_ui=5.0, est=4.571596885066515, details={'was_impossible': False}),\n",
              " Prediction(uid='A3MEXNIOW8NMEU', iid='B00007M1TZ', r_ui=4.0, est=3.9832007484068357, details={'was_impossible': False}),\n",
              " Prediction(uid='A3VTWL39U8MAON', iid='B00001WRSJ', r_ui=5.0, est=4.581961243428604, details={'was_impossible': False}),\n",
              " Prediction(uid='AGNPN0ROWRTGN', iid='B000067RC4', r_ui=5.0, est=4.202486737950874, details={'was_impossible': False}),\n",
              " Prediction(uid='A1Q460UZZSOAVG', iid='B00005BMSN', r_ui=5.0, est=4.306993006821633, details={'was_impossible': False}),\n",
              " Prediction(uid='AHIMLGM4TZXHF', iid='B00007E7C8', r_ui=5.0, est=4.385523478967096, details={'was_impossible': False}),\n",
              " Prediction(uid='A1LBDWXREY7ELI', iid='B000092YQW', r_ui=1.0, est=3.485705909182161, details={'was_impossible': False}),\n",
              " Prediction(uid='AHKS7M8N3T9G6', iid='B00005ATMI', r_ui=4.0, est=4.309591565663058, details={'was_impossible': False}),\n",
              " Prediction(uid='A1JJJXS2KZX8MS', iid='B00008KWWF', r_ui=5.0, est=4.049125578175985, details={'was_impossible': False}),\n",
              " Prediction(uid='A8MUEGKJIFYJK', iid='B00007KDVK', r_ui=5.0, est=3.68468826902894, details={'was_impossible': False}),\n",
              " Prediction(uid='A2X8V9CRVACR0P', iid='B00004SABB', r_ui=4.0, est=4.018173817812287, details={'was_impossible': False}),\n",
              " Prediction(uid='AWETUVHOK2NJF', iid='B00002EQCW', r_ui=5.0, est=4.605734991536119, details={'was_impossible': False}),\n",
              " Prediction(uid='AMT7Z4FSAYR84', iid='B000075UZ7', r_ui=1.0, est=3.7326909521888028, details={'was_impossible': False}),\n",
              " Prediction(uid='A2T9NXYSGO680F', iid='B0000CDJPQ', r_ui=5.0, est=4.472691425061386, details={'was_impossible': False}),\n",
              " Prediction(uid='A3I7V3U4MF7FBI', iid='B000068O3T', r_ui=1.0, est=3.979022442965999, details={'was_impossible': False}),\n",
              " Prediction(uid='A1TPNBWSAW4WZP', iid='B000065BP9', r_ui=5.0, est=4.296300365917095, details={'was_impossible': False}),\n",
              " Prediction(uid='A3L60UJZQ0O0R5', iid='B00005853Z', r_ui=5.0, est=4.526343664414106, details={'was_impossible': False}),\n",
              " Prediction(uid='A2XJ7KJFGBEWEI', iid='B00004TJ7O', r_ui=5.0, est=4.633926539067246, details={'was_impossible': False}),\n",
              " Prediction(uid='A3UHU5EYXTEWH8', iid='1400501466', r_ui=5.0, est=3.565085154162557, details={'was_impossible': False}),\n",
              " Prediction(uid='A2IJWNVXDXFFUQ', iid='B00009UHXR', r_ui=4.0, est=3.5524046469447885, details={'was_impossible': False}),\n",
              " Prediction(uid='A1A306IAZ3TM1', iid='B00009EHJV', r_ui=5.0, est=4.23151545013671, details={'was_impossible': False}),\n",
              " Prediction(uid='A28F9C3JU1MTU9', iid='B00007GQLS', r_ui=4.0, est=4.630206724523093, details={'was_impossible': False}),\n",
              " Prediction(uid='A26GMWL0JNBN73', iid='B000095SB6', r_ui=4.0, est=3.543706160366265, details={'was_impossible': False}),\n",
              " Prediction(uid='A2DIGC6KB46WW0', iid='B00009UT3F', r_ui=5.0, est=4.186846444405237, details={'was_impossible': False}),\n",
              " ...]"
            ]
          },
          "metadata": {
            "tags": []
          },
          "execution_count": 29
        }
      ]
    },
    {
      "cell_type": "code",
      "metadata": {
        "id": "xB2UQ6ygSz7R",
        "colab_type": "code",
        "colab": {
          "base_uri": "https://localhost:8080/",
          "height": 68
        },
        "outputId": "e07188c0-b42d-4155-f0ed-8bc259baf17a"
      },
      "source": [
        "# get RMSE\n",
        "print(\"Item-based Model : Test Set\")\n",
        "accuracy.rmse(test_pred, verbose=True)"
      ],
      "execution_count": 30,
      "outputs": [
        {
          "output_type": "stream",
          "text": [
            "Item-based Model : Test Set\n",
            "RMSE: 1.2452\n"
          ],
          "name": "stdout"
        },
        {
          "output_type": "execute_result",
          "data": {
            "text/plain": [
              "1.2452478892480283"
            ]
          },
          "metadata": {
            "tags": []
          },
          "execution_count": 30
        }
      ]
    },
    {
      "cell_type": "code",
      "metadata": {
        "id": "JLzHMISIS5kb",
        "colab_type": "code",
        "colab": {}
      },
      "source": [
        "def get_Iu(uid):\n",
        "    \"\"\" return the number of items rated by given user\n",
        "    args: \n",
        "      uid: the id of the user\n",
        "    returns: \n",
        "      the number of items rated by the user\n",
        "    \"\"\"\n",
        "    try:\n",
        "        return len(trainset.ur[trainset.to_inner_uid(uid)])\n",
        "    except ValueError: # user was not part of the trainset\n",
        "        return 0\n",
        "    \n",
        "def get_Ui(iid):\n",
        "    \"\"\" return number of users that have rated given item\n",
        "    args:\n",
        "      iid: the raw id of the item\n",
        "    returns:\n",
        "      the number of users that have rated the item.\n",
        "    \"\"\"\n",
        "    try: \n",
        "        return len(trainset.ir[trainset.to_inner_iid(iid)])\n",
        "    except ValueError:\n",
        "        return 0\n",
        "    \n",
        "df = pd.DataFrame(predictions, columns=['uid', 'iid', 'rui', 'est', 'details'])\n",
        "df['Iu'] = df.uid.apply(get_Iu)\n",
        "df['Ui'] = df.iid.apply(get_Ui)\n",
        "df['err'] = abs(df.est - df.rui)\n",
        "best_predictions = df.sort_values(by='err')[:10]\n",
        "worst_predictions = df.sort_values(by='err')[-10:]"
      ],
      "execution_count": 0,
      "outputs": []
    },
    {
      "cell_type": "code",
      "metadata": {
        "id": "ahpRFFu9mJY5",
        "colab_type": "code",
        "colab": {
          "base_uri": "https://localhost:8080/",
          "height": 204
        },
        "outputId": "dbf4d236-0158-4e50-c38d-8c6a911e80a4"
      },
      "source": [
        "best_predictions.head()"
      ],
      "execution_count": 33,
      "outputs": [
        {
          "output_type": "execute_result",
          "data": {
            "text/html": [
              "<div>\n",
              "<style scoped>\n",
              "    .dataframe tbody tr th:only-of-type {\n",
              "        vertical-align: middle;\n",
              "    }\n",
              "\n",
              "    .dataframe tbody tr th {\n",
              "        vertical-align: top;\n",
              "    }\n",
              "\n",
              "    .dataframe thead th {\n",
              "        text-align: right;\n",
              "    }\n",
              "</style>\n",
              "<table border=\"1\" class=\"dataframe\">\n",
              "  <thead>\n",
              "    <tr style=\"text-align: right;\">\n",
              "      <th></th>\n",
              "      <th>uid</th>\n",
              "      <th>iid</th>\n",
              "      <th>rui</th>\n",
              "      <th>est</th>\n",
              "      <th>details</th>\n",
              "      <th>Iu</th>\n",
              "      <th>Ui</th>\n",
              "      <th>err</th>\n",
              "    </tr>\n",
              "  </thead>\n",
              "  <tbody>\n",
              "    <tr>\n",
              "      <th>28277</th>\n",
              "      <td>A1MVSX9232K1XQ</td>\n",
              "      <td>B000053HC5</td>\n",
              "      <td>5.0</td>\n",
              "      <td>5.0</td>\n",
              "      <td>{'was_impossible': False}</td>\n",
              "      <td>1</td>\n",
              "      <td>122</td>\n",
              "      <td>0.0</td>\n",
              "    </tr>\n",
              "    <tr>\n",
              "      <th>26517</th>\n",
              "      <td>A3GQKB1KF0CRPE</td>\n",
              "      <td>B00004Z5M1</td>\n",
              "      <td>5.0</td>\n",
              "      <td>5.0</td>\n",
              "      <td>{'was_impossible': False}</td>\n",
              "      <td>10</td>\n",
              "      <td>616</td>\n",
              "      <td>0.0</td>\n",
              "    </tr>\n",
              "    <tr>\n",
              "      <th>34419</th>\n",
              "      <td>A3Q0KBS1XEF30I</td>\n",
              "      <td>B000053HC5</td>\n",
              "      <td>5.0</td>\n",
              "      <td>5.0</td>\n",
              "      <td>{'was_impossible': False}</td>\n",
              "      <td>1</td>\n",
              "      <td>122</td>\n",
              "      <td>0.0</td>\n",
              "    </tr>\n",
              "    <tr>\n",
              "      <th>15087</th>\n",
              "      <td>A2W362SNNS6O6</td>\n",
              "      <td>B000053HC5</td>\n",
              "      <td>5.0</td>\n",
              "      <td>5.0</td>\n",
              "      <td>{'was_impossible': False}</td>\n",
              "      <td>2</td>\n",
              "      <td>122</td>\n",
              "      <td>0.0</td>\n",
              "    </tr>\n",
              "    <tr>\n",
              "      <th>31035</th>\n",
              "      <td>A2JFOHC9W629IE</td>\n",
              "      <td>B00006I53X</td>\n",
              "      <td>5.0</td>\n",
              "      <td>5.0</td>\n",
              "      <td>{'was_impossible': False}</td>\n",
              "      <td>5</td>\n",
              "      <td>188</td>\n",
              "      <td>0.0</td>\n",
              "    </tr>\n",
              "  </tbody>\n",
              "</table>\n",
              "</div>"
            ],
            "text/plain": [
              "                  uid         iid  rui  ...  Iu   Ui  err\n",
              "28277  A1MVSX9232K1XQ  B000053HC5  5.0  ...   1  122  0.0\n",
              "26517  A3GQKB1KF0CRPE  B00004Z5M1  5.0  ...  10  616  0.0\n",
              "34419  A3Q0KBS1XEF30I  B000053HC5  5.0  ...   1  122  0.0\n",
              "15087   A2W362SNNS6O6  B000053HC5  5.0  ...   2  122  0.0\n",
              "31035  A2JFOHC9W629IE  B00006I53X  5.0  ...   5  188  0.0\n",
              "\n",
              "[5 rows x 8 columns]"
            ]
          },
          "metadata": {
            "tags": []
          },
          "execution_count": 33
        }
      ]
    },
    {
      "cell_type": "markdown",
      "metadata": {
        "id": "I4XLlsCNmc1H",
        "colab_type": "text"
      },
      "source": [
        "The above are the best predictions, and they are not lucky guesses. Because Ui is anywhere between 122 to 616, they are not really small, meaning that significant number of users have rated the product"
      ]
    },
    {
      "cell_type": "code",
      "metadata": {
        "id": "UArArESUmNmk",
        "colab_type": "code",
        "colab": {
          "base_uri": "https://localhost:8080/",
          "height": 204
        },
        "outputId": "d3410660-9ba9-49b3-a464-356256189e2e"
      },
      "source": [
        "worst_predictions.head()"
      ],
      "execution_count": 34,
      "outputs": [
        {
          "output_type": "execute_result",
          "data": {
            "text/html": [
              "<div>\n",
              "<style scoped>\n",
              "    .dataframe tbody tr th:only-of-type {\n",
              "        vertical-align: middle;\n",
              "    }\n",
              "\n",
              "    .dataframe tbody tr th {\n",
              "        vertical-align: top;\n",
              "    }\n",
              "\n",
              "    .dataframe thead th {\n",
              "        text-align: right;\n",
              "    }\n",
              "</style>\n",
              "<table border=\"1\" class=\"dataframe\">\n",
              "  <thead>\n",
              "    <tr style=\"text-align: right;\">\n",
              "      <th></th>\n",
              "      <th>uid</th>\n",
              "      <th>iid</th>\n",
              "      <th>rui</th>\n",
              "      <th>est</th>\n",
              "      <th>details</th>\n",
              "      <th>Iu</th>\n",
              "      <th>Ui</th>\n",
              "      <th>err</th>\n",
              "    </tr>\n",
              "  </thead>\n",
              "  <tbody>\n",
              "    <tr>\n",
              "      <th>446</th>\n",
              "      <td>A1T8XII6RY0ZC7</td>\n",
              "      <td>B0000BZL1P</td>\n",
              "      <td>1.0</td>\n",
              "      <td>4.767396</td>\n",
              "      <td>{'was_impossible': False}</td>\n",
              "      <td>0</td>\n",
              "      <td>736</td>\n",
              "      <td>3.767396</td>\n",
              "    </tr>\n",
              "    <tr>\n",
              "      <th>11499</th>\n",
              "      <td>A3GYXX7ZH7YAJ6</td>\n",
              "      <td>B0000BZL1P</td>\n",
              "      <td>1.0</td>\n",
              "      <td>4.767396</td>\n",
              "      <td>{'was_impossible': False}</td>\n",
              "      <td>0</td>\n",
              "      <td>736</td>\n",
              "      <td>3.767396</td>\n",
              "    </tr>\n",
              "    <tr>\n",
              "      <th>16234</th>\n",
              "      <td>A1SV33K0SHQBSY</td>\n",
              "      <td>B0000BZL1P</td>\n",
              "      <td>1.0</td>\n",
              "      <td>4.767396</td>\n",
              "      <td>{'was_impossible': False}</td>\n",
              "      <td>0</td>\n",
              "      <td>736</td>\n",
              "      <td>3.767396</td>\n",
              "    </tr>\n",
              "    <tr>\n",
              "      <th>15191</th>\n",
              "      <td>A2TZL219H1XLVH</td>\n",
              "      <td>B0000BZL1P</td>\n",
              "      <td>1.0</td>\n",
              "      <td>4.767396</td>\n",
              "      <td>{'was_impossible': False}</td>\n",
              "      <td>0</td>\n",
              "      <td>736</td>\n",
              "      <td>3.767396</td>\n",
              "    </tr>\n",
              "    <tr>\n",
              "      <th>14396</th>\n",
              "      <td>A2J7LX31PMGQMV</td>\n",
              "      <td>B0000BZL1P</td>\n",
              "      <td>1.0</td>\n",
              "      <td>4.767396</td>\n",
              "      <td>{'was_impossible': False}</td>\n",
              "      <td>0</td>\n",
              "      <td>736</td>\n",
              "      <td>3.767396</td>\n",
              "    </tr>\n",
              "  </tbody>\n",
              "</table>\n",
              "</div>"
            ],
            "text/plain": [
              "                  uid         iid  rui  ...  Iu   Ui       err\n",
              "446    A1T8XII6RY0ZC7  B0000BZL1P  1.0  ...   0  736  3.767396\n",
              "11499  A3GYXX7ZH7YAJ6  B0000BZL1P  1.0  ...   0  736  3.767396\n",
              "16234  A1SV33K0SHQBSY  B0000BZL1P  1.0  ...   0  736  3.767396\n",
              "15191  A2TZL219H1XLVH  B0000BZL1P  1.0  ...   0  736  3.767396\n",
              "14396  A2J7LX31PMGQMV  B0000BZL1P  1.0  ...   0  736  3.767396\n",
              "\n",
              "[5 rows x 8 columns]"
            ]
          },
          "metadata": {
            "tags": []
          },
          "execution_count": 34
        }
      ]
    },
    {
      "cell_type": "markdown",
      "metadata": {
        "id": "GGjRa4B3nWdN",
        "colab_type": "text"
      },
      "source": [
        "Above are the worst predictions as the actual rating is 1 but the estimated rating is near 5. "
      ]
    },
    {
      "cell_type": "code",
      "metadata": {
        "id": "49EwSB35nhh-",
        "colab_type": "code",
        "colab": {}
      },
      "source": [
        ""
      ],
      "execution_count": 0,
      "outputs": []
    }
  ]
}